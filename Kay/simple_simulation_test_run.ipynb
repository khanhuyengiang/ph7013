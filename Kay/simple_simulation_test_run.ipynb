{
 "cells": [
  {
   "cell_type": "code",
   "execution_count": null,
   "metadata": {},
   "outputs": [],
   "source": [
    "import sys\n",
    "from simple_simulation_inverse_search import gates_set, matrix_list, add_inverse_gates\n",
    "from simple_simulation_hardware import simple_compiler, simple_processor, single_simple_simulation\n",
    "%matplotlib inline\n",
    "import matplotlib.pyplot as plt\n",
    "import numpy as np"
   ]
  },
  {
   "cell_type": "code",
   "execution_count": null,
   "metadata": {},
   "outputs": [],
   "source": [
    "def simulation_test_run(num_gates_list, num_sample, add_FPGA_noise = True, t1 = None, t2 = None):\n",
    "    fidelity_average = []\n",
    "    fidelity_error = []\n",
    "    for num_gates in num_gates_list:\n",
    "        fidelity_list = [single_simple_simulation(\n",
    "            num_gates, t1 = t1, t2 = t2, add_FPGA_noise = add_FPGA_noise\n",
    "            ) for i in range(num_sample)]\n",
    "        fidelity_average.append(np.mean(fidelity_list))\n",
    "        fidelity_error.append(np.std(fidelity_list) / np.sqrt(num_sample))\n",
    "    \n",
    "    return fidelity_average, fidelity_error"
   ]
  },
  {
   "cell_type": "code",
   "execution_count": null,
   "metadata": {},
   "outputs": [],
   "source": [
    "# For num_sample = 20, takes about 5 min\n",
    "num_sample = 10\n",
    "#num_gates_list = np.linspace(1,300,25,dtype=int)\n",
    "num_gates_list = np.arange(5,105,10)"
   ]
  },
  {
   "cell_type": "code",
   "execution_count": null,
   "metadata": {},
   "outputs": [],
   "source": [
    "fidelity_baseline, error_baseline = simulation_test_run(\n",
    "    num_gates_list, num_sample, \n",
    "    add_FPGA_noise = False, t1 = None, t2 = None)\n",
    "fidelity_t1t2, error_t1t2 = simulation_test_run(\n",
    "    num_gates_list, num_sample, \n",
    "    add_FPGA_noise = False, t1 = 200, t2 = None)\n",
    "fidelity_FPGA, error_FPGA = simulation_test_run(\n",
    "    num_gates_list, num_sample, \n",
    "    add_FPGA_noise = True, t1 = None, t2 = None)\n",
    "fidelity_FPGA_t1t2, error_FPGA_t1t2 = simulation_test_run(\n",
    "    num_gates_list, num_sample, \n",
    "    add_FPGA_noise = True, t1 = 200, t2 = None)"
   ]
  },
  {
   "cell_type": "code",
   "execution_count": null,
   "metadata": {},
   "outputs": [],
   "source": [
    "plt.autoscale(enable=True, axis=\"y\", tight=False)\n",
    "plt.errorbar(num_gates_list, fidelity_baseline, yerr=error_baseline, \n",
    "             color='red', capsize=5,label = 'Baseline')\n",
    "plt.errorbar(num_gates_list, fidelity_t1t2, yerr=error_t1t2, \n",
    "             color='magenta', capsize=5, label = 'With decoherence')\n",
    "plt.errorbar(num_gates_list, fidelity_FPGA, yerr=error_FPGA, \n",
    "             color='blue', capsize=5, label = 'With FPGA noise')\n",
    "plt.errorbar(num_gates_list, fidelity_FPGA_t1t2, yerr=error_FPGA_t1t2, \n",
    "             color='cyan', capsize=5, label = 'With FPGA noise and decoherence')\n",
    "plt.legend()\n",
    "plt.xlabel(\"Number of Gates\")\n",
    "plt.ylabel(\"Ground State Fidelity\")"
   ]
  }
 ],
 "metadata": {
  "kernelspec": {
   "display_name": "Python 3",
   "language": "python",
   "name": "python3"
  },
  "language_info": {
   "codemirror_mode": {
    "name": "ipython",
    "version": 3
   },
   "file_extension": ".py",
   "mimetype": "text/x-python",
   "name": "python",
   "nbconvert_exporter": "python",
   "pygments_lexer": "ipython3",
   "version": "3.11.5"
  },
  "orig_nbformat": 4
 },
 "nbformat": 4,
 "nbformat_minor": 2
}
