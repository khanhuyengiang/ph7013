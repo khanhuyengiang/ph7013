{
 "cells": [
  {
   "cell_type": "code",
   "execution_count": 1,
   "metadata": {},
   "outputs": [],
   "source": [
    "import sys\n",
    "from simple_simulation_inverse_search import gates_set, matrix_list, add_inverse_gates\n",
    "from simple_simulation_hardware import simple_processor\n",
    "%matplotlib inline\n",
    "import matplotlib.pyplot as plt\n",
    "import numpy as np"
   ]
  },
  {
   "cell_type": "code",
   "execution_count": 2,
   "metadata": {},
   "outputs": [],
   "source": [
    "from qutip_qip.compiler import GateCompiler, Instruction\n",
    "from qutip_qip.device import ModelProcessor\n",
    "from qutip import (sigmax, sigmay, tensor)\n",
    "\n",
    "import functools # for reduce\n",
    "from qutip.qip.operations.gates import *\n",
    "from qutip import basis\n",
    "from qutip_qip.circuit import QubitCircuit\n",
    "from qutip.metrics import fidelity\n",
    "from qutip.qip.noise import RandomNoise"
   ]
  },
  {
   "cell_type": "code",
   "execution_count": 58,
   "metadata": {},
   "outputs": [],
   "source": [
    "class simple_compiler(GateCompiler):\n",
    "    \"\"\"\n",
    "    Custom compiler for generating pulses from gates using\n",
    "    the base class GateCompiler.\n",
    "\n",
    "    Args:\n",
    "        num_qubits (int): The number of qubits in the processor\n",
    "        params (dict): A dictionary of parameters for gate pulses\n",
    "                       such as the pulse amplitude.\n",
    "    \"\"\"\n",
    "\n",
    "    def __init__(self, num_qubits, params):\n",
    "        super().__init__(num_qubits, params=params)\n",
    "        self.params = params\n",
    "        self.gate_compiler = {\n",
    "            \"RX\": self.pulse_discretization_compiler,\n",
    "            \"RY\": self.pulse_discretization_compiler,\n",
    "        }\n",
    "\n",
    "    def generate_pulse(self, gate, tlist, coeff, phase=0.0):\n",
    "        \"\"\"Generates the pulses.\n",
    "\n",
    "        Args:\n",
    "            gate (qutip_qip.circuit.Gate): A qutip Gate object.\n",
    "            tlist (array): A list of times for the evolution.\n",
    "            coeff (array): An array of coefficients for the gate pulses\n",
    "            phase (float): The value of the phase for the gate.\n",
    "\n",
    "        Returns:\n",
    "            Instruction (qutip_qip.compiler.instruction.Instruction):\n",
    "            An instruction to implement a gate containing the control pulses.\n",
    "        \"\"\"\n",
    "        pulse_info = [\n",
    "            # (control label, coeff)\n",
    "            (\"sx\" + str(gate.targets[0]), np.cos(phase) * coeff),\n",
    "            (\"sy\" + str(gate.targets[0]), np.sin(phase) * coeff),\n",
    "        ]\n",
    "        return [Instruction(gate, tlist=tlist, pulse_info=pulse_info)]\n",
    "\n",
    "    def pulse_discretization_compiler(self, gate, args):\n",
    "        \"\"\"Compiles single-qubit gates to pulses.\n",
    "\n",
    "        Args:\n",
    "            gate (qutip_qip.circuit.Gate): A qutip Gate object.\n",
    "\n",
    "        Returns:\n",
    "            Instruction (qutip_qip.compiler.instruction.Instruction):\n",
    "            An instruction to implement a gate containing the control pulses.\n",
    "        \"\"\"\n",
    "        # gate.arg_value is the rotation angle\n",
    "        _step_list = np.linspace(0,1,11) # a time step list so that the noise work\n",
    "        coupling_time_series = np.abs(gate.arg_value) / self.params[\"pulse_amplitude\"] * _step_list\n",
    "        FPGA_voltage = self.params[\"pulse_amplitude\"] * np.sign(gate.arg_value) * (_step_list[:-1] *0 + 1)\n",
    "        if gate.name == \"RX\":\n",
    "            return self.generate_pulse(gate, tlist = coupling_time_series, coeff = FPGA_voltage, phase=0.0)\n",
    "        elif gate.name == \"RY\":\n",
    "            return self.generate_pulse(gate, tlist = coupling_time_series, coeff = FPGA_voltage, phase=np.pi / 2)\n"
   ]
  },
  {
   "cell_type": "code",
   "execution_count": 59,
   "metadata": {},
   "outputs": [],
   "source": [
    "def single_simple_simulation(num_gates, t1 = None, t2 = None, num_qubits = 1, add_FPGA_noise = False, pulse_amplitude = 1):\n",
    "    \"\"\"\n",
    "    A single simulation, with num_gates representing the number of rotations.\n",
    "\n",
    "    Args:\n",
    "        num_gates (int): The number of random gates to add in the simulation.\n",
    "        t1, t2 (float): Decoherence time of the qubits.\n",
    "        add_FPGA_noise (bool): Whether to add in gaussian FPGA noise to the simulation.\n",
    "\n",
    "    Returns:\n",
    "        final_fidelity (float):\n",
    "            Fidelity of the result state (obtained from \n",
    "            mesolve solver method) and the initial state.\n",
    "    \"\"\"\n",
    "     \n",
    "    myprocessor = simple_processor(num_qubits, t1 = t1, t2 = t2)\n",
    "    myprocessor.native_gates = None  # Remove the native gates\n",
    "    mycompiler = simple_compiler(num_qubits,{\"pulse_amplitude\": pulse_amplitude})\n",
    "\n",
    "    # Ground state for n qubits\n",
    "    init_state = functools.reduce(lambda a, b: tensor(a,b), [basis(2, 0)] * num_qubits)\n",
    "\n",
    "    # Define a random circuit.\n",
    "    circuit = QubitCircuit(num_qubits)\n",
    "    clifford = rx(0)\n",
    "    for ind in np.random.randint(0, 6, num_gates):\n",
    "        circuit.add_gate(gates_set[ind])\n",
    "        clifford = matrix_list[ind] * clifford\n",
    "\n",
    "    # Finding inverse Clifford for the random sequence of gate\n",
    "    add_inverse_gates(clifford, init_state, circuit = circuit)\n",
    "\n",
    "    # Simulate the circuit.\n",
    "    myprocessor.load_circuit(circuit, compiler=mycompiler)\n",
    "    \n",
    "    # FPGA gaussian noise\n",
    "    if add_FPGA_noise == True:\n",
    "        FPGA_noise = RandomNoise(dt=1e-9, indices = [0,1], rand_gen=np.random.normal, loc=0.00, scale=0.3)\n",
    "        myprocessor.add_noise(FPGA_noise)\n",
    "    \n",
    "    # Compute results of the run using a solver of choice\n",
    "    result = myprocessor.run_state(init_state, solver=\"mesolve\")\n",
    "    # Measured fidelity at the end\n",
    "    final_fidelity = fidelity(result.states[0],result.states[-1])\n",
    "    return final_fidelity\n"
   ]
  },
  {
   "cell_type": "code",
   "execution_count": 67,
   "metadata": {},
   "outputs": [],
   "source": [
    "def simulation_test_run(num_gates_list, num_sample, add_FPGA_noise = False, t1 = None, t2 = None):\n",
    "    fidelity_average = []\n",
    "    fidelity_error = []\n",
    "    for num_gates in num_gates_list:\n",
    "        fidelity_list = [single_simple_simulation(\n",
    "            num_gates, t1 = t1, t2 = t2, add_FPGA_noise = add_FPGA_noise,\n",
    "            pulse_amplitude = 10e6\n",
    "            ) for i in range(num_sample)]\n",
    "        fidelity_average.append(np.mean(fidelity_list))\n",
    "        fidelity_error.append(np.std(fidelity_list) / np.sqrt(num_sample))\n",
    "    \n",
    "    return fidelity_average, fidelity_error"
   ]
  },
  {
   "cell_type": "code",
   "execution_count": 68,
   "metadata": {},
   "outputs": [],
   "source": [
    "# For num_sample = 20, takes about 5 min\n",
    "num_sample = 10\n",
    "#num_gates_list = np.linspace(1,300,25,dtype=int)\n",
    "num_gates_list = np.arange(5,105,20)"
   ]
  },
  {
   "cell_type": "code",
   "execution_count": 69,
   "metadata": {},
   "outputs": [],
   "source": [
    "fidelity_baseline, error_baseline = simulation_test_run(\n",
    "    num_gates_list, num_sample, \n",
    "    add_FPGA_noise = False, t1 = None, t2 = None)\n",
    "fidelity_t1t2, error_t1t2 = simulation_test_run(\n",
    "    num_gates_list, num_sample, \n",
    "    add_FPGA_noise = False, t1 = 8.66e-6, t2 = 9.08e-6)\n",
    "fidelity_FPGA, error_FPGA = simulation_test_run(\n",
    "    num_gates_list, num_sample, \n",
    "    add_FPGA_noise = True, t1 = None, t2 = None)\n",
    "fidelity_FPGA_t1t2, error_FPGA_t1t2 = simulation_test_run(\n",
    "    num_gates_list, num_sample, \n",
    "    add_FPGA_noise = True, t1 = 8.66e-6, t2 = 9.08e-6)"
   ]
  },
  {
   "cell_type": "code",
   "execution_count": 70,
   "metadata": {},
   "outputs": [
    {
     "data": {
      "text/plain": [
       "Text(0, 0.5, 'Ground State Fidelity')"
      ]
     },
     "execution_count": 70,
     "metadata": {},
     "output_type": "execute_result"
    },
    {
     "data": {
      "image/png": "[encoded data removed]",
      "text/plain": [
       "<Figure size 640x480 with 1 Axes>"
      ]
     },
     "metadata": {},
     "output_type": "display_data"
    }
   ],
   "source": [
    "plt.autoscale(enable=True, axis=\"y\", tight=False)\n",
    "plt.errorbar(num_gates_list, fidelity_baseline, yerr=error_baseline, \n",
    "             color='red', capsize=5,label = 'Baseline')\n",
    "plt.errorbar(num_gates_list, fidelity_FPGA, yerr=error_FPGA, \n",
    "             color='blue', capsize=5, label = 'With FPGA noise')\n",
    "plt.errorbar(num_gates_list, fidelity_FPGA_t1t2, yerr=error_FPGA_t1t2, \n",
    "             color='magenta', capsize=5, label = 'With FPGA noise and decoherence')\n",
    "plt.errorbar(num_gates_list, fidelity_FPGA_t1t2, yerr=error_FPGA_t1t2, \n",
    "             color='magenta', capsize=5, label = 'With FPGA noise and decoherence')\n",
    "plt.legend()\n",
    "plt.xlabel(\"Number of Gates\")\n",
    "plt.ylabel(\"Ground State Fidelity\")"
   ]
  },
  {
   "cell_type": "code",
   "execution_count": null,
   "metadata": {},
   "outputs": [],
   "source": []
  }
 ],
 "metadata": {
  "kernelspec": {
   "display_name": "Python 3",
   "language": "python",
   "name": "python3"
  },
  "language_info": {
   "codemirror_mode": {
    "name": "ipython",
    "version": 3
   },
   "file_extension": ".py",
   "mimetype": "text/x-python",
   "name": "python",
   "nbconvert_exporter": "python",
   "pygments_lexer": "ipython3",
   "version": "3.11.5"
  },
  "orig_nbformat": 4
 },
 "nbformat": 4,
 "nbformat_minor": 2
}
