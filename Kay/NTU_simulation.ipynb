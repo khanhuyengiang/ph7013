{
 "cells": [
  {
   "cell_type": "code",
   "execution_count": 6,
   "metadata": {},
   "outputs": [],
   "source": [
    "import sys\n",
    "from simple_simulation_inverse_search import gates_set, matrix_list, add_inverse_gates\n",
    "%matplotlib inline\n",
    "import matplotlib.pyplot as plt\n",
    "import numpy as np"
   ]
  },
  {
   "cell_type": "code",
   "execution_count": 7,
   "metadata": {},
   "outputs": [],
   "source": [
    "from qutip_qip.compiler import GateCompiler, Instruction\n",
    "from qutip_qip.device import ModelProcessor\n",
    "from qutip import (sigmax, sigmay, tensor)\n",
    "\n",
    "import functools # for reduce\n",
    "from qutip.qip.operations.gates import *\n",
    "from qutip import basis\n",
    "from qutip_qip.circuit import QubitCircuit\n",
    "from qutip.metrics import fidelity\n",
    "from qutip.qip.noise import RandomNoise\n",
    "\n",
    "import numpy as np\n",
    "\n",
    "import sys\n",
    "from simple_simulation_inverse_search import gates_set, matrix_list, add_inverse_gates"
   ]
  },
  {
   "cell_type": "code",
   "execution_count": 11,
   "metadata": {},
   "outputs": [],
   "source": [
    "omega = 20e6\n",
    "V = 1\n",
    "sampling_rate = 6e9\n",
    "pi_pulse_duration = 5e-8\n",
    "T1 = 9e-6\n",
    "T2 = 9e-6"
   ]
  },
  {
   "cell_type": "code",
   "execution_count": 16,
   "metadata": {},
   "outputs": [],
   "source": [
    "__all__ = ['simple_processor','simple_compiler','single_simple_simulation']\n",
    "\n",
    "class simple_processor(ModelProcessor):\n",
    "    \"\"\"\n",
    "    Custom processor built using ModelProcessor as the base class.\n",
    "    This custom processor will inherit all the methods of the base class\n",
    "    such as setting up of the T1 and T2 decoherence rates in the simulations.\n",
    "\n",
    "    Args:\n",
    "        num_qubits (int): Number of qubits in the processor.\n",
    "        t1, t2 (float or list): The T1 and T2 decoherence rates for the\n",
    "    \"\"\"\n",
    "\n",
    "    def __init__(self, num_qubits, t1=None, t2=None):\n",
    "        # call the parent class initializer\n",
    "        super(simple_processor, self).__init__(num_qubits, t1=t1, t2=t2)  \n",
    "        # The control pulse is discrete or continous.\n",
    "        self.pulse_mode = \"discrete\"\n",
    "        # The dimension of each controllable quantum system\n",
    "        self.model.dims = [2] * num_qubits\n",
    "        self.num_qubits = num_qubits\n",
    "        self.set_up_ops()  # set up the available Hamiltonians\n",
    "        self.native_gates = [\"RX\", \"RY\"]\n",
    "\n",
    "    def set_up_ops(self):\n",
    "        \"\"\"\n",
    "        Sets up the control operators.\n",
    "        \"\"\"\n",
    "        # sigmax pulse on m-th qubit with the corresponding pulse\n",
    "        for m in range(self.num_qubits):\n",
    "            self.add_control(1/2*sigmax(), m, label=\"sx\" + str(m))\n",
    "        # sy\n",
    "        for m in range(self.num_qubits):\n",
    "            self.add_control(1/2*sigmay(), m, label=\"sy\" + str(m))\n",
    "    \n",
    "    # To remove errors arise from RandomNoise not being recognized\n",
    "    # as a type Noise, may cause trouble in the future?\n",
    "    def add_noise(self, noise):\n",
    "        \"\"\"\n",
    "        Add a noise object to the processor\n",
    "\n",
    "        Parameters\n",
    "        ----------\n",
    "        noise: :class:`.Noise`\n",
    "            The noise object defined outside the processor\n",
    "        \"\"\"\n",
    "        self.noise.append(noise)"
   ]
  },
  {
   "cell_type": "code",
   "execution_count": 119,
   "metadata": {},
   "outputs": [],
   "source": [
    "class simple_compiler(GateCompiler):\n",
    "    \"\"\"\n",
    "    Custom compiler for generating pulses from gates using\n",
    "    the base class GateCompiler.\n",
    "\n",
    "    Args:\n",
    "        num_qubits (int): The number of qubits in the processor\n",
    "        params (dict): A dictionary of parameters for gate pulses\n",
    "                       such as the pulse amplitude.\n",
    "    \"\"\"\n",
    "\n",
    "    def __init__(self, num_qubits, params):\n",
    "        super().__init__(num_qubits, params=params)\n",
    "        self.params = params\n",
    "        self.gate_compiler = {\n",
    "            \"RX\": self.pulse_discretization_compiler,\n",
    "            \"RY\": self.pulse_discretization_compiler,\n",
    "        }\n",
    "\n",
    "    def generate_pulse(self, gate, tlist, coeff, phase=0.0):\n",
    "        \"\"\"Generates the pulses.\n",
    "\n",
    "        Args:\n",
    "            gate (qutip_qip.circuit.Gate): A qutip Gate object.\n",
    "            tlist (array): A list of times for the evolution.\n",
    "            coeff (array): An array of coefficients for the gate pulses\n",
    "            phase (float): The value of the phase for the gate.\n",
    "\n",
    "        Returns:\n",
    "            Instruction (qutip_qip.compiler.instruction.Instruction):\n",
    "            An instruction to implement a gate containing the control pulses.\n",
    "        \"\"\"\n",
    "        pulse_info = [\n",
    "            # (control label, coeff)\n",
    "            (\"sx\" + str(gate.targets[0]), np.cos(phase) * coeff),\n",
    "            (\"sy\" + str(gate.targets[0]), np.sin(phase) * coeff),\n",
    "        ]\n",
    "        return [Instruction(gate, tlist=tlist, pulse_info=pulse_info)]\n",
    "\n",
    "    def pulse_discretization_compiler(self, gate, args):\n",
    "        \"\"\"Compiles single-qubit gates to pulses.\n",
    "\n",
    "        Args:\n",
    "            gate (qutip_qip.circuit.Gate): A qutip Gate object.\n",
    "\n",
    "        Returns:\n",
    "            Instruction (qutip_qip.compiler.instruction.Instruction):\n",
    "            An instruction to implement a gate containing the control pulses.\n",
    "        \"\"\"\n",
    "        # gate.arg_value is the rotation angle\n",
    "        _step_list = np.linspace(0,1,int(pi_pulse_duration*sampling_rate)) # a time step list so that the noise work\n",
    "        coupling_time_series = np.abs(gate.arg_value) / self.params[\"pulse_amplitude\"] * _step_list\n",
    "        FPGA_voltage = self.params[\"pulse_amplitude\"] * np.sign(gate.arg_value) * (_step_list[:-1] *0 + 1)\n",
    "        if gate.name == \"RX\":\n",
    "            return self.generate_pulse(gate, tlist = coupling_time_series, coeff = FPGA_voltage, phase=0.0)\n",
    "        elif gate.name == \"RY\":\n",
    "            return self.generate_pulse(gate, tlist = coupling_time_series, coeff = FPGA_voltage, phase=np.pi / 2)"
   ]
  },
  {
   "cell_type": "code",
   "execution_count": 120,
   "metadata": {},
   "outputs": [],
   "source": [
    "def single_simple_simulation(num_gates, t1 = None, t2 = None, num_qubits = 1, add_FPGA_noise = True):\n",
    "    \"\"\"\n",
    "    A single simulation, with num_gates representing the number of rotations.\n",
    "\n",
    "    Args:\n",
    "        num_gates (int): The number of random gates to add in the simulation.\n",
    "        t1, t2 (float): Decoherence time of the qubits.\n",
    "        add_FPGA_noise (bool): Whether to add in gaussian FPGA noise to the simulation.\n",
    "\n",
    "    Returns:\n",
    "        final_fidelity (float):\n",
    "            Fidelity of the result state (obtained from \n",
    "            mesolve solver method) and the initial state.\n",
    "    \"\"\"\n",
    "     \n",
    "    myprocessor = simple_processor(num_qubits, t1 = t1, t2 = t2)\n",
    "    myprocessor.native_gates = None  # Remove the native gates\n",
    "    mycompiler = simple_compiler(num_qubits,{\"pulse_amplitude\": omega*V})\n",
    "\n",
    "    # Ground state for n qubits\n",
    "    init_state = functools.reduce(lambda a, b: tensor(a,b), [basis(2, 0)] * num_qubits)\n",
    "\n",
    "    # Define a random circuit.\n",
    "    circuit = QubitCircuit(num_qubits)\n",
    "    clifford = rx(0)\n",
    "    for ind in np.random.randint(0, 6, num_gates):\n",
    "        circuit.add_gate(gates_set[ind])\n",
    "        clifford = matrix_list[ind] * clifford\n",
    "\n",
    "    # Finding inverse Clifford for the random sequence of gate\n",
    "    add_inverse_gates(clifford, init_state, circuit = circuit)\n",
    "\n",
    "    # Simulate the circuit.\n",
    "    myprocessor.load_circuit(circuit, compiler=mycompiler)\n",
    "    \n",
    "    # FPGA gaussian noise\n",
    "    if add_FPGA_noise == True:\n",
    "        FPGA_noise = RandomNoise(dt=1e-11, indices = [0,1], rand_gen=np.random.normal, loc=0.00, scale=0.3)\n",
    "        myprocessor.add_noise(FPGA_noise)\n",
    "    \n",
    "    # Compute results of the run using a solver of choice\n",
    "    result = myprocessor.run_state(init_state, solver=\"mesolve\")\n",
    "    # Measured fidelity at the end\n",
    "    final_fidelity = fidelity(result.states[0],result.states[-1])\n",
    "    return final_fidelity"
   ]
  },
  {
   "cell_type": "code",
   "execution_count": 121,
   "metadata": {},
   "outputs": [],
   "source": [
    "def simulation_test_run(num_gates_list, num_sample, add_FPGA_noise = True, t1 = None, t2 = None):\n",
    "    fidelity_average = []\n",
    "    fidelity_error = []\n",
    "    for num_gates in num_gates_list:\n",
    "        fidelity_list = [single_simple_simulation(\n",
    "            num_gates, t1 = t1, t2 = t2, add_FPGA_noise = add_FPGA_noise\n",
    "            ) for i in range(num_sample)]\n",
    "        fidelity_average.append(np.mean(fidelity_list))\n",
    "        fidelity_error.append(np.std(fidelity_list) / np.sqrt(num_sample))\n",
    "    \n",
    "    return fidelity_average, fidelity_error"
   ]
  },
  {
   "cell_type": "code",
   "execution_count": 122,
   "metadata": {},
   "outputs": [],
   "source": [
    "# For num_sample = 20, takes about 5 min\n",
    "num_sample = 5\n",
    "#num_gates_list = np.linspace(1,300,25,dtype=int)\n",
    "num_gates_list = np.arange(5,105,20)"
   ]
  },
  {
   "cell_type": "code",
   "execution_count": 124,
   "metadata": {},
   "outputs": [],
   "source": [
    "fidelity_baseline, error_baseline = simulation_test_run(\n",
    "    num_gates_list, num_sample, \n",
    "    add_FPGA_noise = False, t1 = None, t2 = None)"
   ]
  },
  {
   "cell_type": "code",
   "execution_count": 125,
   "metadata": {},
   "outputs": [],
   "source": [
    "fidelity_t1t2, error_t1t2 = simulation_test_run(\n",
    "    num_gates_list, num_sample, \n",
    "    add_FPGA_noise = False, t1 = 9e-6, t2 = 9e-6)"
   ]
  },
  {
   "cell_type": "code",
   "execution_count": 123,
   "metadata": {},
   "outputs": [
    {
     "ename": "IndexError",
     "evalue": "index 1 is out of bounds for axis 0 with size 1",
     "output_type": "error",
     "traceback": [
      "\u001b[1;31m---------------------------------------------------------------------------\u001b[0m",
      "\u001b[1;31mIndexError\u001b[0m                                Traceback (most recent call last)",
      "Cell \u001b[1;32mIn[123], line 4\u001b[0m\n\u001b[0;32m      1\u001b[0m fidelity_baseline, error_baseline \u001b[39m=\u001b[39m simulation_test_run(\n\u001b[0;32m      2\u001b[0m     num_gates_list, num_sample, \n\u001b[0;32m      3\u001b[0m     add_FPGA_noise \u001b[39m=\u001b[39m \u001b[39mFalse\u001b[39;00m, t1 \u001b[39m=\u001b[39m \u001b[39mNone\u001b[39;00m, t2 \u001b[39m=\u001b[39m \u001b[39mNone\u001b[39;00m)\n\u001b[1;32m----> 4\u001b[0m fidelity_FPGA, error_FPGA \u001b[39m=\u001b[39m simulation_test_run(\n\u001b[0;32m      5\u001b[0m     num_gates_list, num_sample, \n\u001b[0;32m      6\u001b[0m     add_FPGA_noise \u001b[39m=\u001b[39;49m \u001b[39mTrue\u001b[39;49;00m, t1 \u001b[39m=\u001b[39;49m \u001b[39mNone\u001b[39;49;00m, t2 \u001b[39m=\u001b[39;49m \u001b[39mNone\u001b[39;49;00m)\n\u001b[0;32m      7\u001b[0m fidelity_FPGA_t1t2, error_FPGA_t1t2 \u001b[39m=\u001b[39m simulation_test_run(\n\u001b[0;32m      8\u001b[0m     num_gates_list, num_sample, \n\u001b[0;32m      9\u001b[0m     add_FPGA_noise \u001b[39m=\u001b[39m \u001b[39mTrue\u001b[39;00m, t1 \u001b[39m=\u001b[39m \u001b[39m9e-6\u001b[39m, t2 \u001b[39m=\u001b[39m \u001b[39m9e-6\u001b[39m)\n",
      "Cell \u001b[1;32mIn[121], line 5\u001b[0m, in \u001b[0;36msimulation_test_run\u001b[1;34m(num_gates_list, num_sample, add_FPGA_noise, t1, t2)\u001b[0m\n\u001b[0;32m      3\u001b[0m fidelity_error \u001b[39m=\u001b[39m []\n\u001b[0;32m      4\u001b[0m \u001b[39mfor\u001b[39;00m num_gates \u001b[39min\u001b[39;00m num_gates_list:\n\u001b[1;32m----> 5\u001b[0m     fidelity_list \u001b[39m=\u001b[39m [single_simple_simulation(\n\u001b[0;32m      6\u001b[0m         num_gates, t1 \u001b[39m=\u001b[39;49m t1, t2 \u001b[39m=\u001b[39;49m t2, add_FPGA_noise \u001b[39m=\u001b[39;49m add_FPGA_noise\n\u001b[0;32m      7\u001b[0m         ) \u001b[39mfor\u001b[39;49;00m i \u001b[39min\u001b[39;49;00m \u001b[39mrange\u001b[39;49m(num_sample)]\n\u001b[0;32m      8\u001b[0m     fidelity_average\u001b[39m.\u001b[39mappend(np\u001b[39m.\u001b[39mmean(fidelity_list))\n\u001b[0;32m      9\u001b[0m     fidelity_error\u001b[39m.\u001b[39mappend(np\u001b[39m.\u001b[39mstd(fidelity_list) \u001b[39m/\u001b[39m np\u001b[39m.\u001b[39msqrt(num_sample))\n",
      "Cell \u001b[1;32mIn[121], line 5\u001b[0m, in \u001b[0;36m<listcomp>\u001b[1;34m(.0)\u001b[0m\n\u001b[0;32m      3\u001b[0m fidelity_error \u001b[39m=\u001b[39m []\n\u001b[0;32m      4\u001b[0m \u001b[39mfor\u001b[39;00m num_gates \u001b[39min\u001b[39;00m num_gates_list:\n\u001b[1;32m----> 5\u001b[0m     fidelity_list \u001b[39m=\u001b[39m [single_simple_simulation(\n\u001b[0;32m      6\u001b[0m         num_gates, t1 \u001b[39m=\u001b[39;49m t1, t2 \u001b[39m=\u001b[39;49m t2, add_FPGA_noise \u001b[39m=\u001b[39;49m add_FPGA_noise\n\u001b[0;32m      7\u001b[0m         ) \u001b[39mfor\u001b[39;00m i \u001b[39min\u001b[39;00m \u001b[39mrange\u001b[39m(num_sample)]\n\u001b[0;32m      8\u001b[0m     fidelity_average\u001b[39m.\u001b[39mappend(np\u001b[39m.\u001b[39mmean(fidelity_list))\n\u001b[0;32m      9\u001b[0m     fidelity_error\u001b[39m.\u001b[39mappend(np\u001b[39m.\u001b[39mstd(fidelity_list) \u001b[39m/\u001b[39m np\u001b[39m.\u001b[39msqrt(num_sample))\n",
      "Cell \u001b[1;32mIn[120], line 42\u001b[0m, in \u001b[0;36msingle_simple_simulation\u001b[1;34m(num_gates, t1, t2, num_qubits, add_FPGA_noise)\u001b[0m\n\u001b[0;32m     39\u001b[0m     myprocessor\u001b[39m.\u001b[39madd_noise(FPGA_noise)\n\u001b[0;32m     41\u001b[0m \u001b[39m# Compute results of the run using a solver of choice\u001b[39;00m\n\u001b[1;32m---> 42\u001b[0m result \u001b[39m=\u001b[39m myprocessor\u001b[39m.\u001b[39;49mrun_state(init_state, solver\u001b[39m=\u001b[39;49m\u001b[39m\"\u001b[39;49m\u001b[39mmesolve\u001b[39;49m\u001b[39m\"\u001b[39;49m)\n\u001b[0;32m     43\u001b[0m \u001b[39m# Measured fidelity at the end\u001b[39;00m\n\u001b[0;32m     44\u001b[0m final_fidelity \u001b[39m=\u001b[39m fidelity(result\u001b[39m.\u001b[39mstates[\u001b[39m0\u001b[39m],result\u001b[39m.\u001b[39mstates[\u001b[39m-\u001b[39m\u001b[39m1\u001b[39m])\n",
      "File \u001b[1;32m~\\AppData\\Local\\Packages\\PythonSoftwareFoundation.Python.3.11_qbz5n2kfra8p0\\LocalCache\\local-packages\\Python311\\site-packages\\qutip_qip\\device\\modelprocessor.py:120\u001b[0m, in \u001b[0;36mModelProcessor.run_state\u001b[1;34m(self, init_state, analytical, qc, states, **kwargs)\u001b[0m\n\u001b[0;32m    118\u001b[0m \u001b[39mif\u001b[39;00m qc \u001b[39mis\u001b[39;00m \u001b[39mnot\u001b[39;00m \u001b[39mNone\u001b[39;00m:\n\u001b[0;32m    119\u001b[0m     \u001b[39mself\u001b[39m\u001b[39m.\u001b[39mload_circuit(qc)\n\u001b[1;32m--> 120\u001b[0m \u001b[39mreturn\u001b[39;00m \u001b[39msuper\u001b[39;49m(ModelProcessor, \u001b[39mself\u001b[39;49m)\u001b[39m.\u001b[39;49mrun_state(\n\u001b[0;32m    121\u001b[0m     init_state\u001b[39m=\u001b[39;49minit_state,\n\u001b[0;32m    122\u001b[0m     analytical\u001b[39m=\u001b[39;49manalytical,\n\u001b[0;32m    123\u001b[0m     states\u001b[39m=\u001b[39;49mstates,\n\u001b[0;32m    124\u001b[0m     \u001b[39m*\u001b[39;49m\u001b[39m*\u001b[39;49mkwargs\n\u001b[0;32m    125\u001b[0m )\n",
      "File \u001b[1;32m~\\AppData\\Local\\Packages\\PythonSoftwareFoundation.Python.3.11_qbz5n2kfra8p0\\LocalCache\\local-packages\\Python311\\site-packages\\qutip_qip\\device\\processor.py:1180\u001b[0m, in \u001b[0;36mProcessor.run_state\u001b[1;34m(self, init_state, analytical, states, noisy, solver, **kwargs)\u001b[0m\n\u001b[0;32m   1176\u001b[0m     noisy_qobjevo, sys_c_ops \u001b[39m=\u001b[39m \u001b[39mself\u001b[39m\u001b[39m.\u001b[39mget_qobjevo(\n\u001b[0;32m   1177\u001b[0m         args\u001b[39m=\u001b[39mkwargs[\u001b[39m\"\u001b[39m\u001b[39margs\u001b[39m\u001b[39m\"\u001b[39m], noisy\u001b[39m=\u001b[39mnoisy\n\u001b[0;32m   1178\u001b[0m     )\n\u001b[0;32m   1179\u001b[0m \u001b[39melse\u001b[39;00m:\n\u001b[1;32m-> 1180\u001b[0m     noisy_qobjevo, sys_c_ops \u001b[39m=\u001b[39m \u001b[39mself\u001b[39;49m\u001b[39m.\u001b[39;49mget_qobjevo(noisy\u001b[39m=\u001b[39;49mnoisy)\n\u001b[0;32m   1182\u001b[0m \u001b[39m# add collpase operators into kwargs\u001b[39;00m\n\u001b[0;32m   1183\u001b[0m \u001b[39mif\u001b[39;00m \u001b[39m\"\u001b[39m\u001b[39mc_ops\u001b[39m\u001b[39m\"\u001b[39m \u001b[39min\u001b[39;00m kwargs:\n",
      "File \u001b[1;32m~\\AppData\\Local\\Packages\\PythonSoftwareFoundation.Python.3.11_qbz5n2kfra8p0\\LocalCache\\local-packages\\Python311\\site-packages\\qutip_qip\\device\\processor.py:994\u001b[0m, in \u001b[0;36mProcessor.get_qobjevo\u001b[1;34m(self, args, noisy)\u001b[0m\n\u001b[0;32m    992\u001b[0m \u001b[39mfor\u001b[39;00m pulse \u001b[39min\u001b[39;00m dynamics:\n\u001b[0;32m    993\u001b[0m     \u001b[39mif\u001b[39;00m noisy:\n\u001b[1;32m--> 994\u001b[0m         qu, new_c_ops \u001b[39m=\u001b[39m pulse\u001b[39m.\u001b[39;49mget_noisy_qobjevo(dims\u001b[39m=\u001b[39;49m\u001b[39mself\u001b[39;49m\u001b[39m.\u001b[39;49mdims)\n\u001b[0;32m    995\u001b[0m         c_ops \u001b[39m+\u001b[39m\u001b[39m=\u001b[39m new_c_ops\n\u001b[0;32m    996\u001b[0m     \u001b[39melse\u001b[39;00m:\n",
      "File \u001b[1;32m~\\AppData\\Local\\Packages\\PythonSoftwareFoundation.Python.3.11_qbz5n2kfra8p0\\LocalCache\\local-packages\\Python311\\site-packages\\qutip_qip\\pulse.py:425\u001b[0m, in \u001b[0;36mPulse.get_noisy_qobjevo\u001b[1;34m(self, dims)\u001b[0m\n\u001b[0;32m    420\u001b[0m c_ops \u001b[39m=\u001b[39m [\n\u001b[0;32m    421\u001b[0m     noise\u001b[39m.\u001b[39mget_qobjevo(\u001b[39mself\u001b[39m\u001b[39m.\u001b[39mspline_kind, dims)\n\u001b[0;32m    422\u001b[0m     \u001b[39mfor\u001b[39;00m noise \u001b[39min\u001b[39;00m \u001b[39mself\u001b[39m\u001b[39m.\u001b[39mlindblad_noise\n\u001b[0;32m    423\u001b[0m ]\n\u001b[0;32m    424\u001b[0m full_tlist \u001b[39m=\u001b[39m \u001b[39mself\u001b[39m\u001b[39m.\u001b[39mget_full_tlist()\n\u001b[1;32m--> 425\u001b[0m qu \u001b[39m=\u001b[39m _merge_qobjevo([qu], full_tlist)\n\u001b[0;32m    426\u001b[0m \u001b[39mfor\u001b[39;00m i, c_op \u001b[39min\u001b[39;00m \u001b[39menumerate\u001b[39m(c_ops):\n\u001b[0;32m    427\u001b[0m     c_ops[i] \u001b[39m=\u001b[39m _merge_qobjevo([c_op], full_tlist)\n",
      "File \u001b[1;32m~\\AppData\\Local\\Packages\\PythonSoftwareFoundation.Python.3.11_qbz5n2kfra8p0\\LocalCache\\local-packages\\Python311\\site-packages\\qutip_qip\\pulse.py:631\u001b[0m, in \u001b[0;36m_merge_qobjevo\u001b[1;34m(qobjevo_list, full_tlist)\u001b[0m\n\u001b[0;32m    629\u001b[0m \u001b[39mfor\u001b[39;00m j, ele \u001b[39min\u001b[39;00m \u001b[39menumerate\u001b[39m(qobjevo\u001b[39m.\u001b[39mops):\n\u001b[0;32m    630\u001b[0m     \u001b[39mif\u001b[39;00m \u001b[39misinstance\u001b[39m(ele\u001b[39m.\u001b[39mcoeff, np\u001b[39m.\u001b[39mndarray):\n\u001b[1;32m--> 631\u001b[0m         new_coeff \u001b[39m=\u001b[39m _fill_coeff(\n\u001b[0;32m    632\u001b[0m             ele\u001b[39m.\u001b[39;49mcoeff, qobjevo\u001b[39m.\u001b[39;49mtlist, full_tlist, args\n\u001b[0;32m    633\u001b[0m         )\n\u001b[0;32m    634\u001b[0m         qobjevo_list[i]\u001b[39m.\u001b[39mops[j]\u001b[39m.\u001b[39mcoeff \u001b[39m=\u001b[39m new_coeff\n\u001b[0;32m    635\u001b[0m qobjevo_list[i]\u001b[39m.\u001b[39mtlist \u001b[39m=\u001b[39m full_tlist\n",
      "File \u001b[1;32m~\\AppData\\Local\\Packages\\PythonSoftwareFoundation.Python.3.11_qbz5n2kfra8p0\\LocalCache\\local-packages\\Python311\\site-packages\\qutip_qip\\pulse.py:665\u001b[0m, in \u001b[0;36m_fill_coeff\u001b[1;34m(old_coeffs, old_tlist, full_tlist, args, tol)\u001b[0m\n\u001b[0;32m    663\u001b[0m     \u001b[39mcontinue\u001b[39;00m\n\u001b[0;32m    664\u001b[0m \u001b[39m# tol is required because of the floating-point error\u001b[39;00m\n\u001b[1;32m--> 665\u001b[0m \u001b[39mif\u001b[39;00m old_tlist[old_ind \u001b[39m+\u001b[39;49m \u001b[39m1\u001b[39;49m] \u001b[39m<\u001b[39m\u001b[39m=\u001b[39m t \u001b[39m+\u001b[39m tol:\n\u001b[0;32m    666\u001b[0m     old_ind \u001b[39m+\u001b[39m\u001b[39m=\u001b[39m \u001b[39m1\u001b[39m\n\u001b[0;32m    667\u001b[0m new_coeff[new_ind] \u001b[39m=\u001b[39m old_coeffs[old_ind]\n",
      "\u001b[1;31mIndexError\u001b[0m: index 1 is out of bounds for axis 0 with size 1"
     ]
    }
   ],
   "source": [
    "fidelity_FPGA, error_FPGA = simulation_test_run(\n",
    "    num_gates_list, num_sample, \n",
    "    add_FPGA_noise = True, t1 = None, t2 = None)\n",
    "fidelity_FPGA_t1t2, error_FPGA_t1t2 = simulation_test_run(\n",
    "    num_gates_list, num_sample, \n",
    "    add_FPGA_noise = True, t1 = 9e-6, t2 = 9e-6)"
   ]
  },
  {
   "cell_type": "code",
   "execution_count": 127,
   "metadata": {},
   "outputs": [
    {
     "data": {
      "text/plain": [
       "Text(0, 0.5, 'Ground State Fidelity')"
      ]
     },
     "execution_count": 127,
     "metadata": {},
     "output_type": "execute_result"
    },
    {
     "data": {
      "image/png": "[encoded data removed]",
      "text/plain": [
       "<Figure size 640x480 with 1 Axes>"
      ]
     },
     "metadata": {},
     "output_type": "display_data"
    }
   ],
   "source": [
    "plt.autoscale(enable=True, axis=\"y\", tight=False)\n",
    "plt.errorbar(num_gates_list, fidelity_baseline, yerr=error_baseline, \n",
    "             color='red', capsize=5,label = 'Baseline')\n",
    "plt.errorbar(num_gates_list, fidelity_t1t2, yerr=error_t1t2, \n",
    "             color='magenta', capsize=5, label = 'With decoherence')\n",
    "#plt.errorbar(num_gates_list, fidelity_FPGA, yerr=error_FPGA, \n",
    "#             color='blue', capsize=5, label = 'With FPGA noise')\n",
    "#plt.errorbar(num_gates_list, fidelity_FPGA_t1t2, yerr=error_FPGA_t1t2, \n",
    "#             color='cyan', capsize=5, label = 'With FPGA noise and decoherence')\n",
    "plt.legend()\n",
    "plt.xlabel(\"Number of Gates\")\n",
    "plt.ylabel(\"Ground State Fidelity\")"
   ]
  },
  {
   "cell_type": "code",
   "execution_count": null,
   "metadata": {},
   "outputs": [],
   "source": []
  }
 ],
 "metadata": {
  "kernelspec": {
   "display_name": "Python 3",
   "language": "python",
   "name": "python3"
  },
  "language_info": {
   "codemirror_mode": {
    "name": "ipython",
    "version": 3
   },
   "file_extension": ".py",
   "mimetype": "text/x-python",
   "name": "python",
   "nbconvert_exporter": "python",
   "pygments_lexer": "ipython3",
   "version": "3.11.5"
  },
  "orig_nbformat": 4
 },
 "nbformat": 4,
 "nbformat_minor": 2
}
