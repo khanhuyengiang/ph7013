{
 "cells": [
  {
   "cell_type": "markdown",
   "metadata": {},
   "source": [
    "Code to find the fidelity against time as the states are rotating quickly"
   ]
  },
  {
   "cell_type": "code",
   "execution_count": null,
   "metadata": {},
   "outputs": [],
   "source": [
    "fidelity_list = []\n",
    "index_list = []\n",
    "\n",
    "for x in np.linspace(0.01,1,100):\n",
    "    circuit = QubitCircuit(1)\n",
    "    circuit.add_gate(\"RX\", targets=0, arg_value=x*np.pi)\n",
    "    #circuit.add_gate(\"RX\", targets=0, arg_value=np.pi)\n",
    "\n",
    "    myprocessor = ModelProcessor(model=MyModel(num_qubits))\n",
    "    myprocessor.native_gates = [\"RX\", \"RY\"]\n",
    "    mycompiler = MyCompiler(num_qubits, {\"pulse_amplitude\": 1})\n",
    "\n",
    "    myprocessor.load_circuit(circuit, compiler=mycompiler)\n",
    "    result = myprocessor.run_state(basis(2, 0))\n",
    "    fidelity_list.append(fidelity(result.states[-1], result.states[0]))\n",
    "    index_list.append(x)\n",
    "\n",
    "plt.plot(index_list,fidelity_list)"
   ]
  },
  {
   "cell_type": "markdown",
   "metadata": {},
   "source": [
    "Code to test the fidelity"
   ]
  },
  {
   "cell_type": "code",
   "execution_count": null,
   "metadata": {},
   "outputs": [],
   "source": [
    "i = 0\n",
    "for _index in range(10):\n",
    "    final_fidelity = single_simple_simulation(\n",
    "        50, t1 = 100, t2 = None, num_qubits = 1, add_FPGA_noise = True)\n",
    "    if final_fidelity < 0.99:\n",
    "        i = i+1\n",
    "print(i)"
   ]
  }
 ],
 "metadata": {
  "language_info": {
   "name": "python"
  },
  "orig_nbformat": 4
 },
 "nbformat": 4,
 "nbformat_minor": 2
}
