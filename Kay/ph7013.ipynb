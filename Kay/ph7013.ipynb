{
 "cells": [
  {
   "cell_type": "markdown",
   "metadata": {},
   "source": [
    "# PH7013\n",
    "Sample code from https://qutip.org/docs/latest/guide/dynamics/dynamics-time.html"
   ]
  },
  {
   "cell_type": "markdown",
   "metadata": {},
   "source": [
    "## Setup"
   ]
  },
  {
   "cell_type": "code",
   "execution_count": 1,
   "metadata": {},
   "outputs": [
    {
     "name": "stderr",
     "output_type": "stream",
     "text": [
      "C:\\Users\\XPS13-9360\\AppData\\Local\\Temp\\ipykernel_2488\\3713021909.py:16: DeprecationWarning: Importation from qutip.qip.gates is deprecated.Please use e.g.\n",
      " from qutip.qip.operations import cnot\n",
      "\n",
      "  from qutip.qip.gates import *\n"
     ]
    }
   ],
   "source": [
    "import numpy as np\n",
    "\n",
    "%matplotlib inline\n",
    "import matplotlib.pyplot as plt\n",
    "\n",
    "from qutip import *\n",
    "\n",
    "import qutip_qip\n",
    "from qutip_qip.circuit import QubitCircuit\n",
    "from qutip.qip.operations import *\n",
    "from qutip_qip.compiler import GateCompiler, Instruction\n",
    "from qutip_qip.device import Model, ModelProcessor, Processor\n",
    "from qutip_qip.noise import Noise\n",
    "from qutip.qip.noise import RandomNoise # for Gaussian noise\n",
    "from qutip.qip.pulse import Pulse\n",
    "from qutip.qip.gates import *\n",
    "\n",
    "from scipy.signal import argrelextrema\n",
    "from scipy.optimize import curve_fit\n",
    "\n",
    "import functools # for reduce\n",
    "from joblib import Parallel, delayed  # for parallel simulations\n",
    "import itertools # for RB inverse search"
   ]
  },
  {
   "cell_type": "code",
   "execution_count": 2,
   "metadata": {},
   "outputs": [],
   "source": [
    "import warnings \n",
    "warnings.filterwarnings(\"ignore\", category=DeprecationWarning)"
   ]
  },
  {
   "cell_type": "code",
   "execution_count": 3,
   "metadata": {},
   "outputs": [],
   "source": [
    "with open(\"rename.py\") as f:\n",
    "    exec(f.read())"
   ]
  },
  {
   "cell_type": "markdown",
   "metadata": {},
   "source": [
    "## Finding pulse duration"
   ]
  },
  {
   "cell_type": "markdown",
   "metadata": {},
   "source": [
    "Parameters"
   ]
  },
  {
   "cell_type": "code",
   "execution_count": null,
   "metadata": {},
   "outputs": [],
   "source": [
    "VStd = 0.1\n",
    "phaseStd = 0.382 / 180 * np.pi\n",
    "\n",
    "detuningStd = 52769\n",
    "samplingRate = 5898.24e6 # 5.89824 GS/s\n",
    "omega = 20e6 # 20MHz\n",
    "\n",
    "VNaught = 1\n",
    "hbar = 1\n",
    "phiNaught = 0\n",
    "aNaught = 25 / 46\n",
    "\n",
    "V = VNaught + np.random.normal(scale=VStd)\n",
    "phi = phiNaught + np.random.normal(scale=phaseStd)\n",
    "I = np.cos(phi)\n",
    "Q = np.sin(phi)\n",
    "\n",
    "# Decoherence time\n",
    "T1 = 8.66e-6\n",
    "T1_err = 0.49\n",
    "T2 = 9.08e-6\n",
    "T2_err = 0.74e-6\n",
    "T2_echo = 16.14e-6\n",
    "T2_echo_err = 3.21e-6\n",
    "\n",
    "# Initial condition\n",
    "psi0 = basis(2,0)\n",
    "t_0 = 0\n",
    "\n",
    "# Pi pulse duration from earlier runs\n",
    "pi_pulse_duration = 5.0340136054421764e-08\n",
    "pi_half_pulse_duration = 2.5170068027210882e-08"
   ]
  },
  {
   "cell_type": "markdown",
   "metadata": {},
   "source": [
    "Finding the pulse duration. When specifying Python functions for coefficients, the function must have (t,args) as the input variables, in that order."
   ]
  },
  {
   "cell_type": "code",
   "execution_count": null,
   "metadata": {},
   "outputs": [],
   "source": [
    "# This code takes 2 minutes to run, maybe sesolve is not optimized for this\n",
    "t_final = 100e-9\n",
    "n_steps = int(samplingRate * (t_final - t_0))\n",
    "t_find_pulse = np.linspace(t_0, t_final, n_steps)\n",
    "def H_find_pulse(t, args):\n",
    "    dwt = np.random.normal(scale=detuningStd) * t\n",
    "    s = aNaught - (1 - aNaught) * np.cos(2 * np.pi * t / t_final)\n",
    "    # For 2 qubit\n",
    "    # return omega * np.pi * V * s *((-I * np.cos(dwt) + Q * np.sin(dwt)) * tensor(identity(2),sigma_x()) + (I * np.sin(dwt) - Q * np.cos(dwt)) * tensor(identity(2),sigma_y()))\n",
    "    return omega * np.pi * V * s *((-I * np.cos(dwt) + Q * np.sin(dwt)) * sigma_x() + (I * np.sin(dwt) - Q * np.cos(dwt)) * sigma_y())\n",
    "# For 2 qubit\n",
    "# result_find_pulse = sesolve(H_find_pulse, psi0, t_find_pulse, [tensor(sigmaz(),sigmaz())],options=Options(nsteps=10000))\n",
    "result_find_pulse = sesolve(H_find_pulse, psi0, t_find_pulse, [sigmaz()],options=Options(nsteps=10000))"
   ]
  },
  {
   "cell_type": "code",
   "execution_count": null,
   "metadata": {},
   "outputs": [],
   "source": [
    "plot_expectation_values(result_find_pulse)"
   ]
  },
  {
   "cell_type": "markdown",
   "metadata": {},
   "source": [
    "Find the pi-pulse by optimizing"
   ]
  },
  {
   "cell_type": "code",
   "execution_count": null,
   "metadata": {},
   "outputs": [],
   "source": [
    "minimum_array = argrelextrema(result_find_pulse.expect[0], np.less)\n",
    "first_min = minimum_array[0][0]\n",
    "pi_pulse_duration = result_find_pulse.times[first_min]\n",
    "pi_half_pulse_duration = pi_pulse_duration/2\n",
    "print(pi_pulse_duration,pi_half_pulse_duration)"
   ]
  },
  {
   "cell_type": "markdown",
   "metadata": {},
   "source": [
    "Solving the Hamiltonian"
   ]
  },
  {
   "cell_type": "code",
   "execution_count": null,
   "metadata": {},
   "outputs": [],
   "source": [
    "def H(t, args):\n",
    "    dwt = np.random.normal(scale=detuningStd) * t\n",
    "    s = aNaught - (1 - aNaught) * np.cos(2 * np.pi * t / pi_pulse_duration)\n",
    "    # return omega * np.pi * V * s * ((-I * np.cos(dwt) + Q * np.sin(dwt)) * tensor(identity(2),sigma_x()) + (I * np.sin(dwt) - Q * np.cos(dwt)) * tensor(identity(2),sigma_y()))\n",
    "    return omega * np.pi * V * s * ((-I * np.cos(dwt) + Q * np.sin(dwt)) * sigma_x() + (I * np.sin(dwt) - Q * np.cos(dwt)) * sigma_y())"
   ]
  },
  {
   "cell_type": "code",
   "execution_count": null,
   "metadata": {},
   "outputs": [],
   "source": [
    "n_steps = int(samplingRate * (pi_pulse_duration - t_0))\n",
    "t = np.linspace(t_0, pi_pulse_duration, n_steps)\n",
    "# result = sesolve(H, psi0, t, [tensor(identity(2),sigmaz()),tensor(identity(2),sigmax()),tensor(identity(2),sigmay())],options=Options(nsteps=10000))\n",
    "result = sesolve(H, psi0, t, [sigmaz(),sigmax(),sigmay()],options=Options(nsteps=10000))"
   ]
  },
  {
   "cell_type": "code",
   "execution_count": null,
   "metadata": {},
   "outputs": [],
   "source": [
    "plt.plot(t, np.transpose(result.expect), label=[r\"$<\\sigma_z>$\", r\"$<\\sigma_x>$\", r\"$<\\sigma_y>$\"])\n",
    "plt.xlabel(\"t [ns]\")\n",
    "plt.ylabel(\"Expectation Value\")\n",
    "plt.legend()"
   ]
  },
  {
   "cell_type": "markdown",
   "metadata": {},
   "source": [
    "## Customize device"
   ]
  },
  {
   "cell_type": "markdown",
   "metadata": {},
   "source": [
    "Parameters (same as above, for reference purpose)"
   ]
  },
  {
   "cell_type": "code",
   "execution_count": 4,
   "metadata": {},
   "outputs": [],
   "source": [
    "VStd = 0.1\n",
    "phaseStd = 0.382 / 180 * np.pi\n",
    "\n",
    "detuningStd = 52769\n",
    "samplingRate = 5898.24e6 # 5.89824 GS/s\n",
    "omega = 20e6 # 20MHz\n",
    "\n",
    "VNaught = 1\n",
    "hbar = 1\n",
    "phiNaught = 0\n",
    "aNaught = 25 / 46\n",
    "\n",
    "V = VNaught + np.random.normal(scale=VStd)\n",
    "phi = phiNaught + np.random.normal(scale=phaseStd)\n",
    "I = np.cos(phi)\n",
    "Q = np.sin(phi)\n",
    "\n",
    "# Decoherence time\n",
    "T1 = 8.66e-6\n",
    "T1_err = 0.49\n",
    "T2 = 9.08e-6\n",
    "T2_err = 0.74e-6\n",
    "T2_echo = 16.14e-6\n",
    "T2_echo_err = 3.21e-6\n",
    "\n",
    "# Initial condition\n",
    "psi0 = basis(2,0)\n",
    "t_0 = 0\n",
    "\n",
    "# Pi pulse duration from earlier runs\n",
    "pi_pulse_duration = 5.0340136054421764e-08\n",
    "pi_half_pulse_duration = 2.5170068027210882e-08"
   ]
  },
  {
   "cell_type": "markdown",
   "metadata": {},
   "source": [
    "Built a Hamiltonian model for a device with 2 single qubit control: $\\sigma_x$ and $\\sigma_y$"
   ]
  },
  {
   "cell_type": "code",
   "execution_count": 5,
   "metadata": {},
   "outputs": [],
   "source": [
    "class MyProcessor(ModelProcessor):\n",
    "    \"\"\"\n",
    "    Custom processor built using ModelProcessor as the base class.\n",
    "    This custom processor will inherit all the methods of the base class\n",
    "    such as setting up of the T1 and T2 decoherence rates in the simulations.\n",
    "\n",
    "    Args:\n",
    "        num_qubits (int): Number of qubits in the processor.\n",
    "        t1, t2 (float or list): The T1 and T2 decoherence rates for the\n",
    "    \"\"\"\n",
    "\n",
    "    def __init__(self, num_qubits, t1=None, t2=None):\n",
    "        # call the parent class initializer\n",
    "        super(MyProcessor, self).__init__(num_qubits, t1=t1, t2=t2)  \n",
    "        # The control pulse is discrete or continous.\n",
    "        self.pulse_mode = \"discrete\"\n",
    "        # The dimension of each controllable quantum system\n",
    "        self.model.dims = [2] * num_qubits\n",
    "        self.num_qubits = num_qubits\n",
    "        self.set_up_ops()  # set up the available Hamiltonians\n",
    "\n",
    "    def set_up_ops(self):\n",
    "        \"\"\"\n",
    "        Sets up the control operators.\n",
    "        \"\"\"\n",
    "        # sigmax pulse on m-th qubit with the corresponding pulse\n",
    "        for m in range(self.num_qubits):\n",
    "            self.add_control(2 * np.pi * sigmax(), m, label=\"sx\" + str(m))\n",
    "        # sy\n",
    "        for m in range(self.num_qubits):\n",
    "            self.add_control(2 * np.pi * sigmay(), m, label=\"sy\" + str(m))\n",
    "    \n",
    "    # To remove some errors\n",
    "    def add_noise(self, noise):\n",
    "        \"\"\"\n",
    "        Add a noise object to the processor\n",
    "\n",
    "        Parameters\n",
    "        ----------\n",
    "        noise: :class:`.Noise`\n",
    "            The noise object defined outside the processor\n",
    "        \"\"\"\n",
    "        self.noise.append(noise)\n"
   ]
  },
  {
   "cell_type": "markdown",
   "metadata": {},
   "source": [
    "Define the compiling routines for the two types of rotation gates RX and RY with the driving Hamiltonian:\n",
    "\n",
    "\\begin{equation}\n",
    "    \\mathcal{H} = \\Omega V_0 s(t) ( (-I\\cos{(\\delta \\omega t)} + Q\\sin{(\\delta \\omega t)})\\sigma_x + (I\\sin{(\\delta \\omega t)}-Q\\cos{(\\delta \\omega t)})\\sigma_y)\n",
    "\\end{equation}"
   ]
  },
  {
   "cell_type": "code",
   "execution_count": 6,
   "metadata": {},
   "outputs": [],
   "source": [
    "class MyCompiler(GateCompiler):\n",
    "    \"\"\"\n",
    "    Custom compiler for generating pulses from RX and RY gates using the base class GateCompiler.\n",
    "\n",
    "    Args:\n",
    "        num_qubits (int): The number of qubits in the processor\n",
    "        params (dict): A dictionary of parameters for gate pulses\n",
    "                       such as the pulse amplitude.\n",
    "    \"\"\"\n",
    "\n",
    "    def __init__(self, num_qubits, params):\n",
    "        super().__init__(num_qubits, params=params)\n",
    "        self.params = params\n",
    "        self.gate_compiler = {\n",
    "            \"RX\": self.single_qubit_gate_compiler,\n",
    "            \"RY\": self.single_qubit_gate_compiler,\n",
    "        }\n",
    "\n",
    "    def single_qubit_gate_compiler(self, gate, args):\n",
    "        \"\"\"Compiles single-qubit gates to pulses.\n",
    "\n",
    "        Args:\n",
    "            gate (qutip_qip.circuit.Gate): A qutip Gate object.\n",
    "\n",
    "        Returns:\n",
    "            Instruction (qutip_qip.compiler.instruction.Instruction):\n",
    "            An instruction to implement a gate containing the control pulses.\n",
    "            (Note: Instruction class includes args:\n",
    "                tlist (array): A list of times for the evolution.\n",
    "                coeff (array): An array of coefficients for the gate pulses\n",
    "            )\n",
    "\n",
    "        \"\"\"\n",
    "\n",
    "        if gate.name == \"RX\" or gate.name == \"RY\":\n",
    "            # Rotation angle\n",
    "            phiNaught = gate.arg_value[1]\n",
    "            \n",
    "            # Parameters\n",
    "            V = VNaught + np.random.normal(scale=VStd)\n",
    "            phi = phiNaught + np.random.normal(scale=phaseStd)\n",
    "            I = np.cos(phi)\n",
    "            Q = np.sin(phi)\n",
    "\n",
    "            # Find tlist (list of time steps) for pi pulse or pi-half pulse\n",
    "            ratio_of_pi_pulse = gate.arg_value[0]\n",
    "            if ratio_of_pi_pulse == 0.5:\n",
    "                n_steps = int(samplingRate * (pi_pulse_duration/2 - t_0))\n",
    "                tlist = np.linspace(t_0, pi_pulse_duration/2, n_steps) \n",
    "            else:\n",
    "                n_steps = int(samplingRate * (pi_pulse_duration - t_0))\n",
    "                tlist = np.linspace(t_0, pi_pulse_duration, n_steps)        \n",
    "\n",
    "            # Find coeff for sigma x and sigma y (from Hamiltonian)\n",
    "            dwt = np.random.normal(scale=detuningStd) * tlist\n",
    "            s = aNaught - (1 - aNaught) * np.cos(2 * np.pi * tlist / pi_pulse_duration)\n",
    "\n",
    "            coeff_x = np.sign(gate.arg_value[1])*np.asarray([omega * np.pi * V * s[i] * (-I * np.cos(dwt[i]) + Q * np.sin(dwt[i])) for i in range(len(s))])\n",
    "            coeff_y = np.sign(gate.arg_value[1])*np.asarray([omega * np.pi * V * s[i] * (I * np.sin(dwt[i]) - Q * np.cos(dwt[i])) for i in range(len(s))])\n",
    "\n",
    "            pulse_info = [\n",
    "                # (control label, coeff)\n",
    "                (\"sx\" + str(gate.targets[0]), coeff_x),\n",
    "                (\"sy\" + str(gate.targets[0]), coeff_y),\n",
    "            ]\n",
    "            return [Instruction(gate, tlist=tlist, pulse_info=pulse_info)]"
   ]
  },
  {
   "cell_type": "markdown",
   "metadata": {},
   "source": [
    "Define an example circuit."
   ]
  },
  {
   "cell_type": "code",
   "execution_count": 20,
   "metadata": {},
   "outputs": [
    {
     "name": "stdout",
     "output_type": "stream",
     "text": [
      "0.8469792632265614\n",
      "Quantum object: dims = [[2], [1]], shape = (2, 1), type = ket\n",
      "Qobj data =\n",
      "[[1.]\n",
      " [0.]] Quantum object: dims = [[2], [1]], shape = (2, 1), type = ket\n",
      "Qobj data =\n",
      "[[-0.84697926+9.67581424e-05j]\n",
      " [-0.00139527+5.31624097e-01j]]\n"
     ]
    }
   ],
   "source": [
    "# Define a circuit and run the simulation\n",
    "\n",
    "num_qubits = 1\n",
    "circuit = QubitCircuit(num_qubits)\n",
    "init_state = basis(2, 0)\n",
    "\n",
    "# Gates\n",
    "circuit.add_gate(Gate(\"RY\", 0, arg_value=[0,np.pi]))\n",
    "\n",
    "myprocessor = MyProcessor(num_qubits)\n",
    "myprocessor.native_gates = [\"RX\", \"RY\"]\n",
    "mycompiler = MyCompiler(num_qubits,{})\n",
    "myprocessor.load_circuit(circuit, compiler=mycompiler)\n",
    "\n",
    "# Gaussian noise\n",
    "gaussnoise = RandomNoise(dt=0.01, rand_gen=np.random.normal, loc=0.00, scale=0.02)\n",
    "#myprocessor.add_noise(gaussnoise)\n",
    "result = myprocessor.run_state(init_state)\n",
    "print(fidelity(result.states[-1], init_state))\n",
    "print(init_state,result.states[-1])"
   ]
  },
  {
   "cell_type": "code",
   "execution_count": 8,
   "metadata": {},
   "outputs": [
    {
     "name": "stderr",
     "output_type": "stream",
     "text": [
      "C:\\Users\\XPS13-9360\\AppData\\Local\\Packages\\PythonSoftwareFoundation.Python.3.11_qbz5n2kfra8p0\\LocalCache\\local-packages\\Python311\\site-packages\\qutip_qip\\device\\processor.py:844: UserWarning: No method get_control_latex defined in the model. Switch to using the labels defined in each pulse.Set use_control_latex=False to turn off the warning.\n",
      "  warnings.warn(\n"
     ]
    },
    {
     "data": {
      "text/plain": [
       "[<matplotlib.lines.Line2D at 0x23b1a725c50>]"
      ]
     },
     "execution_count": 8,
     "metadata": {},
     "output_type": "execute_result"
    },
    {
     "data": {
      "image/png": "[encoded data removed]",
      "text/plain": [
       "<Figure size 500x300 with 2 Axes>"
      ]
     },
     "metadata": {},
     "output_type": "display_data"
    },
    {
     "data": {
      "image/png": "[encoded data removed]",
      "text/plain": [
       "<Figure size 500x300 with 2 Axes>"
      ]
     },
     "metadata": {},
     "output_type": "display_data"
    }
   ],
   "source": [
    "# Ignore the shading\n",
    "# Plot the ideal pulse\n",
    "fig1, axis1 = myprocessor.plot_pulses(title=\"Original control amplitude\", figsize=(5,3))\n",
    "\n",
    "# Plot the noisy pulse\n",
    "qobjevo, _ = myprocessor.get_qobjevo(noisy=True)\n",
    "noisy_coeff = qobjevo.to_list()[1][1] + qobjevo.to_list()[2][1]\n",
    "fig2, axis2 = myprocessor.plot_pulses(title=\"Noisy control amplitude\", figsize=(5,3))\n",
    "axis2[0].step(qobjevo.tlist, noisy_coeff)"
   ]
  },
  {
   "cell_type": "markdown",
   "metadata": {},
   "source": [
    "## Randomized Benchmarking"
   ]
  },
  {
   "cell_type": "markdown",
   "metadata": {},
   "source": [
    "Simulation for a random circuit"
   ]
  },
  {
   "cell_type": "code",
   "execution_count": 9,
   "metadata": {},
   "outputs": [],
   "source": [
    "gates_set = [\n",
    "    Gate(\"RX\", 0, arg_value=[0,0]), # X Pulse\n",
    "    Gate(\"RY\", 0, arg_value=[0,np.pi / 2]), # Y Pulse\n",
    "    Gate(\"RX\", 0, arg_value=[0.5,0]), # X Half Pulse\n",
    "    Gate(\"RY\", 0, arg_value=[0.5,np.pi / 2]), # Y Half Pulse\n",
    "    Gate(\"RX\", 0, arg_value=[0.5,-np.pi]), # X Minus Half Pulse\n",
    "    Gate(\"RY\", 0, arg_value=[0.5,-np.pi / 2]), # Y Minus Half Pulse\n",
    "]\n",
    "\n",
    "matrix_list = [\n",
    "    rx(np.pi), # X\n",
    "    ry(np.pi), # Y,\n",
    "    rx(np.pi / 2), # X/2\n",
    "    ry(np.pi / 2), # Y/2\n",
    "    rx(-np.pi / 2), # -X/2\n",
    "    ry(-np.pi / 2), # -Y/2\n",
    "    rx(0)\n",
    "]"
   ]
  },
  {
   "cell_type": "code",
   "execution_count": 10,
   "metadata": {},
   "outputs": [],
   "source": [
    "def inverse_search(state_after_clifford,matrix_list,ground_state):\n",
    "    # Index of 2 gates that inverse the clifford sequence\n",
    "    index_list = [i for i in itertools.product(range(len(matrix_list)), range(len(matrix_list)))]\n",
    "    # Product of said 2 gates\n",
    "    inverse_list = [i[0]*i[1] for i in itertools.product(matrix_list, matrix_list)]\n",
    "    \n",
    "    for i in range(len(inverse_list)):\n",
    "        # Find final state after applying the 2 inverse gates and \"normalize\"\n",
    "        final_state = inverse_list[i] * state_after_clifford\n",
    "        if final_state[0][0][0] == 0:\n",
    "            final_state = final_state/final_state[1][0][0]\n",
    "        else:\n",
    "            final_state = final_state/final_state[0][0][0]\n",
    "        # Compare to ground state\n",
    "        if np.allclose(final_state,ground_state):\n",
    "            return index_list[i]"
   ]
  },
  {
   "cell_type": "code",
   "execution_count": 11,
   "metadata": {},
   "outputs": [],
   "source": [
    "def single_simulation(num_gates):\n",
    "    \"\"\"\n",
    "    A single simulation, with num_gates representing the number of rotations.\n",
    "\n",
    "    Args:\n",
    "        num_gates (int): The number of random gates to add in the simulation.\n",
    "\n",
    "    Returns:\n",
    "        result (qutip.solver.Result):\n",
    "            A qutip Result object obtained from any of the\n",
    "            solver methods such as mesolve.\n",
    "    \"\"\"\n",
    "    num_qubits = 1\n",
    "    myprocessor = MyProcessor(num_qubits,t1=T1,t2=T2)\n",
    "    myprocessor.native_gates = None  # Remove the native gates\n",
    "    mycompiler = MyCompiler(num_qubits,{})\n",
    "    \n",
    "    # Ground state for n qubits\n",
    "    init_state = functools.reduce(lambda a, b: tensor(a,b), [basis(2, 0)] * num_qubits)\n",
    "\n",
    "    # Define a random circuit.\n",
    "    circuit = QubitCircuit(num_qubits)\n",
    "    clifford = rx(0)\n",
    "    for ind in np.random.randint(0, 6, num_gates):\n",
    "        circuit.add_gate(gates_set[ind])\n",
    "        clifford = clifford * matrix_list[ind]\n",
    "    \n",
    "    # Finding inverse clifford and adding the pulse in\n",
    "    x = inverse_search(clifford*init_state,matrix_list,init_state)\n",
    "    if x == None:\n",
    "        raise RuntimeError(\"Could not find an inverse Clifford\")\n",
    "    elif not x[0] == 6 and not x[1] == 6:\n",
    "        circuit.add_gate(gates_set[x[1]])\n",
    "        circuit.add_gate(gates_set[x[0]])\n",
    "    elif x[0] == 6 and not x[1] == 6:\n",
    "        circuit.add_gate(gates_set[x[1]])\n",
    "    elif x[1] == 6 and not x[0] == 6:\n",
    "        circuit.add_gate(gates_set[x[0]])\n",
    "    \n",
    "    # Simulate the circuit.\n",
    "    myprocessor.load_circuit(circuit, compiler=mycompiler)\n",
    "\n",
    "    # increase the maximal allowed steps\n",
    "    # options = Options(nsteps=10000)\n",
    "    # e_ops = [tensor([qeye(2), fock_dm(2)])]  # observable\n",
    "\n",
    "    # compute results of the run using a solver of choice\n",
    "    result = myprocessor.run_state(init_state, solver=\"mesolve\")\n",
    "    \n",
    "    # measured fidelity at the end\n",
    "    final_fidelity = fidelity(result.states[-1], init_state)\n",
    "    return final_fidelity"
   ]
  },
  {
   "cell_type": "markdown",
   "metadata": {},
   "source": [
    "The simulation is repeated 20 times to obtain average fidelity"
   ]
  },
  {
   "cell_type": "code",
   "execution_count": 21,
   "metadata": {},
   "outputs": [],
   "source": [
    "# For num_sample = 20, takes about 4 min\n",
    "\n",
    "num_sample = 5\n",
    "fidelity_average = []\n",
    "fidelity_error = []\n",
    "init_fid = 1\n",
    "num_gates_list = np.arange(25,525,25)\n",
    "\n",
    "for num_gates in num_gates_list:\n",
    "    fidelity_list = [single_simulation(num_gates) for i in range(num_sample)]\n",
    "    fidelity_average.append(np.mean(fidelity_list))\n",
    "    fidelity_error.append(np.std(fidelity_list) / np.sqrt(num_sample))"
   ]
  },
  {
   "cell_type": "code",
   "execution_count": 22,
   "metadata": {},
   "outputs": [
    {
     "data": {
      "text/plain": [
       "Text(0, 0.5, 'Ground State Fidelity')"
      ]
     },
     "execution_count": 22,
     "metadata": {},
     "output_type": "execute_result"
    },
    {
     "data": {
      "image/png": "[encoded data removed]",
      "text/plain": [
       "<Figure size 640x480 with 1 Axes>"
      ]
     },
     "metadata": {},
     "output_type": "display_data"
    }
   ],
   "source": [
    "plt.autoscale(enable=True, axis=\"y\", tight=False)\n",
    "plt.errorbar(num_gates_list, fidelity_average, yerr=fidelity_error, color='red', capsize=5)\n",
    "plt.xlabel(\"Number of Gates\")\n",
    "plt.ylabel(\"Ground State Fidelity\")"
   ]
  },
  {
   "cell_type": "code",
   "execution_count": null,
   "metadata": {},
   "outputs": [],
   "source": []
  }
 ],
 "metadata": {
  "kernelspec": {
   "display_name": "Python 3 (ipykernel)",
   "language": "python",
   "name": "python3"
  },
  "language_info": {
   "codemirror_mode": {
    "name": "ipython",
    "version": 3
   },
   "file_extension": ".py",
   "mimetype": "text/x-python",
   "name": "python",
   "nbconvert_exporter": "python",
   "pygments_lexer": "ipython3",
   "version": "3.11.4"
  }
 },
 "nbformat": 4,
 "nbformat_minor": 2
}
