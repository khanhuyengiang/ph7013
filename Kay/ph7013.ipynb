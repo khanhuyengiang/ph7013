{
 "cells": [
  {
   "cell_type": "markdown",
   "metadata": {},
   "source": [
    "# PH7013\n",
    "Sample code from https://qutip.org/docs/latest/guide/dynamics/dynamics-time.html"
   ]
  },
  {
   "cell_type": "code",
   "execution_count": 1,
   "metadata": {},
   "outputs": [
    {
     "name": "stderr",
     "output_type": "stream",
     "text": [
      "C:\\Users\\XPS13-9360\\AppData\\Local\\Temp\\ipykernel_10344\\1304161759.py:15: DeprecationWarning: Importation from qutip.qip.gates is deprecated.Please use e.g.\n",
      " from qutip.qip.operations import cnot\n",
      "\n",
      "  from qutip.qip.gates import *\n"
     ]
    }
   ],
   "source": [
    "import numpy as np\n",
    "\n",
    "%matplotlib inline\n",
    "import matplotlib.pyplot as plt\n",
    "\n",
    "from qutip import *\n",
    "\n",
    "import qutip_qip\n",
    "from qutip_qip.circuit import QubitCircuit\n",
    "from qutip.qip.operations import *\n",
    "from qutip_qip.compiler import GateCompiler, Instruction\n",
    "from qutip_qip.device import Model, ModelProcessor, Processor\n",
    "from qutip_qip.noise import Noise\n",
    "from qutip.qip.pulse import Pulse\n",
    "from qutip.qip.gates import *\n",
    "\n",
    "from scipy.signal import argrelextrema\n",
    "from scipy.optimize import curve_fit"
   ]
  },
  {
   "cell_type": "markdown",
   "metadata": {},
   "source": [
    "import warnings\n",
    "warnings.filterwarnings(\"ignore\", category=DeprecationWarning) "
   ]
  },
  {
   "cell_type": "code",
   "execution_count": 2,
   "metadata": {},
   "outputs": [],
   "source": [
    "with open(\"rename.py\") as f:\n",
    "    exec(f.read())"
   ]
  },
  {
   "cell_type": "markdown",
   "metadata": {},
   "source": [
    "## Finding pulse duration"
   ]
  },
  {
   "cell_type": "markdown",
   "metadata": {},
   "source": [
    "Parameters"
   ]
  },
  {
   "cell_type": "code",
   "execution_count": 3,
   "metadata": {},
   "outputs": [],
   "source": [
    "VStd = 0.1\n",
    "phaseStd = 0.382 / 180 * np.pi\n",
    "\n",
    "detuningStd = 52769\n",
    "samplingRate = 5898.24e6 # 5.89824 GS/s\n",
    "omega = 20e6 # 20MHz\n",
    "\n",
    "VNaught = 1\n",
    "hbar = 1\n",
    "phiNaught = 0\n",
    "aNaught = 25 / 46\n",
    "\n",
    "V = VNaught + np.random.normal(scale=VStd)\n",
    "phi = phiNaught + np.random.normal(scale=phaseStd)\n",
    "I = np.cos(phi)\n",
    "Q = np.sin(phi)\n",
    "\n",
    "T1 = 8.66e-6\n",
    "T1_err = 0.49\n",
    "T2 = 9.08e-6\n",
    "T2_err = 0.74e-6\n",
    "T2_echo = 16.14e-6\n",
    "T2_echo_err = 3.21e-6"
   ]
  },
  {
   "cell_type": "markdown",
   "metadata": {},
   "source": [
    "Finding the pulse duration. When specifying Python functions for coefficients, the function must have (t,args) as the input variables, in that order."
   ]
  },
  {
   "cell_type": "code",
   "execution_count": 4,
   "metadata": {},
   "outputs": [],
   "source": [
    "psi0 = basis(2,0)\n",
    "t_0 = 0\n",
    "t_final = 100e-9\n",
    "n_steps = int(samplingRate * (t_final - t_0))\n",
    "t_find_pulse = np.linspace(t_0, t_final, n_steps)\n",
    "def H_find_pulse(t, args):\n",
    "    dwt = np.random.normal(scale=detuningStd) * t\n",
    "    s = aNaught - (1 - aNaught) * np.cos(2 * np.pi * t / t_final)\n",
    "    # For 2 qubit\n",
    "    # return omega * np.pi * V * s *((-I * np.cos(dwt) + Q * np.sin(dwt)) * tensor(identity(2),sigma_x()) + (I * np.sin(dwt) - Q * np.cos(dwt)) * tensor(identity(2),sigma_y()))\n",
    "    return omega * np.pi * V * s *((-I * np.cos(dwt) + Q * np.sin(dwt)) * sigma_x() + (I * np.sin(dwt) - Q * np.cos(dwt)) * sigma_y())\n",
    "# For 2 qubit\n",
    "# result_find_pulse = sesolve(H_find_pulse, psi0, t_find_pulse, [tensor(sigmaz(),sigmaz())],options=Options(nsteps=10000))\n",
    "result_find_pulse = sesolve(H_find_pulse, psi0, t_find_pulse, [sigmaz()],options=Options(nsteps=10000))"
   ]
  },
  {
   "cell_type": "code",
   "execution_count": 5,
   "metadata": {},
   "outputs": [
    {
     "data": {
      "text/plain": [
       "(<Figure size 800x400 with 1 Axes>,\n",
       " array([[<Axes: xlabel='time'>]], dtype=object))"
      ]
     },
     "execution_count": 5,
     "metadata": {},
     "output_type": "execute_result"
    },
    {
     "data": {
      "image/png": "[encoded data removed]",
      "text/plain": [
       "<Figure size 800x400 with 1 Axes>"
      ]
     },
     "metadata": {},
     "output_type": "display_data"
    }
   ],
   "source": [
    "plot_expectation_values(result_find_pulse)"
   ]
  },
  {
   "cell_type": "markdown",
   "metadata": {},
   "source": [
    "Find the pi-pulse by optimizing"
   ]
  },
  {
   "cell_type": "code",
   "execution_count": 6,
   "metadata": {},
   "outputs": [
    {
     "name": "stdout",
     "output_type": "stream",
     "text": [
      "5.204081632653061e-08 2.6020408163265305e-08\n"
     ]
    }
   ],
   "source": [
    "# maximum_array = argrelextrema(result_find_pulse.expect[0], np.greater)\n",
    "minimum_array = argrelextrema(result_find_pulse.expect[0], np.less)\n",
    "# first_max = maximum_array[0][0]\n",
    "first_min = minimum_array[0][0]\n",
    "pi_pulse_duration = result_find_pulse.times[first_min]\n",
    "# pi_pulse_duration = np.absolute(result_find_pulse.times[first_min] - result_find_pulse.times[first_max])\n",
    "pi_half_pulse_duration = pi_pulse_duration/2\n",
    "print(pi_pulse_duration,pi_half_pulse_duration)"
   ]
  },
  {
   "cell_type": "markdown",
   "metadata": {},
   "source": [
    "Solving the Hamiltonian"
   ]
  },
  {
   "cell_type": "code",
   "execution_count": 7,
   "metadata": {},
   "outputs": [],
   "source": [
    "def H(t, args):\n",
    "    dwt = np.random.normal(scale=detuningStd) * t\n",
    "    s = aNaught - (1 - aNaught) * np.cos(2 * np.pi * t / pi_pulse_duration)\n",
    "    # return omega * np.pi * V * s * ((-I * np.cos(dwt) + Q * np.sin(dwt)) * tensor(identity(2),sigma_x()) + (I * np.sin(dwt) - Q * np.cos(dwt)) * tensor(identity(2),sigma_y()))\n",
    "    return omega * np.pi * V * s * ((-I * np.cos(dwt) + Q * np.sin(dwt)) * sigma_x() + (I * np.sin(dwt) - Q * np.cos(dwt)) * sigma_y())"
   ]
  },
  {
   "cell_type": "code",
   "execution_count": 8,
   "metadata": {},
   "outputs": [],
   "source": [
    "n_steps = int(samplingRate * (pi_pulse_duration - t_0))\n",
    "t = np.linspace(t_0, pi_pulse_duration, n_steps)\n",
    "# result = sesolve(H, psi0, t, [tensor(identity(2),sigmaz()),tensor(identity(2),sigmax()),tensor(identity(2),sigmay())],options=Options(nsteps=10000))\n",
    "result = sesolve(H, psi0, t, [sigmaz(),sigmax(),sigmay()],options=Options(nsteps=10000))"
   ]
  },
  {
   "cell_type": "code",
   "execution_count": 9,
   "metadata": {},
   "outputs": [
    {
     "data": {
      "text/plain": [
       "<matplotlib.legend.Legend at 0x235786e5b10>"
      ]
     },
     "execution_count": 9,
     "metadata": {},
     "output_type": "execute_result"
    },
    {
     "data": {
      "image/png": "[encoded data removed]",
      "text/plain": [
       "<Figure size 640x480 with 1 Axes>"
      ]
     },
     "metadata": {},
     "output_type": "display_data"
    }
   ],
   "source": [
    "plt.plot(t, np.transpose(result.expect), label=[r\"$<\\sigma_z>$\", r\"$<\\sigma_x>$\", r\"$<\\sigma_y>$\"])\n",
    "plt.xlabel(\"t [ns]\")\n",
    "plt.ylabel(\"Expectation Value\")\n",
    "plt.legend()"
   ]
  },
  {
   "cell_type": "markdown",
   "metadata": {},
   "source": [
    "## Customize device"
   ]
  },
  {
   "cell_type": "markdown",
   "metadata": {},
   "source": [
    "Built a Hamiltonian model for a device with 2 single qubit control: $\\sigma_x$ and $\\sigma_y$"
   ]
  },
  {
   "cell_type": "code",
   "execution_count": 10,
   "metadata": {},
   "outputs": [],
   "source": [
    "class MyModel(Model):\n",
    "    def __init__(self, num_qubits, dims=None, t1=None, t2=None):\n",
    "        super().__init__(num_qubits, dims=dims)\n",
    "        self.params = {#  Will be accessed by the noise module.\n",
    "            \"t1\": t1,\n",
    "            \"t2\": t2,\n",
    "        }\n",
    "        # Control Hamiltonians\n",
    "        self.controls = {}\n",
    "        self.controls.update({\"sx0\": (2 * np.pi * sigmax(),0)})\n",
    "        self.controls.update({\"sy0\": (2 * np.pi * sigmay(),0)}),\n",
    "\n",
    "    def get_control(self, label):\n",
    "        \"\"\"\n",
    "        The mandatory method. It Returns a pair of Qobj and int representing\n",
    "        the control Hamiltonian and the target qubit.\n",
    "        \"\"\"\n",
    "        return self.controls[label]"
   ]
  },
  {
   "cell_type": "markdown",
   "metadata": {},
   "source": [
    "Define the compiling routines for the two types of rotation gates RX and RY with the driving Hamiltonian:\n",
    "\n",
    "\\begin{equation}\n",
    "    \\mathcal{H} = \\Omega V_0 s(t) ( (-I\\cos{(\\delta \\omega t)} + Q\\sin{(\\delta \\omega t)})\\sigma_x + (I\\sin{(\\delta \\omega t)}-Q\\cos{(\\delta \\omega t)})\\sigma_y)\n",
    "\\end{equation}"
   ]
  },
  {
   "cell_type": "code",
   "execution_count": 23,
   "metadata": {},
   "outputs": [],
   "source": [
    "class MyProcessor(ModelProcessor):\n",
    "    \"\"\"\n",
    "    Custom processor built using ModelProcessor as the base class.\n",
    "    This custom processor will inherit all the methods of the base class\n",
    "    such as setting up of the T1 and T2 decoherence rates in the simulations.\n",
    "\n",
    "    In addition, it is possible to write your own functions to add control\n",
    "    pulses.\n",
    "\n",
    "    Args:\n",
    "        num_qubits (int): Number of qubits in the processor.\n",
    "        t1, t2 (float or list): The T1 and T2 decoherence rates for the\n",
    "    \"\"\"\n",
    "\n",
    "    def __init__(self, num_qubits, t1=None, t2=None):\n",
    "        # call the parent class initializer\n",
    "        super(MyProcessor, self).__init__(num_qubits, t1=t1, t2=t2)  \n",
    "        # The control pulse is discrete or continous.\n",
    "        self.pulse_mode = \"discrete\"\n",
    "        # The dimension of each controllable quantum system\n",
    "        self.model.dims = [2] * num_qubits\n",
    "        self.num_qubits = num_qubits\n",
    "        self.set_up_ops()  # set up the available Hamiltonians\n",
    "\n",
    "    def set_up_ops(self):\n",
    "        \"\"\"\n",
    "        Sets up the control operators.\n",
    "        \"\"\"\n",
    "        # sigmax pulse on m-th qubit with the corresponding pulse\n",
    "        for m in range(self.num_qubits):\n",
    "            self.add_control(2 * np.pi * sigmax(), m, label=\"sx\" + str(m))\n",
    "        # sy\n",
    "        for m in range(self.num_qubits):\n",
    "            self.add_control(2 * np.pi * sigmay(), m, label=\"sy\" + str(m))\n"
   ]
  },
  {
   "cell_type": "code",
   "execution_count": 11,
   "metadata": {},
   "outputs": [],
   "source": [
    "class MyCompiler(GateCompiler):\n",
    "    \"\"\"\n",
    "    Custom compiler for generating pulses from gates using the base class GateCompiler.\n",
    "\n",
    "    Args:\n",
    "        num_qubits (int): The number of qubits in the processor\n",
    "        params (dict): A dictionary of parameters for gate pulses\n",
    "                       such as the pulse amplitude.\n",
    "    \"\"\"\n",
    "\n",
    "    def __init__(self, num_qubits, params):\n",
    "        super().__init__(num_qubits, params=params)\n",
    "        self.params = params\n",
    "        self.gate_compiler = {\n",
    "            \"RX\": self.single_qubit_gate_compiler,\n",
    "            \"RY\": self.single_qubit_gate_compiler,\n",
    "        }\n",
    "\n",
    "    def generate_pulse(self, gate, tlist, coeff, phase=0.0):\n",
    "        \"\"\"Generates the pulses.\n",
    "\n",
    "        Args:\n",
    "            gate (qutip_qip.circuit.Gate): A qutip Gate object.\n",
    "            tlist (array): A list of times for the evolution.\n",
    "            coeff (array): An array of coefficients for the gate pulses\n",
    "            phase (float): The value of the phase for the gate.\n",
    "\n",
    "        Returns:\n",
    "            Instruction (qutip_qip.compiler.instruction.Instruction):\n",
    "            An instruction to implement a gate containing the control pulses.\n",
    "        \"\"\"\n",
    "        pulse_info = [\n",
    "            # (control label, coeff)\n",
    "            (\"sx\" + str(gate.targets[0]), coeff),\n",
    "            (\"sy\" + str(gate.targets[0]), coeff),\n",
    "        ]\n",
    "        return [Instruction(gate, tlist=tlist, pulse_info=pulse_info)]\n",
    "\n",
    "    def single_qubit_gate_compiler(self, gate, args):\n",
    "        \"\"\"Compiles single-qubit gates to pulses.\n",
    "\n",
    "        Args:\n",
    "            gate (qutip_qip.circuit.Gate): A qutip Gate object.\n",
    "\n",
    "        Returns:\n",
    "            Instruction (qutip_qip.compiler.instruction.Instruction):\n",
    "            An instruction to implement a gate containing the control pulses.\n",
    "        \"\"\"\n",
    "        # gate.arg_value is the rotation angle\n",
    "\n",
    "        V = VNaught + np.random.normal(scale=VStd)\n",
    "        phi = phiNaught + np.random.normal(scale=phaseStd)\n",
    "        I = np.cos(phi)\n",
    "        Q = np.sin(phi)\n",
    "\n",
    "        a = np.abs(gate.arg_value)/np.pi\n",
    "        if a == 0.5:\n",
    "            n_steps = int(samplingRate * (pi_pulse_duration/2 - t_0))\n",
    "            tlist = np.linspace(t_0, pi_pulse_duration/2, n_steps) \n",
    "        else:\n",
    "            n_steps = int(samplingRate * (pi_pulse_duration - t_0))\n",
    "            tlist = np.linspace(t_0, pi_pulse_duration, n_steps)        \n",
    "  \n",
    "        dwt = np.random.normal(scale=detuningStd) * tlist\n",
    "        s = aNaught - (1 - aNaught) * np.cos(2 * np.pi * tlist / pi_pulse_duration)\n",
    "\n",
    "        if gate.name == \"RX\":\n",
    "            coeff = np.asarray([omega * np.pi * V * s[i] * (-I * np.cos(dwt[i]) + Q * np.sin(dwt[i])) for i in range(len(s))])\n",
    "            return self.generate_pulse(gate, tlist, coeff, phase=0.0)\n",
    "        elif gate.name == \"RY\":\n",
    "            coeff = np.asarray([omega * np.pi * V * s[i] * (I * np.sin(dwt[i]) - Q * np.cos(dwt[i])) for i in range(len(s))])\n",
    "            return self.generate_pulse(gate, tlist, coeff, phase=np.pi/2)"
   ]
  },
  {
   "cell_type": "code",
   "execution_count": 53,
   "metadata": {},
   "outputs": [],
   "source": [
    "class MyCompiler(GateCompiler):\n",
    "    \"\"\"\n",
    "    Custom compiler for generating pulses from gates using the base class GateCompiler.\n",
    "\n",
    "    Args:\n",
    "        num_qubits (int): The number of qubits in the processor\n",
    "        params (dict): A dictionary of parameters for gate pulses\n",
    "                       such as the pulse amplitude.\n",
    "    \"\"\"\n",
    "\n",
    "    def __init__(self, num_qubits, params):\n",
    "        super().__init__(num_qubits, params=params)\n",
    "        self.params = params\n",
    "        self.gate_compiler = {\n",
    "            \"RX\": self.single_qubit_gate_compiler,\n",
    "            \"RY\": self.single_qubit_gate_compiler,\n",
    "        }\n",
    "\n",
    "    def generate_pulse(self, gate, tlist, coeff, phase=0.0):\n",
    "        \"\"\"Generates the pulses.\n",
    "\n",
    "        Args:\n",
    "            gate (qutip_qip.circuit.Gate): A qutip Gate object.\n",
    "            tlist (array): A list of times for the evolution.\n",
    "            coeff (array): An array of coefficients for the gate pulses\n",
    "            phase (float): The value of the phase for the gate.\n",
    "\n",
    "        Returns:\n",
    "            Instruction (qutip_qip.compiler.instruction.Instruction):\n",
    "            An instruction to implement a gate containing the control pulses.\n",
    "        \"\"\"\n",
    "        pulse_info = [\n",
    "            # (control label, coeff)\n",
    "            (\"sx\" + str(gate.targets[0]), coeff),\n",
    "            (\"sy\" + str(gate.targets[0]), coeff),\n",
    "        ]\n",
    "        return [Instruction(gate, tlist=tlist, pulse_info=pulse_info)]\n",
    "\n",
    "    def single_qubit_gate_compiler(self, gate, args):\n",
    "        \"\"\"Compiles single-qubit gates to pulses.\n",
    "\n",
    "        Args:\n",
    "            gate (qutip_qip.circuit.Gate): A qutip Gate object.\n",
    "\n",
    "        Returns:\n",
    "            Instruction (qutip_qip.compiler.instruction.Instruction):\n",
    "            An instruction to implement a gate containing the control pulses.\n",
    "        \"\"\"\n",
    "        # gate.arg_value is the rotation angle\n",
    "        phiNaught = gate.arg_value[1]\n",
    "        \n",
    "        V = VNaught + np.random.normal(scale=VStd)\n",
    "        phi = phiNaught + np.random.normal(scale=phaseStd)\n",
    "        I = np.cos(phi)\n",
    "        Q = np.sin(phi)\n",
    "\n",
    "        ratio_of_pi_pulse = gate.arg_value[0]\n",
    "        if ratio_of_pi_pulse == 0.5:\n",
    "            n_steps = int(samplingRate * (pi_pulse_duration/2 - t_0))\n",
    "            tlist = np.linspace(t_0, pi_pulse_duration/2, n_steps) \n",
    "        else:\n",
    "            n_steps = int(samplingRate * (pi_pulse_duration - t_0))\n",
    "            tlist = np.linspace(t_0, pi_pulse_duration, n_steps)        \n",
    "  \n",
    "        dwt = np.random.normal(scale=detuningStd) * tlist\n",
    "        s = aNaught - (1 - aNaught) * np.cos(2 * np.pi * tlist / pi_pulse_duration)\n",
    "\n",
    "        if gate.name == \"RX\":\n",
    "            coeff = np.sign(gate.arg_value[1])*np.asarray([omega * np.pi * V * s[i] * (-I * np.cos(dwt[i]) + Q * np.sin(dwt[i])) for i in range(len(s))])\n",
    "            return self.generate_pulse(gate, tlist, coeff)\n",
    "        elif gate.name == \"RY\":\n",
    "            coeff = np.sign(gate.arg_value[1])*np.asarray([omega * np.pi * V * s[i] * (I * np.sin(dwt[i]) - Q * np.cos(dwt[i])) for i in range(len(s))])\n",
    "            return self.generate_pulse(gate, tlist, coeff)"
   ]
  },
  {
   "cell_type": "markdown",
   "metadata": {},
   "source": [
    "class MyCompiler(GateCompiler):\n",
    "    \"\"\"\n",
    "    Custom compiler for generating pulses from gates using\n",
    "    the base class GateCompiler.\n",
    "\n",
    "    Args:\n",
    "        num_qubits (int): The number of qubits in the processor\n",
    "        params (dict): A dictionary of parameters for gate pulses\n",
    "                       such as the pulse amplitude.\n",
    "    \"\"\"\n",
    "\n",
    "    def __init__(self, num_qubits, params):\n",
    "        super().__init__(num_qubits, params=params)\n",
    "        self.params = params\n",
    "        self.gate_compiler = {\n",
    "            \"RX\": self.single_qubit_gate_compiler,\n",
    "            \"RY\": self.single_qubit_gate_compiler,\n",
    "        }\n",
    "\n",
    "    def generate_pulse(self, gate, tlist, coeff, phase=0.0):\n",
    "        \"\"\"Generates the pulses.\n",
    "\n",
    "        Args:\n",
    "            gate (qutip_qip.circuit.Gate): A qutip Gate object.\n",
    "            tlist (array): A list of times for the evolution.\n",
    "            coeff (array): An array of coefficients for the gate pulses\n",
    "            phase (float): The value of the phase for the gate.\n",
    "\n",
    "        Returns:\n",
    "            Instruction (qutip_qip.compiler.instruction.Instruction):\n",
    "            An instruction to implement a gate containing the control pulses.\n",
    "        \"\"\"\n",
    "        pulse_info = [\n",
    "            # (control label, coeff)\n",
    "            (\"sx\" + str(gate.targets[0]), np.cos(phase) * coeff),\n",
    "            (\"sy\" + str(gate.targets[0]), np.sin(phase) * coeff),\n",
    "        ]\n",
    "        return [Instruction(gate, tlist=tlist, pulse_info=pulse_info)]\n",
    "\n",
    "    def single_qubit_gate_compiler(self, gate, args):\n",
    "        \"\"\"Compiles single-qubit gates to pulses.\n",
    "\n",
    "        Args:\n",
    "            gate (qutip_qip.circuit.Gate): A qutip Gate object.\n",
    "\n",
    "        Returns:\n",
    "            Instruction (qutip_qip.compiler.instruction.Instruction):\n",
    "            An instruction to implement a gate containing the control pulses.\n",
    "        \"\"\"\n",
    "        # gate.arg_value is the rotation angle\n",
    "\n",
    "        V = VNaught + np.random.normal(scale=VStd)\n",
    "        phi = phiNaught + np.random.normal(scale=phaseStd)\n",
    "        I = np.cos(phi)\n",
    "        Q = np.sin(phi)\n",
    "        \n",
    "        t = self.params[\"tlist\"]\n",
    "        tlist = np.asarray(t)\n",
    "        #tlist = np.abs(gate.arg_value) / self.params[\"pulse_amplitude\"]\n",
    "        dwt = np.random.normal(scale=detuningStd) * t\n",
    "        s = aNaught - (1 - aNaught) * np.cos(2 * np.pi * t / pi_pulse_duration)\n",
    "        #coeff = self.params[\"pulse_amplitude\"] * np.sign(gate.arg_value)\n",
    "        \n",
    "        if gate.name == \"RX\":\n",
    "            coeff = np.asarray([omega * np.pi * V * s[i] * (-I * np.cos(dwt[i]) + Q * np.sin(dwt[i])) for i in range(len(s))])\n",
    "            return self.generate_pulse(gate, tlist, coeff, phase=0.0)\n",
    "        elif gate.name == \"RY\":\n",
    "            coeff = np.asarray([omega * np.pi * V * s[i] * (I * np.sin(dwt[i]) - Q * np.cos(dwt[i])) for i in range(len(s))])\n",
    "            return self.generate_pulse(gate, tlist, coeff, phase=np.pi / 2)"
   ]
  },
  {
   "cell_type": "markdown",
   "metadata": {},
   "source": [
    "Define an example circuit. The compiled pulses are shown, where the Z gate is decomposed into rotations around $x$ and $y$ axes."
   ]
  },
  {
   "cell_type": "code",
   "execution_count": 54,
   "metadata": {},
   "outputs": [
    {
     "name": "stderr",
     "output_type": "stream",
     "text": [
      "C:\\Users\\XPS13-9360\\AppData\\Local\\Temp\\ipykernel_10344\\3627228477.py:5: DeprecationWarning: Importing functions/classes of the qip submodule directly from the namespace qutip is deprecated. Please import them from the submodule instead, e.g.\n",
      "from qutip.qip.operations import cnot\n",
      "from qutip.qip.circuit import QubitCircuit\n",
      "\n",
      "  circuit = QubitCircuit(num_qubits)\n"
     ]
    },
    {
     "name": "stdout",
     "output_type": "stream",
     "text": [
      "0.34946972089416745\n"
     ]
    },
    {
     "name": "stderr",
     "output_type": "stream",
     "text": [
      "C:\\Users\\XPS13-9360\\AppData\\Local\\Temp\\ipykernel_10344\\3627228477.py:25: UserWarning: The figure layout has changed to tight\n",
      "  fig.tight_layout()\n"
     ]
    },
    {
     "data": {
      "image/png": "[encoded data removed]",
      "text/plain": [
       "<Figure size 600x360 with 2 Axes>"
      ]
     },
     "metadata": {},
     "output_type": "display_data"
    }
   ],
   "source": [
    "# Define a circuit and run the simulation\n",
    "\n",
    "num_qubits = 1\n",
    "\n",
    "circuit = QubitCircuit(num_qubits)\n",
    "circuit.add_gate(\"RX\", targets=0, arg_value=[-np.pi,0])\n",
    "circuit.add_gate(\"RY\", targets=0, arg_value=[-np.pi / 2,0.5])\n",
    "\n",
    "\n",
    "myprocessor = MyProcessor(num_qubits)\n",
    "myprocessor.native_gates = [\"RX\", \"RY\"]\n",
    "\n",
    "t_0 = 0\n",
    "n_steps = int(samplingRate * (pi_pulse_duration - t_0))\n",
    "t = np.linspace(t_0, pi_pulse_duration, n_steps)\n",
    "init_state = basis(2, 0)\n",
    "mycompiler = MyCompiler(num_qubits,{})\n",
    "\n",
    "myprocessor.load_circuit(circuit, compiler=mycompiler)\n",
    "result = myprocessor.run_state(init_state)\n",
    "print(fidelity(result.states[-1], init_state))\n",
    "\n",
    "fig, ax = myprocessor.plot_pulses(figsize=(5, 3), dpi=120, use_control_latex=False)\n",
    "ax[-1].set_xlabel(\"$t$\")\n",
    "fig.tight_layout()"
   ]
  },
  {
   "cell_type": "markdown",
   "metadata": {},
   "source": [
    "## Randomized Benchmarking"
   ]
  },
  {
   "cell_type": "markdown",
   "metadata": {},
   "source": [
    "Simulation for a random circuit"
   ]
  },
  {
   "cell_type": "code",
   "execution_count": 59,
   "metadata": {},
   "outputs": [],
   "source": [
    "def single_simulation(num_gates):\n",
    "    \"\"\"\n",
    "    A single simulation, with num_gates representing the number of rotations.\n",
    "\n",
    "    Args:\n",
    "        num_gates (int): The number of random gates to add in the simulation.\n",
    "\n",
    "    Returns:\n",
    "        result (qutip.solver.Result):\n",
    "            A qutip Result object obtained from any of the\n",
    "            solver methods such as mesolve.\n",
    "    \"\"\"\n",
    "    num_qubits = 2\n",
    "    myprocessor = MyProcessor(num_qubits,t1=T1,t2=T2)\n",
    "    myprocessor.native_gates = None  # Remove the native gates\n",
    "    mycompiler = MyCompiler(num_qubits,{})\n",
    "    \n",
    "    # Define a random circuit.\n",
    "    gates_set = [\n",
    "        Gate(\"RX\", 0, arg_value=[0,0]), # X Pulse\n",
    "        Gate(\"RY\", 0, arg_value=[0,np.pi / 2]), # Y Pulse\n",
    "        Gate(\"RX\", 0, arg_value=[0.5,0]), # X Half Pulse\n",
    "        Gate(\"RY\", 0, arg_value=[0.5,np.pi / 2]), # Y Half Pulse\n",
    "        Gate(\"RX\", 0, arg_value=[0.5,-np.pi]), # X Half Pulse\n",
    "        Gate(\"RY\", 0, arg_value=[0.5,-np.pi / 2]), # Y Half Pulse\n",
    "    ]\n",
    "\n",
    "    circuit = QubitCircuit(num_qubits)\n",
    "    for ind in np.random.randint(0, 6, num_gates):\n",
    "        circuit.add_gate(gates_set[ind])\n",
    "    \n",
    "    # Simulate the circuit.\n",
    "    myprocessor.load_circuit(circuit, compiler=mycompiler)\n",
    "    init_state = tensor([Qobj([[1, 0], [0, 0]]),Qobj([[1, 0], [0, 0]])])\n",
    "    \n",
    "    # increase the maximal allowed steps\n",
    "    options = Options(nsteps=10000)\n",
    "    e_ops = [tensor([qeye(2), fock_dm(2)])]  # observable\n",
    "\n",
    "    # compute results of the run using a solver of choice\n",
    "    result = myprocessor.run_state(init_state, solver=\"mesolve\", options=options, e_ops=e_ops)\n",
    "\n",
    "    # measured expectation value at the end\n",
    "    final_fidelity = fidelity(result.states[-1], init_state)\n",
    "    return final_fidelity"
   ]
  },
  {
   "cell_type": "markdown",
   "metadata": {},
   "source": [
    "The simulation is repeated 150 times to obtain average fidelity"
   ]
  },
  {
   "cell_type": "code",
   "execution_count": 60,
   "metadata": {},
   "outputs": [
    {
     "name": "stderr",
     "output_type": "stream",
     "text": [
      "C:\\Users\\XPS13-9360\\AppData\\Local\\Temp\\ipykernel_10344\\2509410146.py:20: DeprecationWarning: Importing functions/classes of the qip submodule directly from the namespace qutip is deprecated. Please import them from the submodule instead, e.g.\n",
      "from qutip.qip.operations import cnot\n",
      "from qutip.qip.circuit import QubitCircuit\n",
      "\n",
      "  Gate(\"RX\", 0, arg_value=[0,0]), # X Pulse\n",
      "C:\\Users\\XPS13-9360\\AppData\\Local\\Temp\\ipykernel_10344\\2509410146.py:21: DeprecationWarning: Importing functions/classes of the qip submodule directly from the namespace qutip is deprecated. Please import them from the submodule instead, e.g.\n",
      "from qutip.qip.operations import cnot\n",
      "from qutip.qip.circuit import QubitCircuit\n",
      "\n",
      "  Gate(\"RY\", 0, arg_value=[0,np.pi / 2]), # Y Pulse\n",
      "C:\\Users\\XPS13-9360\\AppData\\Local\\Temp\\ipykernel_10344\\2509410146.py:22: DeprecationWarning: Importing functions/classes of the qip submodule directly from the namespace qutip is deprecated. Please import them from the submodule instead, e.g.\n",
      "from qutip.qip.operations import cnot\n",
      "from qutip.qip.circuit import QubitCircuit\n",
      "\n",
      "  Gate(\"RX\", 0, arg_value=[0.5,0]), # X Half Pulse\n",
      "C:\\Users\\XPS13-9360\\AppData\\Local\\Temp\\ipykernel_10344\\2509410146.py:23: DeprecationWarning: Importing functions/classes of the qip submodule directly from the namespace qutip is deprecated. Please import them from the submodule instead, e.g.\n",
      "from qutip.qip.operations import cnot\n",
      "from qutip.qip.circuit import QubitCircuit\n",
      "\n",
      "  Gate(\"RY\", 0, arg_value=[0.5,np.pi / 2]), # Y Half Pulse\n",
      "C:\\Users\\XPS13-9360\\AppData\\Local\\Temp\\ipykernel_10344\\2509410146.py:24: DeprecationWarning: Importing functions/classes of the qip submodule directly from the namespace qutip is deprecated. Please import them from the submodule instead, e.g.\n",
      "from qutip.qip.operations import cnot\n",
      "from qutip.qip.circuit import QubitCircuit\n",
      "\n",
      "  Gate(\"RX\", 0, arg_value=[0.5,-np.pi]), # X Half Pulse\n",
      "C:\\Users\\XPS13-9360\\AppData\\Local\\Temp\\ipykernel_10344\\2509410146.py:25: DeprecationWarning: Importing functions/classes of the qip submodule directly from the namespace qutip is deprecated. Please import them from the submodule instead, e.g.\n",
      "from qutip.qip.operations import cnot\n",
      "from qutip.qip.circuit import QubitCircuit\n",
      "\n",
      "  Gate(\"RY\", 0, arg_value=[0.5,-np.pi / 2]), # Y Half Pulse\n",
      "C:\\Users\\XPS13-9360\\AppData\\Local\\Temp\\ipykernel_10344\\2509410146.py:28: DeprecationWarning: Importing functions/classes of the qip submodule directly from the namespace qutip is deprecated. Please import them from the submodule instead, e.g.\n",
      "from qutip.qip.operations import cnot\n",
      "from qutip.qip.circuit import QubitCircuit\n",
      "\n",
      "  circuit = QubitCircuit(num_qubits)\n"
     ]
    },
    {
     "ename": "IndexError",
     "evalue": "list index out of range",
     "output_type": "error",
     "traceback": [
      "\u001b[1;31m---------------------------------------------------------------------------\u001b[0m",
      "\u001b[1;31mIndexError\u001b[0m                                Traceback (most recent call last)",
      "Cell \u001b[1;32mIn[60], line 14\u001b[0m\n\u001b[0;32m      8\u001b[0m \u001b[39m# The full simulation is defined in the commented lines below.\u001b[39;00m\n\u001b[0;32m      9\u001b[0m \u001b[39m# from joblib import Parallel, delayed  # for parallel simulations\u001b[39;00m\n\u001b[0;32m     10\u001b[0m \u001b[39m# num_sample = 1600\u001b[39;00m\n\u001b[0;32m     11\u001b[0m \u001b[39m# num_gates_list = [250, 500, 750, 1000, 1250, 1500]\u001b[39;00m\n\u001b[0;32m     13\u001b[0m \u001b[39mfor\u001b[39;00m num_gates \u001b[39min\u001b[39;00m num_gates_list:\n\u001b[1;32m---> 14\u001b[0m     fidelity_list \u001b[39m=\u001b[39m [single_simulation(num_gates) \u001b[39mfor\u001b[39;49;00m i \u001b[39min\u001b[39;49;00m \u001b[39mrange\u001b[39;49m(num_sample)]\n\u001b[0;32m     16\u001b[0m     fidelity_average\u001b[39m.\u001b[39mappend(np\u001b[39m.\u001b[39mmean(fidelity_list))\n\u001b[0;32m     17\u001b[0m     fidelity_error\u001b[39m.\u001b[39mappend(np\u001b[39m.\u001b[39mstd(fidelity_list) \u001b[39m/\u001b[39m np\u001b[39m.\u001b[39msqrt(num_sample))\n",
      "Cell \u001b[1;32mIn[60], line 14\u001b[0m, in \u001b[0;36m<listcomp>\u001b[1;34m(.0)\u001b[0m\n\u001b[0;32m      8\u001b[0m \u001b[39m# The full simulation is defined in the commented lines below.\u001b[39;00m\n\u001b[0;32m      9\u001b[0m \u001b[39m# from joblib import Parallel, delayed  # for parallel simulations\u001b[39;00m\n\u001b[0;32m     10\u001b[0m \u001b[39m# num_sample = 1600\u001b[39;00m\n\u001b[0;32m     11\u001b[0m \u001b[39m# num_gates_list = [250, 500, 750, 1000, 1250, 1500]\u001b[39;00m\n\u001b[0;32m     13\u001b[0m \u001b[39mfor\u001b[39;00m num_gates \u001b[39min\u001b[39;00m num_gates_list:\n\u001b[1;32m---> 14\u001b[0m     fidelity_list \u001b[39m=\u001b[39m [single_simulation(num_gates) \u001b[39mfor\u001b[39;00m i \u001b[39min\u001b[39;00m \u001b[39mrange\u001b[39m(num_sample)]\n\u001b[0;32m     16\u001b[0m     fidelity_average\u001b[39m.\u001b[39mappend(np\u001b[39m.\u001b[39mmean(fidelity_list))\n\u001b[0;32m     17\u001b[0m     fidelity_error\u001b[39m.\u001b[39mappend(np\u001b[39m.\u001b[39mstd(fidelity_list) \u001b[39m/\u001b[39m np\u001b[39m.\u001b[39msqrt(num_sample))\n",
      "Cell \u001b[1;32mIn[59], line 44\u001b[0m, in \u001b[0;36msingle_simulation\u001b[1;34m(num_gates)\u001b[0m\n\u001b[0;32m     41\u001b[0m result \u001b[39m=\u001b[39m myprocessor\u001b[39m.\u001b[39mrun_state(init_state, solver\u001b[39m=\u001b[39m\u001b[39m\"\u001b[39m\u001b[39mmesolve\u001b[39m\u001b[39m\"\u001b[39m, options\u001b[39m=\u001b[39moptions, e_ops\u001b[39m=\u001b[39me_ops)\n\u001b[0;32m     43\u001b[0m \u001b[39m# measured expectation value at the end\u001b[39;00m\n\u001b[1;32m---> 44\u001b[0m final_fidelity \u001b[39m=\u001b[39m fidelity(result\u001b[39m.\u001b[39;49mstates[\u001b[39m-\u001b[39;49m\u001b[39m1\u001b[39;49m], init_state)\n\u001b[0;32m     45\u001b[0m \u001b[39mreturn\u001b[39;00m final_fidelity\n",
      "\u001b[1;31mIndexError\u001b[0m: list index out of range"
     ]
    }
   ],
   "source": [
    "# The full simulation may take several hours\n",
    "num_sample = 10\n",
    "fidelity_average = []\n",
    "fidelity_error = []\n",
    "init_fid = 1\n",
    "num_gates_list = np.arange(25,225,25)\n",
    "\n",
    "# The full simulation is defined in the commented lines below.\n",
    "# from joblib import Parallel, delayed  # for parallel simulations\n",
    "# num_sample = 1600\n",
    "# num_gates_list = [250, 500, 750, 1000, 1250, 1500]\n",
    "\n",
    "for num_gates in num_gates_list:\n",
    "    fidelity_list = [single_simulation(num_gates) for i in range(num_sample)]\n",
    "\n",
    "    fidelity_average.append(np.mean(fidelity_list))\n",
    "    fidelity_error.append(np.std(fidelity_list) / np.sqrt(num_sample))"
   ]
  },
  {
   "cell_type": "code",
   "execution_count": null,
   "metadata": {},
   "outputs": [],
   "source": [
    "print(fidelity)"
   ]
  },
  {
   "cell_type": "markdown",
   "metadata": {},
   "source": [
    "def rb_curve(x, a):\n",
    "    return (1 / 2 + np.exp(-2 * a * x) / 2) * 0.975\n",
    "\n",
    "\n",
    "pos, cov = curve_fit(rb_curve, num_gates_list, fidelity, p0=[0.001])\n",
    "\n",
    "xline = np.linspace(0, 150, 25)\n",
    "yline = rb_curve(xline, *pos)\n",
    "\n",
    "fig, ax = plt.subplots(figsize=(5, 3), dpi=100)\n",
    "ax.errorbar(\n",
    "    num_gates_list, fidelity, yerr=fidelity_error, fmt=\".\",\n",
    "    capsize=2, color=\"slategrey\"\n",
    ")\n",
    "ax.plot(xline, yline, color=\"slategrey\")\n",
    "ax.set_ylabel(\"Average fidelity\")\n",
    "ax.set_xlabel(r\"Number of $\\pi$ rotations\")\n",
    "ax.set_xlim((0, 150));"
   ]
  },
  {
   "cell_type": "code",
   "execution_count": null,
   "metadata": {},
   "outputs": [],
   "source": [
    "plt.plot(num_gates_list,np.subtract(fidelity,1))\n",
    "plt.autoscale(enable=True, axis=\"y\", tight=False)\n",
    "#plt.errorbar(num_gates_list, fidelity, yerr=fidelity_error, linestyle='dashed', color='red', capsize=5)\n"
   ]
  },
  {
   "cell_type": "code",
   "execution_count": 20,
   "metadata": {},
   "outputs": [
    {
     "name": "stderr",
     "output_type": "stream",
     "text": [
      "C:\\Users\\XPS13-9360\\AppData\\Local\\Temp\\ipykernel_10344\\85444839.py:8: DeprecationWarning: Importing functions/classes of the qip submodule directly from the namespace qutip is deprecated. Please import them from the submodule instead, e.g.\n",
      "from qutip.qip.operations import cnot\n",
      "from qutip.qip.circuit import QubitCircuit\n",
      "\n",
      "  Gate(\"RX\", 0, arg_value=0),\n",
      "C:\\Users\\XPS13-9360\\AppData\\Local\\Temp\\ipykernel_10344\\85444839.py:9: DeprecationWarning: Importing functions/classes of the qip submodule directly from the namespace qutip is deprecated. Please import them from the submodule instead, e.g.\n",
      "from qutip.qip.operations import cnot\n",
      "from qutip.qip.circuit import QubitCircuit\n",
      "\n",
      "  Gate(\"RX\", 0, arg_value=np.pi / 2),\n",
      "C:\\Users\\XPS13-9360\\AppData\\Local\\Temp\\ipykernel_10344\\85444839.py:10: DeprecationWarning: Importing functions/classes of the qip submodule directly from the namespace qutip is deprecated. Please import them from the submodule instead, e.g.\n",
      "from qutip.qip.operations import cnot\n",
      "from qutip.qip.circuit import QubitCircuit\n",
      "\n",
      "  Gate(\"RX\", 0, arg_value=np.pi),\n",
      "C:\\Users\\XPS13-9360\\AppData\\Local\\Temp\\ipykernel_10344\\85444839.py:11: DeprecationWarning: Importing functions/classes of the qip submodule directly from the namespace qutip is deprecated. Please import them from the submodule instead, e.g.\n",
      "from qutip.qip.operations import cnot\n",
      "from qutip.qip.circuit import QubitCircuit\n",
      "\n",
      "  Gate(\"RX\", 0, arg_value=-np.pi / 2),\n",
      "C:\\Users\\XPS13-9360\\AppData\\Local\\Temp\\ipykernel_10344\\85444839.py:12: DeprecationWarning: Importing functions/classes of the qip submodule directly from the namespace qutip is deprecated. Please import them from the submodule instead, e.g.\n",
      "from qutip.qip.operations import cnot\n",
      "from qutip.qip.circuit import QubitCircuit\n",
      "\n",
      "  Gate(\"RY\", 0, arg_value=0),\n",
      "C:\\Users\\XPS13-9360\\AppData\\Local\\Temp\\ipykernel_10344\\85444839.py:13: DeprecationWarning: Importing functions/classes of the qip submodule directly from the namespace qutip is deprecated. Please import them from the submodule instead, e.g.\n",
      "from qutip.qip.operations import cnot\n",
      "from qutip.qip.circuit import QubitCircuit\n",
      "\n",
      "  Gate(\"RY\", 0, arg_value=np.pi / 2),\n",
      "C:\\Users\\XPS13-9360\\AppData\\Local\\Temp\\ipykernel_10344\\85444839.py:14: DeprecationWarning: Importing functions/classes of the qip submodule directly from the namespace qutip is deprecated. Please import them from the submodule instead, e.g.\n",
      "from qutip.qip.operations import cnot\n",
      "from qutip.qip.circuit import QubitCircuit\n",
      "\n",
      "  Gate(\"RY\", 0, arg_value=np.pi),\n",
      "C:\\Users\\XPS13-9360\\AppData\\Local\\Temp\\ipykernel_10344\\85444839.py:15: DeprecationWarning: Importing functions/classes of the qip submodule directly from the namespace qutip is deprecated. Please import them from the submodule instead, e.g.\n",
      "from qutip.qip.operations import cnot\n",
      "from qutip.qip.circuit import QubitCircuit\n",
      "\n",
      "  Gate(\"RY\", 0, arg_value=-np.pi / 2),\n",
      "C:\\Users\\XPS13-9360\\AppData\\Local\\Temp\\ipykernel_10344\\85444839.py:18: DeprecationWarning: Importing functions/classes of the qip submodule directly from the namespace qutip is deprecated. Please import them from the submodule instead, e.g.\n",
      "from qutip.qip.operations import cnot\n",
      "from qutip.qip.circuit import QubitCircuit\n",
      "\n",
      "  circuit = QubitCircuit(num_qubits)\n"
     ]
    }
   ],
   "source": [
    "    num_qubits = 2\n",
    "    myprocessor = ModelProcessor(model=MyModel(num_qubits),t1=T1,t2=T2)\n",
    "    myprocessor.native_gates = None  # Remove the native gates\n",
    "    mycompiler = MyCompiler(num_qubits,{})\n",
    "    \n",
    "    # Define a random circuit.\n",
    "    gates_set = [\n",
    "        Gate(\"RX\", 0, arg_value=0),\n",
    "        Gate(\"RX\", 0, arg_value=np.pi / 2),\n",
    "        Gate(\"RX\", 0, arg_value=np.pi),\n",
    "        Gate(\"RX\", 0, arg_value=-np.pi / 2),\n",
    "        Gate(\"RY\", 0, arg_value=0),\n",
    "        Gate(\"RY\", 0, arg_value=np.pi / 2),\n",
    "        Gate(\"RY\", 0, arg_value=np.pi),\n",
    "        Gate(\"RY\", 0, arg_value=-np.pi / 2),\n",
    "    ]\n",
    "\n",
    "    circuit = QubitCircuit(num_qubits)\n",
    "    for ind in np.random.randint(0, 8, num_gates):\n",
    "        circuit.add_gate(gates_set[ind])\n",
    "    \n",
    "    # Simulate the circuit.\n",
    "    myprocessor.load_circuit(circuit, compiler=mycompiler)\n",
    "    init_state = tensor([Qobj([[1, 0], [0, 0]]),Qobj([[1, 0], [0, 0]])])\n",
    "    \n",
    "    # increase the maximal allowed steps\n",
    "    options = Options(nsteps=10000)\n",
    "    e_ops = [tensor([qeye(2), fock_dm(2)])]  # observable\n",
    "\n",
    "    # compute results of the run using a solver of choice\n",
    "    result = myprocessor.run_state(init_state, solver=\"mesolve\", options=options, e_ops=e_ops)"
   ]
  },
  {
   "cell_type": "code",
   "execution_count": 21,
   "metadata": {},
   "outputs": [
    {
     "data": {
      "text/plain": [
       "[]"
      ]
     },
     "execution_count": 21,
     "metadata": {},
     "output_type": "execute_result"
    }
   ],
   "source": [
    "result.states"
   ]
  },
  {
   "cell_type": "code",
   "execution_count": null,
   "metadata": {},
   "outputs": [],
   "source": []
  }
 ],
 "metadata": {
  "kernelspec": {
   "display_name": "Python 3 (ipykernel)",
   "language": "python",
   "name": "python3"
  },
  "language_info": {
   "codemirror_mode": {
    "name": "ipython",
    "version": 3
   },
   "file_extension": ".py",
   "mimetype": "text/x-python",
   "name": "python",
   "nbconvert_exporter": "python",
   "pygments_lexer": "ipython3",
   "version": "3.11.4"
  }
 },
 "nbformat": 4,
 "nbformat_minor": 2
}
