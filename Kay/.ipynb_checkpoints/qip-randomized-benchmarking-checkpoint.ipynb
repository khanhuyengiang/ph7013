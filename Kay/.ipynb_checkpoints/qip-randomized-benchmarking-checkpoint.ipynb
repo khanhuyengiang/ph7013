{
 "cells": [
  {
   "cell_type": "markdown",
   "id": "1f258485",
   "metadata": {},
   "source": [
    "# Simulating randomized benchmarking\n",
    "\n",
    "In this example, we will reproduce a randomized benchmarking experiment used in Figure 3a of [Piltz et. al.](https://www.nature.com/articles/ncomms5679?origin=ppub)\n",
    "\n",
    "Note: This example is quite computationally expensivem, hence for the full simulation we use [joblib](https://joblib.readthedocs.io/en/latest/) for parallel computing. However, you don't need this to run the demo.\n"
   ]
  },
  {
   "cell_type": "code",
   "execution_count": 11,
   "id": "3f50e724",
   "metadata": {},
   "outputs": [
    {
     "name": "stdout",
     "output_type": "stream",
     "text": [
      "Requirement already satisfied: numpy in c:\\users\\xps13-9360\\appdata\\local\\packages\\pythonsoftwarefoundation.python.3.11_qbz5n2kfra8p0\\localcache\\local-packages\\python311\\site-packages (1.23.5)\n"
     ]
    }
   ],
   "source": [
    "import sys\n",
    "!{sys.executable} -m pip install numpy"
   ]
  },
  {
   "cell_type": "code",
   "execution_count": 1,
   "id": "4b4fea9a",
   "metadata": {},
   "outputs": [],
   "source": [
    "import functools"
   ]
  },
  {
   "cell_type": "code",
   "execution_count": 12,
   "id": "f8d328b1",
   "metadata": {},
   "outputs": [
    {
     "ename": "AttributeError",
     "evalue": "partially initialized module 'qutip' has no attribute 'settings' (most likely due to a circular import)",
     "output_type": "error",
     "traceback": [
      "\u001b[1;31m---------------------------------------------------------------------------\u001b[0m",
      "\u001b[1;31mAttributeError\u001b[0m                            Traceback (most recent call last)",
      "Cell \u001b[1;32mIn[12], line 6\u001b[0m\n\u001b[0;32m      3\u001b[0m get_ipython()\u001b[38;5;241m.\u001b[39mrun_line_magic(\u001b[38;5;124m'\u001b[39m\u001b[38;5;124mmatplotlib\u001b[39m\u001b[38;5;124m'\u001b[39m, \u001b[38;5;124m'\u001b[39m\u001b[38;5;124minline\u001b[39m\u001b[38;5;124m'\u001b[39m)\n\u001b[0;32m      4\u001b[0m \u001b[38;5;28;01mimport\u001b[39;00m \u001b[38;5;21;01mmatplotlib\u001b[39;00m\u001b[38;5;21;01m.\u001b[39;00m\u001b[38;5;21;01mpyplot\u001b[39;00m \u001b[38;5;28;01mas\u001b[39;00m \u001b[38;5;21;01mplt\u001b[39;00m\n\u001b[1;32m----> 6\u001b[0m \u001b[38;5;28;01mimport\u001b[39;00m \u001b[38;5;21;01mqutip\u001b[39;00m\n\u001b[0;32m      7\u001b[0m \u001b[38;5;28;01mfrom\u001b[39;00m \u001b[38;5;21;01mqutip\u001b[39;00m\u001b[38;5;21;01m.\u001b[39;00m\u001b[38;5;21;01mqip\u001b[39;00m\u001b[38;5;21;01m.\u001b[39;00m\u001b[38;5;21;01mpulse\u001b[39;00m \u001b[38;5;28;01mimport\u001b[39;00m Pulse\n\u001b[0;32m      8\u001b[0m \u001b[38;5;28;01mfrom\u001b[39;00m \u001b[38;5;21;01mqutip\u001b[39;00m\u001b[38;5;21;01m.\u001b[39;00m\u001b[38;5;21;01mqip\u001b[39;00m\u001b[38;5;21;01m.\u001b[39;00m\u001b[38;5;21;01mdevice\u001b[39;00m \u001b[38;5;28;01mimport\u001b[39;00m Processor\n",
      "File \u001b[1;32m~\\AppData\\Local\\Packages\\PythonSoftwareFoundation.Python.3.11_qbz5n2kfra8p0\\LocalCache\\local-packages\\Python311\\site-packages\\qutip\\__init__.py:12\u001b[0m\n\u001b[0;32m     10\u001b[0m \u001b[38;5;28;01mtry\u001b[39;00m:\n\u001b[0;32m     11\u001b[0m     __IPYTHON__\n\u001b[1;32m---> 12\u001b[0m     \u001b[43mqutip\u001b[49m\u001b[38;5;241;43m.\u001b[39;49m\u001b[43msettings\u001b[49m\u001b[38;5;241m.\u001b[39mipython \u001b[38;5;241m=\u001b[39m \u001b[38;5;28;01mTrue\u001b[39;00m\n\u001b[0;32m     13\u001b[0m \u001b[38;5;28;01mexcept\u001b[39;00m \u001b[38;5;167;01mNameError\u001b[39;00m:\n\u001b[0;32m     14\u001b[0m     qutip\u001b[38;5;241m.\u001b[39msettings\u001b[38;5;241m.\u001b[39mipython \u001b[38;5;241m=\u001b[39m \u001b[38;5;28;01mFalse\u001b[39;00m\n",
      "\u001b[1;31mAttributeError\u001b[0m: partially initialized module 'qutip' has no attribute 'settings' (most likely due to a circular import)"
     ]
    }
   ],
   "source": [
    "import numpy as np\n",
    "\n",
    "%matplotlib inline\n",
    "import matplotlib.pyplot as plt\n",
    "\n",
    "import qutip\n",
    "from qutip.qip.pulse import Pulse\n",
    "from qutip.qip.device import Processor\n",
    "from scipy.signal import argrelextrema"
   ]
  },
  {
   "cell_type": "code",
   "execution_count": 3,
   "id": "1f53243a",
   "metadata": {
    "execution": {
     "iopub.execute_input": "2023-03-15T08:11:06.721688Z",
     "iopub.status.busy": "2023-03-15T08:11:06.721262Z",
     "iopub.status.idle": "2023-03-15T08:11:08.409809Z",
     "shell.execute_reply": "2023-03-15T08:11:08.409091Z"
    }
   },
   "outputs": [
    {
     "ename": "AttributeError",
     "evalue": "partially initialized module 'qutip' has no attribute 'settings' (most likely due to a circular import)",
     "output_type": "error",
     "traceback": [
      "\u001b[1;31m---------------------------------------------------------------------------\u001b[0m",
      "\u001b[1;31mAttributeError\u001b[0m                            Traceback (most recent call last)",
      "Cell \u001b[1;32mIn[3], line 4\u001b[0m\n\u001b[0;32m      2\u001b[0m \u001b[38;5;28;01mimport\u001b[39;00m \u001b[38;5;21;01mnumpy\u001b[39;00m \u001b[38;5;28;01mas\u001b[39;00m \u001b[38;5;21;01mnp\u001b[39;00m\n\u001b[0;32m      3\u001b[0m \u001b[38;5;28;01mimport\u001b[39;00m \u001b[38;5;21;01mqutip_qip\u001b[39;00m\n\u001b[1;32m----> 4\u001b[0m \u001b[38;5;28;01mfrom\u001b[39;00m \u001b[38;5;21;01mqutip\u001b[39;00m \u001b[38;5;28;01mimport\u001b[39;00m (Qobj, Options, basis, fock_dm, qeye, sigmax, sigmay,\n\u001b[0;32m      5\u001b[0m                    sigmaz, tensor)\n\u001b[0;32m      6\u001b[0m \u001b[38;5;28;01mfrom\u001b[39;00m \u001b[38;5;21;01mqutip\u001b[39;00m\u001b[38;5;21;01m.\u001b[39;00m\u001b[38;5;21;01mipynbtools\u001b[39;00m \u001b[38;5;28;01mimport\u001b[39;00m version_table\n\u001b[0;32m      7\u001b[0m \u001b[38;5;28;01mfrom\u001b[39;00m \u001b[38;5;21;01mqutip_qip\u001b[39;00m\u001b[38;5;21;01m.\u001b[39;00m\u001b[38;5;21;01mcircuit\u001b[39;00m \u001b[38;5;28;01mimport\u001b[39;00m QubitCircuit\n",
      "File \u001b[1;32m~\\AppData\\Local\\Packages\\PythonSoftwareFoundation.Python.3.11_qbz5n2kfra8p0\\LocalCache\\local-packages\\Python311\\site-packages\\qutip\\__init__.py:12\u001b[0m\n\u001b[0;32m     10\u001b[0m \u001b[38;5;28;01mtry\u001b[39;00m:\n\u001b[0;32m     11\u001b[0m     __IPYTHON__\n\u001b[1;32m---> 12\u001b[0m     \u001b[43mqutip\u001b[49m\u001b[38;5;241;43m.\u001b[39;49m\u001b[43msettings\u001b[49m\u001b[38;5;241m.\u001b[39mipython \u001b[38;5;241m=\u001b[39m \u001b[38;5;28;01mTrue\u001b[39;00m\n\u001b[0;32m     13\u001b[0m \u001b[38;5;28;01mexcept\u001b[39;00m \u001b[38;5;167;01mNameError\u001b[39;00m:\n\u001b[0;32m     14\u001b[0m     qutip\u001b[38;5;241m.\u001b[39msettings\u001b[38;5;241m.\u001b[39mipython \u001b[38;5;241m=\u001b[39m \u001b[38;5;28;01mFalse\u001b[39;00m\n",
      "\u001b[1;31mAttributeError\u001b[0m: partially initialized module 'qutip' has no attribute 'settings' (most likely due to a circular import)"
     ]
    }
   ],
   "source": [
    "import qutip_qip\n",
    "from qutip.ipynbtools import version_table\n",
    "from qutip_qip.circuit import QubitCircuit\n",
    "from qutip_qip.compiler import GateCompiler, Instruction\n",
    "from qutip_qip.device import Model, ModelProcessor\n",
    "from qutip_qip.noise import Noise\n",
    "from qutip_qip.operations import Gate\n",
    "from scipy.optimize import curve_fit"
   ]
  },
  {
   "cell_type": "markdown",
   "id": "44204562",
   "metadata": {},
   "source": [
    "We build a two-qubit Processor, where the second qubit is detuned from the first one by $\\delta= 1.852$MHz. A sequence of $\\pi$-pulses with Rabi frequency of $\\Omega= 20$KHz and random phases are applied to the first qubit. We define noise such that the same pulse also applies to the second qubit. Because of the detuning, this pulse does not flip the second qubit but subjects it to a diffusive behaviour, so that the average fidelity of the second qubit with respect to the initial state decreases.\n",
    "\n",
    "Here, we reproduce these results with a two-qubit `Processor`.\n",
    "We start with an initial state of fidelity 0.975 and simulate the Hamiltonian\n",
    "\\begin{align}\n",
    "H=\\Omega(t)(\\sigma^x_0 + \\lambda \\sigma^x_1) + \\delta\\sigma^z_1\n",
    ",\n",
    "\\end{align}\n",
    "where $\\lambda$ is the ratio between the cross-talk pulse's amplitudes."
   ]
  },
  {
   "cell_type": "markdown",
   "id": "3d8ab7c8",
   "metadata": {},
   "source": [
    "In the cell below, we first build a Hamiltonian model called `MyModel`.\n",
    "For simplicity, we only include two single-qubit control Hamiltonians: $\\sigma_x$ and $\\sigma_y$.\n",
    "We then define the compiling routines for the two types of rotation gates RX and RY.\n",
    "In addition, we also define a rotation gate with mixed X and Y quadrature, parameterized by a phase $\\phi$, $\\cos(\\phi)\\sigma_x+\\sin(\\phi)\\sigma_y$.\n",
    "This will be used later in the example of custom noise.\n",
    "\n",
    "We then initialize a `ModelProcessor` with this model.\n",
    "In the `ModelProcessor`, the default simulation workflow is already defined, such as the `load_circuit` method.\n",
    "Since rotations around the $x$ and $y$ axes are the native gates of our hardware, we define them in the attribute \\texttt{native\\_gates}.\n",
    "Providing this native gates set, rotation around $z$ axis will be automatically decomposed into rotations around $x$ and $y$ axes.\n",
    "We define a circuit consisting of $\\pi/2$ rotation followed by a Z gate.\n",
    "The compiled pulses are shown in \\cref{fig:customize pulse}, where the Z gate is decomposed into rotations around $x$ and $y$ axes."
   ]
  },
  {
   "cell_type": "code",
   "execution_count": 4,
   "id": "762f8688",
   "metadata": {},
   "outputs": [
    {
     "ename": "NameError",
     "evalue": "name 'Model' is not defined",
     "output_type": "error",
     "traceback": [
      "\u001b[1;31m---------------------------------------------------------------------------\u001b[0m",
      "\u001b[1;31mNameError\u001b[0m                                 Traceback (most recent call last)",
      "Cell \u001b[1;32mIn[4], line 1\u001b[0m\n\u001b[1;32m----> 1\u001b[0m \u001b[38;5;28;01mclass\u001b[39;00m \u001b[38;5;21;01mMyModel\u001b[39;00m(\u001b[43mModel\u001b[49m):\n\u001b[0;32m      2\u001b[0m \u001b[38;5;250m    \u001b[39m\u001b[38;5;124;03m\"\"\"A custom Hamiltonian model with sigmax and sigmay control.\"\"\"\u001b[39;00m\n\u001b[0;32m      4\u001b[0m     \u001b[38;5;28;01mdef\u001b[39;00m \u001b[38;5;21mget_control\u001b[39m(\u001b[38;5;28mself\u001b[39m, label):\n",
      "\u001b[1;31mNameError\u001b[0m: name 'Model' is not defined"
     ]
    }
   ],
   "source": [
    "class MyModel(Model):\n",
    "    \"\"\"A custom Hamiltonian model with sigmax and sigmay control.\"\"\"\n",
    "                \n",
    "    def get_control(self, label):\n",
    "        \"\"\"\n",
    "        Get an available control Hamiltonian.\n",
    "        For instance, sigmax control on the zeroth\n",
    "        qubits is labeled \"sx0\".\n",
    "        Args:\n",
    "            label (str): The label of the Hamiltonian\n",
    "\n",
    "        Returns:\n",
    "            The Hamiltonian and target qubits as a tuple\n",
    "            (qutip.Qobj, list).\n",
    "        \"\"\"\n",
    "        targets = int(label[2:])\n",
    "        if label[:2] == \"sx\":\n",
    "            return 2 * np.pi * sigmax() / 2, [targets]\n",
    "        elif label[:2] == \"sy\":\n",
    "            return 2 * np.pi * sigmay() / 2, [targets]\n",
    "        else:\n",
    "            raise NotImplementedError(\"Unknown control.\")\n",
    "            "
   ]
  },
  {
   "cell_type": "code",
   "execution_count": 5,
   "id": "1f1483a1",
   "metadata": {
    "execution": {
     "iopub.execute_input": "2023-03-15T08:11:08.413838Z",
     "iopub.status.busy": "2023-03-15T08:11:08.413249Z",
     "iopub.status.idle": "2023-03-15T08:11:08.655867Z",
     "shell.execute_reply": "2023-03-15T08:11:08.655249Z"
    }
   },
   "outputs": [
    {
     "ename": "NameError",
     "evalue": "name 'GateCompiler' is not defined",
     "output_type": "error",
     "traceback": [
      "\u001b[1;31m---------------------------------------------------------------------------\u001b[0m",
      "\u001b[1;31mNameError\u001b[0m                                 Traceback (most recent call last)",
      "Cell \u001b[1;32mIn[5], line 1\u001b[0m\n\u001b[1;32m----> 1\u001b[0m \u001b[38;5;28;01mclass\u001b[39;00m \u001b[38;5;21;01mMyCompiler\u001b[39;00m(\u001b[43mGateCompiler\u001b[49m):\n\u001b[0;32m      2\u001b[0m \u001b[38;5;250m    \u001b[39m\u001b[38;5;124;03m\"\"\"\u001b[39;00m\n\u001b[0;32m      3\u001b[0m \u001b[38;5;124;03m    Custom compiler for generating pulses from gates using\u001b[39;00m\n\u001b[0;32m      4\u001b[0m \u001b[38;5;124;03m    the base class GateCompiler.\u001b[39;00m\n\u001b[1;32m   (...)\u001b[0m\n\u001b[0;32m      9\u001b[0m \u001b[38;5;124;03m                       such as the pulse amplitude.\u001b[39;00m\n\u001b[0;32m     10\u001b[0m \u001b[38;5;124;03m    \"\"\"\u001b[39;00m\n\u001b[0;32m     12\u001b[0m     \u001b[38;5;28;01mdef\u001b[39;00m \u001b[38;5;21m__init__\u001b[39m(\u001b[38;5;28mself\u001b[39m, num_qubits, params):\n",
      "\u001b[1;31mNameError\u001b[0m: name 'GateCompiler' is not defined"
     ]
    }
   ],
   "source": [
    "class MyCompiler(GateCompiler):\n",
    "    \"\"\"\n",
    "    Custom compiler for generating pulses from gates using\n",
    "    the base class GateCompiler.\n",
    "\n",
    "    Args:\n",
    "        num_qubits (int): The number of qubits in the processor\n",
    "        params (dict): A dictionary of parameters for gate pulses\n",
    "                       such as the pulse amplitude.\n",
    "    \"\"\"\n",
    "\n",
    "    def __init__(self, num_qubits, params):\n",
    "        super().__init__(num_qubits, params=params)\n",
    "        self.params = params\n",
    "        self.gate_compiler = {\n",
    "            \"ROT\": self.rotation_with_phase_compiler,\n",
    "            \"RX\": self.single_qubit_gate_compiler,\n",
    "            \"RY\": self.single_qubit_gate_compiler,\n",
    "        }\n",
    "\n",
    "    def generate_pulse(self, gate, tlist, coeff, phase=0.0):\n",
    "        \"\"\"Generates the pulses.\n",
    "\n",
    "        Args:\n",
    "            gate (qutip_qip.circuit.Gate): A qutip Gate object.\n",
    "            tlist (array): A list of times for the evolution.\n",
    "            coeff (array): An array of coefficients for the gate pulses\n",
    "            phase (float): The value of the phase for the gate.\n",
    "\n",
    "        Returns:\n",
    "            Instruction (qutip_qip.compiler.instruction.Instruction):\n",
    "            An instruction to implement a gate containing the control pulses.\n",
    "        \"\"\"\n",
    "        pulse_info = [\n",
    "            # (control label, coeff)\n",
    "            (\"sx\" + str(gate.targets[0]), np.cos(phase) * coeff),\n",
    "            (\"sy\" + str(gate.targets[0]), np.sin(phase) * coeff),\n",
    "        ]\n",
    "        return [Instruction(gate, tlist=tlist, pulse_info=pulse_info)]\n",
    "\n",
    "    def single_qubit_gate_compiler(self, gate, args):\n",
    "        \"\"\"Compiles single-qubit gates to pulses.\n",
    "\n",
    "        Args:\n",
    "            gate (qutip_qip.circuit.Gate): A qutip Gate object.\n",
    "\n",
    "        Returns:\n",
    "            Instruction (qutip_qip.compiler.instruction.Instruction):\n",
    "            An instruction to implement a gate containing the control pulses.\n",
    "        \"\"\"\n",
    "        # gate.arg_value is the rotation angle\n",
    "        tlist = np.abs(gate.arg_value) / self.params[\"pulse_amplitude\"]\n",
    "        coeff = self.params[\"pulse_amplitude\"] * np.sign(gate.arg_value)\n",
    "        if gate.name == \"RX\":\n",
    "            return self.generate_pulse(gate, tlist, coeff, phase=0.0)\n",
    "        elif gate.name == \"RY\":\n",
    "            return self.generate_pulse(gate, tlist, coeff, phase=np.pi / 2)\n",
    "\n",
    "    def rotation_with_phase_compiler(self, gate, args):\n",
    "        \"\"\"Compiles gates with a phase term.\n",
    "\n",
    "        Args:\n",
    "            gate (qutip_qip.circuit.Gate): A qutip Gate object.\n",
    "\n",
    "        Returns:\n",
    "            Instruction (qutip_qip.compiler.instruction.Instruction):\n",
    "            An instruction to implement a gate containing the control pulses.\n",
    "        \"\"\"\n",
    "        # gate.arg_value is the pulse phase\n",
    "        tlist = self.params[\"duration\"]\n",
    "        coeff = self.params[\"pulse_amplitude\"]\n",
    "        return self.generate_pulse(gate, tlist, coeff, phase=gate.arg_value)"
   ]
  },
  {
   "cell_type": "code",
   "execution_count": 6,
   "id": "29b9d65d",
   "metadata": {},
   "outputs": [
    {
     "ename": "NameError",
     "evalue": "name 'basis' is not defined",
     "output_type": "error",
     "traceback": [
      "\u001b[1;31m---------------------------------------------------------------------------\u001b[0m",
      "\u001b[1;31mNameError\u001b[0m                                 Traceback (most recent call last)",
      "Cell \u001b[1;32mIn[6], line 3\u001b[0m\n\u001b[0;32m      1\u001b[0m \u001b[38;5;66;03m# Define a circuit and run the simulation\u001b[39;00m\n\u001b[0;32m      2\u001b[0m num_qubits \u001b[38;5;241m=\u001b[39m \u001b[38;5;241m2\u001b[39m\n\u001b[1;32m----> 3\u001b[0m lis \u001b[38;5;241m=\u001b[39m [\u001b[43mbasis\u001b[49m(\u001b[38;5;241m2\u001b[39m, \u001b[38;5;241m0\u001b[39m)] \u001b[38;5;241m*\u001b[39m num_qubits\n\u001b[0;32m      4\u001b[0m initial_state \u001b[38;5;241m=\u001b[39m functools\u001b[38;5;241m.\u001b[39mreduce(\u001b[38;5;28;01mlambda\u001b[39;00m a, b: tensor(a,b), lis)\n",
      "\u001b[1;31mNameError\u001b[0m: name 'basis' is not defined"
     ]
    }
   ],
   "source": [
    "# Define a circuit and run the simulation\n",
    "num_qubits = 2\n",
    "lis = [basis(2, 0)] * num_qubits\n",
    "initial_state = functools.reduce(lambda a, b: tensor(a,b), lis)"
   ]
  },
  {
   "cell_type": "code",
   "execution_count": 7,
   "id": "78383ab6",
   "metadata": {},
   "outputs": [
    {
     "ename": "NameError",
     "evalue": "name 'QubitCircuit' is not defined",
     "output_type": "error",
     "traceback": [
      "\u001b[1;31m---------------------------------------------------------------------------\u001b[0m",
      "\u001b[1;31mNameError\u001b[0m                                 Traceback (most recent call last)",
      "Cell \u001b[1;32mIn[7], line 1\u001b[0m\n\u001b[1;32m----> 1\u001b[0m circuit \u001b[38;5;241m=\u001b[39m \u001b[43mQubitCircuit\u001b[49m(\u001b[38;5;241m2\u001b[39m)\n\u001b[0;32m      2\u001b[0m circuit\u001b[38;5;241m.\u001b[39madd_gate(\u001b[38;5;124m\"\u001b[39m\u001b[38;5;124mX\u001b[39m\u001b[38;5;124m\"\u001b[39m, targets\u001b[38;5;241m=\u001b[39m\u001b[38;5;241m0\u001b[39m)\n\u001b[0;32m      3\u001b[0m circuit\u001b[38;5;241m.\u001b[39madd_gate(\u001b[38;5;124m\"\u001b[39m\u001b[38;5;124mY\u001b[39m\u001b[38;5;124m\"\u001b[39m, targets\u001b[38;5;241m=\u001b[39m\u001b[38;5;241m0\u001b[39m)\n",
      "\u001b[1;31mNameError\u001b[0m: name 'QubitCircuit' is not defined"
     ]
    }
   ],
   "source": [
    "circuit = QubitCircuit(2)\n",
    "circuit.add_gate(\"X\", targets=0)\n",
    "circuit.add_gate(\"Y\", targets=0)\n",
    "\n",
    "myprocessor = ModelProcessor(model=MyModel(num_qubits))\n",
    "myprocessor.native_gates = [\"RX\", \"RY\"]\n",
    "\n",
    "mycompiler = MyCompiler(num_qubits, {\"pulse_amplitude\": 0.02})\n",
    "\n",
    "myprocessor.load_circuit(circuit, compiler=mycompiler)\n",
    "result = myprocessor.run_state(initial_state)\n",
    "\n",
    "fig, ax = myprocessor.plot_pulses(figsize=(5, 3), dpi=120,\n",
    "                                  use_control_latex=False)\n",
    "ax[-1].set_xlabel(\"$t$\")\n",
    "fig.tight_layout()"
   ]
  },
  {
   "cell_type": "markdown",
   "id": "8e97c5aa",
   "metadata": {},
   "source": [
    "We now define a custom `ClassicalCrossTalk` noise object that uses the `Noise` class as the base.\n",
    "The `get_noisy_dynamics` method will be called during the simulation to generate the noisy Hamiltonian model.\n",
    "Here, we define a noise model that adds the same driving Hamiltonian to its neighbouring qubits, with a strength proportional to the control pulses strength applied on it.\n",
    "The detuning of the qubit transition frequency is simulated by adding a $\\sigma_z$ drift Hamiltonian to the processor, with a frequency of $1.852$ MHz.\n",
    "\n",
    "\n"
   ]
  },
  {
   "cell_type": "code",
   "execution_count": null,
   "id": "04b08c37",
   "metadata": {
    "execution": {
     "iopub.execute_input": "2023-03-15T08:11:08.659248Z",
     "iopub.status.busy": "2023-03-15T08:11:08.658724Z",
     "iopub.status.idle": "2023-03-15T08:11:08.664861Z",
     "shell.execute_reply": "2023-03-15T08:11:08.664331Z"
    }
   },
   "outputs": [],
   "source": [
    "class ClassicalCrossTalk(Noise):\n",
    "    def __init__(self, ratio):\n",
    "        self.ratio = ratio\n",
    "\n",
    "    def get_noisy_dynamics(self, dims=None, pulses=None,\n",
    "                           systematic_noise=None):\n",
    "        \"\"\"Adds noise to the control pulses.\n",
    "\n",
    "        Args:\n",
    "            dims: Dimension of the system, e.g., [2,2,2,...] for qubits.\n",
    "            pulses: A list of Pulse objects, representing the compiled pulses.\n",
    "            systematic_noise: A Pulse object with no ideal control,\n",
    "            used to represent pulse-independent noise such as decoherence\n",
    "            (not used in this example).\n",
    "        Returns:\n",
    "            pulses: The list of modified pulses according to the noise model.\n",
    "            systematic_noise: A Pulse object (not used in this example).\n",
    "        \"\"\"\n",
    "        for i, pulse in enumerate(pulses):\n",
    "            if \"sx\" not in pulse.label and \"sy\" not in pulse.label:\n",
    "                continue  # filter out other pulses, e.g. drift\n",
    "            target = pulse.targets[0]\n",
    "            if target != 0:  # add pulse to the left neighbour\n",
    "                pulses[i].add_control_noise(\n",
    "                    self.ratio * pulse.qobj,\n",
    "                    targets=[target - 1],\n",
    "                    coeff=pulse.coeff,\n",
    "                    tlist=pulse.tlist,\n",
    "                )\n",
    "            if target != len(dims) - 1:  # add pulse to the right neighbour\n",
    "                pulses[i].add_control_noise(\n",
    "                    self.ratio * pulse.qobj,\n",
    "                    targets=[target + 1],\n",
    "                    coeff=pulse.coeff,\n",
    "                    tlist=pulse.tlist,\n",
    "                )\n",
    "        return pulses, systematic_noise"
   ]
  },
  {
   "cell_type": "markdown",
   "id": "37b1315a",
   "metadata": {},
   "source": [
    "Lastly, we define a random circuit consisting of a sequence of $\\pi$ rotation pulses with random phases.\n",
    "The driving pulse is a $\\pi$ pulse with a duration of $25 \\, \\mu\\rm{s}$ and Rabi frequency $20$ KHz.\n",
    "This randomized benchmarking protocol allows one to study the classical cross-talk induced decoherence on the neighbouring qubits.\n",
    "The two qubits are initialized in the $|00\\rangle$ state with a fidelity of 0.975.\n",
    "After the circuit, we measure the population of the second qubit.\n",
    "If there is no cross-talk, it will remain perfectly in the ground state.\n",
    "However, cross-talk induces a diffusive behaviour of the second qubit and the fidelity decreases.\n",
    "\n",
    "This simulation is repeated 1600 times to obtain the average fidelity. This may take several hours, therefore, the following code only takes two samples with $t=250$. The full simulation is in the commented lines."
   ]
  },
  {
   "cell_type": "code",
   "execution_count": null,
   "id": "099ea60c",
   "metadata": {
    "execution": {
     "iopub.execute_input": "2023-03-15T08:11:08.668471Z",
     "iopub.status.busy": "2023-03-15T08:11:08.667332Z",
     "iopub.status.idle": "2023-03-15T08:11:15.863479Z",
     "shell.execute_reply": "2023-03-15T08:11:15.862525Z"
    }
   },
   "outputs": [],
   "source": [
    "def single_crosstalk_simulation(num_gates):\n",
    "    \"\"\"\n",
    "    A single simulation, with num_gates representing the number of rotations.\n",
    "\n",
    "    Args:\n",
    "        num_gates (int): The number of random gates to add in the simulation.\n",
    "\n",
    "    Returns:\n",
    "        result (qutip.solver.Result):\n",
    "            A qutip Result object obtained from any of the\n",
    "            solver methods such as mesolve.\n",
    "    \"\"\"\n",
    "    # Qubit-0 is the target qubit. Qubit-1 suffers from crosstalk.\n",
    "    num_qubits = 2\n",
    "    myprocessor = ModelProcessor(model=MyModel(num_qubits))\n",
    "    # Add qubit frequency detuning 1.852MHz for the second qubit.\n",
    "    #myprocessor.add_drift(2 * np.pi * (sigmaz() + 1) / 2 * 10, targets=1)\n",
    "    myprocessor.native_gates = None  # Remove the native gates\n",
    "    mycompiler = MyCompiler(num_qubits,\n",
    "                            {\"pulse_amplitude\": 0.02, \"duration\": 25})\n",
    "    #myprocessor.add_noise(ClassicalCrossTalk(1.0))\n",
    "    # Define a randome circuit.\n",
    "    gates_set = [\n",
    "        Gate(\"RX\", 0, arg_value=0),\n",
    "        Gate(\"RX\", 0, arg_value=np.pi / 2),\n",
    "        Gate(\"RX\", 0, arg_value=np.pi),\n",
    "        Gate(\"RX\", 0, arg_value=np.pi / 2 * 3),\n",
    "        Gate(\"RY\", 0, arg_value=0),\n",
    "        Gate(\"RY\", 0, arg_value=np.pi / 2),\n",
    "        Gate(\"RY\", 0, arg_value=np.pi),\n",
    "        Gate(\"RY\", 0, arg_value=np.pi / 2 * 3),\n",
    "    ]\n",
    "    circuit = QubitCircuit(num_qubits)\n",
    "    for ind in np.random.randint(0, 4, num_gates):\n",
    "        circuit.add_gate(gates_set[ind])\n",
    "    # Simulate the circuit.\n",
    "    myprocessor.load_circuit(circuit, compiler=mycompiler)\n",
    "    init_state = tensor(\n",
    "        [Qobj([[init_fid, 0], [0, 0.025]]),\n",
    "         Qobj([[init_fid, 0], [0, 0.025]])]\n",
    "    )\n",
    "    # increase the maximal allowed steps\n",
    "    options = Options(nsteps=10000)\n",
    "    e_ops = [tensor([qeye(2), fock_dm(2)])]  # observable\n",
    "\n",
    "    # compute results of the run using a solver of choice\n",
    "    result = myprocessor.run_state(\n",
    "        init_state, solver=\"mesolve\",options=Options(nsteps=100000), e_ops=e_ops\n",
    "    )\n",
    "    # measured expectation value at the end\n",
    "    result = result.expect[0][-1]\n",
    "    return result"
   ]
  },
  {
   "cell_type": "code",
   "execution_count": null,
   "id": "2d19cc14",
   "metadata": {},
   "outputs": [],
   "source": [
    "# The full simulation may take several hours\n",
    "# so we just choose num_sample=2 and num_gates=250 as a test\n",
    "num_sample = 2\n",
    "fidelity = []\n",
    "fidelity_error = []\n",
    "init_fid = 0.975\n",
    "#num_gates_list = [25]\n",
    "# The full simulation is defined in the commented lines below.\n",
    "\n",
    "# from joblib import Parallel, delayed  # for parallel simulations\n",
    "# num_sample = 10\n",
    "num_gates_list = [25, 50, 75, 100, 125, 150, 175, 200, 225, 250]\n",
    "\n",
    "for num_gates in num_gates_list:\n",
    "    expect = [single_crosstalk_simulation(num_gates)\n",
    "              for i in range(num_sample)]\n",
    "    fidelity.append(np.mean(expect))\n",
    "    fidelity_error.append(np.std(expect) / np.sqrt(num_sample))"
   ]
  },
  {
   "cell_type": "markdown",
   "id": "2b7e7f2f",
   "metadata": {},
   "source": [
    "We plot a recorded result as an illustration."
   ]
  },
  {
   "cell_type": "code",
   "execution_count": null,
   "id": "0e7509dc",
   "metadata": {
    "execution": {
     "iopub.execute_input": "2023-03-15T08:11:15.867778Z",
     "iopub.status.busy": "2023-03-15T08:11:15.867504Z",
     "iopub.status.idle": "2023-03-15T08:11:16.059910Z",
     "shell.execute_reply": "2023-03-15T08:11:16.059284Z"
    }
   },
   "outputs": [],
   "source": [
    "# Recorded result of a full simulation\n",
    "\n",
    "def rb_curve(x, a):\n",
    "    return (1 / 2 + np.exp(-2 * a * x) / 2) * 0.975\n",
    "\n",
    "\n",
    "pos, cov = curve_fit(rb_curve, num_gates_list, fidelity, p0=[0.001])\n",
    "\n",
    "xline = np.linspace(0, 300, 25)\n",
    "yline = rb_curve(xline, *pos)\n",
    "\n",
    "fig, ax = plt.subplots(figsize=(5, 3), dpi=100)\n",
    "ax.errorbar(\n",
    "    num_gates_list, fidelity, yerr=fidelity_error, fmt=\".\",\n",
    "    capsize=2, color=\"slategrey\"\n",
    ")\n",
    "ax.plot(xline, yline, color=\"slategrey\")\n",
    "ax.set_ylabel(\"Average fidelity\")\n",
    "ax.set_xlabel(r\"Number of $\\pi$ rotations\")\n",
    "ax.set_xlim((0, 300));"
   ]
  },
  {
   "cell_type": "code",
   "execution_count": null,
   "id": "88ce80d9",
   "metadata": {},
   "outputs": [],
   "source": []
  }
 ],
 "metadata": {
  "jupytext": {
   "cell_metadata_filter": "-all",
   "notebook_metadata_filter": "-jupytext.cell_metadata_filter,-jupytext.notebook_metadata_filter"
  },
  "kernelspec": {
   "display_name": "Python 3 (ipykernel)",
   "language": "python",
   "name": "python3"
  },
  "language_info": {
   "codemirror_mode": {
    "name": "ipython",
    "version": 3
   },
   "file_extension": ".py",
   "mimetype": "text/x-python",
   "name": "python",
   "nbconvert_exporter": "python",
   "pygments_lexer": "ipython3",
   "version": "3.11.3"
  }
 },
 "nbformat": 4,
 "nbformat_minor": 5
}
