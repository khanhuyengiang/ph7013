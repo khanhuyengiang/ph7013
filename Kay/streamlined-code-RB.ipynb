{
 "cells": [
  {
   "cell_type": "code",
   "execution_count": 1,
   "metadata": {},
   "outputs": [
    {
     "name": "stderr",
     "output_type": "stream",
     "text": [
      "C:\\Users\\XPS13-9360\\AppData\\Local\\Temp\\ipykernel_16876\\4269414032.py:17: DeprecationWarning: Importation from qutip.qip.gates is deprecated.Please use e.g.\n",
      " from qutip.qip.operations import cnot\n",
      "\n",
      "  from qutip.qip.gates import *\n"
     ]
    }
   ],
   "source": [
    "import numpy as np\n",
    "\n",
    "%matplotlib inline\n",
    "import matplotlib.pyplot as plt\n",
    "\n",
    "from qutip import *\n",
    "\n",
    "import qutip_qip\n",
    "from qutip_qip.circuit import QubitCircuit\n",
    "from qutip.qip.operations import *\n",
    "from qutip.qip.operations.gates import *\n",
    "from qutip_qip.compiler import GateCompiler, Instruction\n",
    "from qutip_qip.device import Model, ModelProcessor, Processor\n",
    "from qutip_qip.noise import Noise\n",
    "from qutip.qip.noise import RandomNoise # for Gaussian noise\n",
    "from qutip.qip.pulse import Pulse\n",
    "from qutip.qip.gates import *\n",
    "import matplotlib.pyplot as plt\n",
    "from qutip import (Qobj, Options, basis, fock_dm, qeye, sigmax, sigmay, sigmaz, tensor)\n",
    "from qutip_qip.operations import Gate\n",
    "\n",
    "import scipy\n",
    "from scipy.signal import argrelextrema\n",
    "from scipy.optimize import curve_fit\n",
    "\n",
    "import functools # for reduce\n",
    "from joblib import Parallel, delayed  # for parallel simulations\n",
    "import itertools # for RB inverse search\n",
    "\n",
    "import os\n",
    "import os.path"
   ]
  },
  {
   "cell_type": "markdown",
   "metadata": {},
   "source": [
    "## A simple model with $\\sigma_x$ and $\\sigma_y$ control"
   ]
  },
  {
   "cell_type": "code",
   "execution_count": 2,
   "metadata": {},
   "outputs": [],
   "source": [
    "class MyProcessor(ModelProcessor):\n",
    "    \"\"\"\n",
    "    Custom processor built using ModelProcessor as the base class.\n",
    "    This custom processor will inherit all the methods of the base class\n",
    "    such as setting up of the T1 and T2 decoherence rates in the simulations.\n",
    "\n",
    "    Args:\n",
    "        num_qubits (int): Number of qubits in the processor.\n",
    "        t1, t2 (float or list): The T1 and T2 decoherence rates for the\n",
    "    \"\"\"\n",
    "\n",
    "    def __init__(self, num_qubits, t1=None, t2=None):\n",
    "        # call the parent class initializer\n",
    "        super(MyProcessor, self).__init__(num_qubits, t1=t1, t2=t2)  \n",
    "        # The control pulse is discrete or continous.\n",
    "        self.pulse_mode = \"discrete\"\n",
    "        # The dimension of each controllable quantum system\n",
    "        self.model.dims = [2] * num_qubits\n",
    "        self.num_qubits = num_qubits\n",
    "        self.set_up_ops()  # set up the available Hamiltonians\n",
    "\n",
    "    def set_up_ops(self):\n",
    "        \"\"\"\n",
    "        Sets up the control operators.\n",
    "        \"\"\"\n",
    "        # sigmax pulse on m-th qubit with the corresponding pulse\n",
    "        for m in range(self.num_qubits):\n",
    "            self.add_control(1/2*sigmax(), m, label=\"sx\" + str(m))\n",
    "        # sy\n",
    "        for m in range(self.num_qubits):\n",
    "            self.add_control(1/2*sigmay(), m, label=\"sy\" + str(m))\n",
    "    \n",
    "    # To remove some errors\n",
    "    def add_noise(self, noise):\n",
    "        \"\"\"\n",
    "        Add a noise object to the processor\n",
    "\n",
    "        Parameters\n",
    "        ----------\n",
    "        noise: :class:`.Noise`\n",
    "            The noise object defined outside the processor\n",
    "        \"\"\"\n",
    "        self.noise.append(noise)\n"
   ]
  },
  {
   "cell_type": "code",
   "execution_count": 3,
   "metadata": {},
   "outputs": [],
   "source": [
    "class MyCompiler(GateCompiler):\n",
    "    \"\"\"\n",
    "    Custom compiler for generating pulses from gates using\n",
    "    the base class GateCompiler.\n",
    "\n",
    "    Args:\n",
    "        num_qubits (int): The number of qubits in the processor\n",
    "        params (dict): A dictionary of parameters for gate pulses\n",
    "                       such as the pulse amplitude.\n",
    "    \"\"\"\n",
    "\n",
    "    def __init__(self, num_qubits, params):\n",
    "        super().__init__(num_qubits, params=params)\n",
    "        self.params = params\n",
    "        self.gate_compiler = {\n",
    "            \"ROT\": self.rotation_with_phase_compiler,\n",
    "            \"RX\": self.single_qubit_gate_compiler,\n",
    "            \"RY\": self.single_qubit_gate_compiler,\n",
    "        }\n",
    "\n",
    "    def generate_pulse(self, gate, tlist, coeff, phase=0.0):\n",
    "        \"\"\"Generates the pulses.\n",
    "\n",
    "        Args:\n",
    "            gate (qutip_qip.circuit.Gate): A qutip Gate object.\n",
    "            tlist (array): A list of times for the evolution.\n",
    "            coeff (array): An array of coefficients for the gate pulses\n",
    "            phase (float): The value of the phase for the gate.\n",
    "\n",
    "        Returns:\n",
    "            Instruction (qutip_qip.compiler.instruction.Instruction):\n",
    "            An instruction to implement a gate containing the control pulses.\n",
    "        \"\"\"\n",
    "        pulse_info = [\n",
    "            # (control label, coeff)\n",
    "            (\"sx\" + str(gate.targets[0]), np.cos(phase) * coeff),\n",
    "            (\"sy\" + str(gate.targets[0]), np.sin(phase) * coeff),\n",
    "        ]\n",
    "        return [Instruction(gate, tlist=tlist, pulse_info=pulse_info)]\n",
    "\n",
    "    def single_qubit_gate_compiler(self, gate, args):\n",
    "        \"\"\"Compiles single-qubit gates to pulses.\n",
    "\n",
    "        Args:\n",
    "            gate (qutip_qip.circuit.Gate): A qutip Gate object.\n",
    "\n",
    "        Returns:\n",
    "            Instruction (qutip_qip.compiler.instruction.Instruction):\n",
    "            An instruction to implement a gate containing the control pulses.\n",
    "        \"\"\"\n",
    "        # gate.arg_value is the rotation angle\n",
    "        _step_list = np.linspace(0,1,11)\n",
    "        tlist = np.abs(gate.arg_value) / self.params[\"pulse_amplitude\"] * _step_list\n",
    "        coeff = self.params[\"pulse_amplitude\"] * np.sign(gate.arg_value) * (_step_list[:-1] *0 + 1)\n",
    "        if gate.name == \"RX\":\n",
    "            return self.generate_pulse(gate, tlist, coeff, phase=0.0)\n",
    "        elif gate.name == \"RY\":\n",
    "            return self.generate_pulse(gate, tlist, coeff, phase=np.pi / 2)\n",
    "\n",
    "    def rotation_with_phase_compiler(self, gate, args):\n",
    "        \"\"\"Compiles gates with a phase term.\n",
    "\n",
    "        Args:\n",
    "            gate (qutip_qip.circuit.Gate): A qutip Gate object.\n",
    "\n",
    "        Returns:\n",
    "            Instruction (qutip_qip.compiler.instruction.Instruction):\n",
    "            An instruction to implement a gate containing the control pulses.\n",
    "        \"\"\"\n",
    "        # gate.arg_value is the pulse phase\n",
    "        _step_list = np.linspace(0,1,11)\n",
    "        tlist = self.params[\"duration\"] * _step_list\n",
    "        coeff = self.params[\"pulse_amplitude\"] * (_step_list[:-1] *0 + 1)\n",
    "        return self.generate_pulse(gate, tlist, coeff, phase=gate.arg_value)"
   ]
  },
  {
   "cell_type": "code",
   "execution_count": 4,
   "metadata": {},
   "outputs": [
    {
     "name": "stderr",
     "output_type": "stream",
     "text": [
      "C:\\Users\\XPS13-9360\\AppData\\Local\\Temp\\ipykernel_22084\\4254655292.py:19: UserWarning: The figure layout has changed to tight\n",
      "  fig.tight_layout()\n"
     ]
    },
    {
     "data": {
      "text/plain": [
       "0.9999999999996627"
      ]
     },
     "execution_count": 4,
     "metadata": {},
     "output_type": "execute_result"
    },
    {
     "data": {
      "image/png": "[encoded data removed]",
      "text/plain": [
       "<Figure size 600x360 with 2 Axes>"
      ]
     },
     "metadata": {},
     "output_type": "display_data"
    }
   ],
   "source": [
    "# Define a circuit and run the simulation\n",
    "num_qubits = 1\n",
    "\n",
    "circuit = QubitCircuit(1)\n",
    "circuit.add_gate(Gate(\"RY\", targets = 0, arg_value=2*np.pi))\n",
    "#circuit.add_gate(Gate(\"RY\", targets = 0, arg_value=1/4))\n",
    "#circuit.add_gate(\"RX\", targets=0, arg_value=np.pi)\n",
    "\n",
    "myprocessor = MyProcessor(num_qubits)\n",
    "myprocessor.native_gates = [\"RX\", \"RY\"]\n",
    "\n",
    "mycompiler = MyCompiler(num_qubits, {\"pulse_amplitude\": 0.1})\n",
    "\n",
    "myprocessor.load_circuit(circuit, compiler=mycompiler)\n",
    "result = myprocessor.run_state(basis(2, 0))\n",
    "\n",
    "fig, ax = myprocessor.plot_pulses(figsize=(5, 3), dpi=120, use_control_latex=False)\n",
    "ax[-1].set_xlabel(\"$t$\")\n",
    "fig.tight_layout()\n",
    "\n",
    "fidelity(result.states[-1], result.states[0])"
   ]
  },
  {
   "cell_type": "markdown",
   "metadata": {},
   "source": [
    "Testing to see the pulse duration"
   ]
  },
  {
   "cell_type": "code",
   "execution_count": 5,
   "metadata": {},
   "outputs": [
    {
     "data": {
      "text/plain": [
       "[<matplotlib.lines.Line2D at 0x20c94105f90>]"
      ]
     },
     "execution_count": 5,
     "metadata": {},
     "output_type": "execute_result"
    },
    {
     "data": {
      "image/png": "[encoded data removed]",
      "text/plain": [
       "<Figure size 640x480 with 1 Axes>"
      ]
     },
     "metadata": {},
     "output_type": "display_data"
    }
   ],
   "source": [
    "fidelity_list = []\n",
    "index_list = []\n",
    "\n",
    "for x in np.linspace(0.01,2*np.pi,100):\n",
    "    circuit = QubitCircuit(1)\n",
    "    circuit.add_gate(\"RX\", targets=0, arg_value=x)\n",
    "    #circuit.add_gate(\"RX\", targets=0, arg_value=np.pi)\n",
    "\n",
    "    myprocessor = MyProcessor(num_qubits)\n",
    "    myprocessor.native_gates = [\"RX\", \"RY\"]\n",
    "    mycompiler = MyCompiler(num_qubits, {\"pulse_amplitude\": 1})\n",
    "\n",
    "    myprocessor.load_circuit(circuit, compiler=mycompiler)\n",
    "    result = myprocessor.run_state(basis(2, 0))\n",
    "    fidelity_list.append(fidelity(result.states[-1], result.states[0]))\n",
    "    index_list.append(x)\n",
    "\n",
    "plt.plot(index_list,fidelity_list)"
   ]
  },
  {
   "cell_type": "markdown",
   "metadata": {},
   "source": [
    "## Inverse gate search for RB"
   ]
  },
  {
   "cell_type": "code",
   "execution_count": 6,
   "metadata": {},
   "outputs": [],
   "source": [
    "gates_set = [\n",
    "    Gate(\"RX\", 0, arg_value=np.pi), # X Pulse\n",
    "    Gate(\"RY\", 0, arg_value=np.pi), # Y Pulse\n",
    "    Gate(\"RX\", 0, arg_value=np.pi / 2), # X Half Pulse\n",
    "    Gate(\"RY\", 0, arg_value=np.pi / 2), # Y Half Pulse\n",
    "    Gate(\"RX\", 0, arg_value=-np.pi / 2), # X Minus Half Pulse\n",
    "    Gate(\"RY\", 0, arg_value=-np.pi / 2), # Y Minus Half Pulse\n",
    "]\n",
    "\n",
    "matrix_list = [\n",
    "    rx(np.pi), # X\n",
    "    ry(np.pi), # Y,\n",
    "    rx(np.pi / 2), # X/2\n",
    "    ry(np.pi / 2), # Y/2\n",
    "    rx(-np.pi / 2), # -X/2\n",
    "    ry(-np.pi / 2), # -Y/2\n",
    "    rx(0)\n",
    "]"
   ]
  },
  {
   "cell_type": "code",
   "execution_count": 7,
   "metadata": {},
   "outputs": [],
   "source": [
    "def inverse_search(state_after_clifford,matrix_list,init_state):\n",
    "    # Index of 2 gates that inverse the clifford sequence\n",
    "    index_list = [i for i in itertools.product(range(len(matrix_list)), range(len(matrix_list)))]\n",
    "    # Product of said 2 gates\n",
    "    inverse_list = [i[0]*i[1] for i in itertools.product(matrix_list, matrix_list)]\n",
    "    \n",
    "    for i in range(len(inverse_list)):\n",
    "        # Find final state after applying the 2 inverse gates and \"normalize\"\n",
    "        final_state = inverse_list[i] * state_after_clifford\n",
    "        if np.round(final_state[0][0][0],2) == 0:\n",
    "            final_state = final_state/final_state[1][0][0]\n",
    "        else:\n",
    "            final_state = final_state/final_state[0][0][0]\n",
    "        # Compare to ground state\n",
    "        if np.allclose(final_state,init_state):\n",
    "            return index_list[i]"
   ]
  },
  {
   "cell_type": "code",
   "execution_count": 8,
   "metadata": {},
   "outputs": [],
   "source": [
    "def add_inverse_gates(clifford,init_state,matrix_list,gates_set):\n",
    "    x = inverse_search(clifford*init_state,matrix_list,init_state)\n",
    "    if x == None:\n",
    "        raise RuntimeError(\"Could not find an inverse Clifford\")\n",
    "    elif not x[0] == 6 and not x[1] == 6:\n",
    "        circuit.add_gate(gates_set[x[1]])\n",
    "        circuit.add_gate(gates_set[x[0]])\n",
    "    elif x[0] == 6 and not x[1] == 6:\n",
    "        circuit.add_gate(gates_set[x[1]])\n",
    "    elif x[1] == 6 and not x[0] == 6:\n",
    "        circuit.add_gate(gates_set[x[0]])"
   ]
  },
  {
   "cell_type": "markdown",
   "metadata": {},
   "source": [
    "Check if any pulse sequence return a fidelity not $\\approx 1$"
   ]
  },
  {
   "cell_type": "code",
   "execution_count": 9,
   "metadata": {},
   "outputs": [],
   "source": [
    "def test_sim():\n",
    "    num_gates = 3\n",
    "    num_qubits = 1\n",
    "    myprocessor = MyProcessor(num_qubits)\n",
    "    myprocessor.native_gates = None  # Remove the native gates\n",
    "    mycompiler = MyCompiler(num_qubits,{\"pulse_amplitude\": 1})\n",
    "\n",
    "    # Ground state for n qubits\n",
    "    init_state = functools.reduce(lambda a, b: tensor(a,b), [basis(2, 0)] * num_qubits)\n",
    "\n",
    "    # Define a random circuit.\n",
    "    circuit = QubitCircuit(num_qubits)\n",
    "    clifford = rx(0)\n",
    "    for ind in np.random.randint(0, 6, num_gates):\n",
    "        circuit.add_gate(gates_set[ind])\n",
    "        clifford = matrix_list[ind] * clifford\n",
    "\n",
    "    # Finding inverse Clifford for the random sequence of gate\n",
    "    add_inverse_gates(clifford,init_state,matrix_list,gates_set)\n",
    "\n",
    "    # Simulate the circuit.\n",
    "    myprocessor.load_circuit(circuit, compiler=mycompiler)\n",
    "    result = myprocessor.run_state(init_state, solver=\"mesolve\")\n",
    "    # Measured fidelity at the end\n",
    "    final_fidelity = fidelity(result.states[0],result.states[-1])\n",
    "    return final_fidelity"
   ]
  },
  {
   "cell_type": "code",
   "execution_count": 10,
   "metadata": {},
   "outputs": [
    {
     "name": "stdout",
     "output_type": "stream",
     "text": [
      "79\n"
     ]
    }
   ],
   "source": [
    "i = 0\n",
    "for x in range(100):\n",
    "    final_fidelity = test_sim()\n",
    "    if not np.round(final_fidelity,2) == 1:\n",
    "        i = i + 1\n",
    "print(i)"
   ]
  },
  {
   "cell_type": "code",
   "execution_count": 12,
   "metadata": {},
   "outputs": [
    {
     "name": "stdout",
     "output_type": "stream",
     "text": [
      "0\n"
     ]
    }
   ],
   "source": [
    "i = 0\n",
    "for x in range(100):\n",
    "    num_gates = 10\n",
    "    num_qubits = 1\n",
    "    myprocessor = MyProcessor(num_qubits)\n",
    "    myprocessor.native_gates = None  # Remove the native gates\n",
    "    mycompiler = MyCompiler(num_qubits,{\"pulse_amplitude\": 1})\n",
    "\n",
    "    # Ground state for n qubits\n",
    "    init_state = functools.reduce(lambda a, b: tensor(a,b), [basis(2, 0)] * num_qubits)\n",
    "\n",
    "    # Define a random circuit.\n",
    "    circuit = QubitCircuit(num_qubits)\n",
    "    clifford = rx(0)\n",
    "    for ind in np.random.randint(0, 6, num_gates):\n",
    "        circuit.add_gate(gates_set[ind])\n",
    "        clifford = matrix_list[ind] * clifford\n",
    "\n",
    "    # Finding inverse Clifford for the random sequence of gate\n",
    "    add_inverse_gates(clifford,init_state,matrix_list,gates_set)\n",
    "\n",
    "    # Simulate the circuit.\n",
    "    myprocessor.load_circuit(circuit, compiler=mycompiler)\n",
    "    result = myprocessor.run_state(init_state, solver=\"mesolve\")\n",
    "    # Measured fidelity at the end\n",
    "    final_fidelity = fidelity(result.states[0],result.states[-1])\n",
    "    if not np.round(final_fidelity,2) == 1:\n",
    "        i = i + 1\n",
    "print(i)"
   ]
  },
  {
   "cell_type": "markdown",
   "metadata": {},
   "source": [
    "## Gaussian noise"
   ]
  },
  {
   "cell_type": "code",
   "execution_count": 13,
   "metadata": {},
   "outputs": [],
   "source": [
    "# Define a circuit and run the simulation\n",
    "num_qubits = 1\n",
    "\n",
    "circuit = QubitCircuit(num_qubits)\n",
    "circuit.add_gate(Gate(\"RY\", targets = 0, arg_value=np.pi))\n",
    "\n",
    "myprocessor = MyProcessor(num_qubits)\n",
    "myprocessor.native_gates = None\n",
    "mycompiler = MyCompiler(num_qubits, {\"pulse_amplitude\": 1})\n",
    "\n",
    "myprocessor.load_circuit(circuit, compiler=mycompiler)\n",
    "gaussnoise = RandomNoise(dt=0.01,indices = [0,1], rand_gen=np.random.normal, loc=0, scale=0.03)\n",
    "myprocessor.add_noise(gaussnoise)"
   ]
  },
  {
   "cell_type": "code",
   "execution_count": 14,
   "metadata": {},
   "outputs": [
    {
     "name": "stderr",
     "output_type": "stream",
     "text": [
      "C:\\Users\\XPS13-9360\\AppData\\Local\\Packages\\PythonSoftwareFoundation.Python.3.11_qbz5n2kfra8p0\\LocalCache\\local-packages\\Python311\\site-packages\\qutip_qip\\device\\processor.py:844: UserWarning: No method get_control_latex defined in the model. Switch to using the labels defined in each pulse.Set use_control_latex=False to turn off the warning.\n",
      "  warnings.warn(\n"
     ]
    },
    {
     "data": {
      "text/plain": [
       "[<matplotlib.lines.Line2D at 0x20c94503790>]"
      ]
     },
     "execution_count": 14,
     "metadata": {},
     "output_type": "execute_result"
    },
    {
     "data": {
      "image/png": "[encoded data removed]",
      "text/plain": [
       "<Figure size 500x300 with 2 Axes>"
      ]
     },
     "metadata": {},
     "output_type": "display_data"
    },
    {
     "data": {
      "image/png": "[encoded data removed]",
      "text/plain": [
       "<Figure size 500x300 with 2 Axes>"
      ]
     },
     "metadata": {},
     "output_type": "display_data"
    }
   ],
   "source": [
    "# Plot the ideal pulse\n",
    "myprocessor.plot_pulses(title=\"Original control amplitude\", figsize=(5,3), rescale_pulse_coeffs = False)\n",
    "\n",
    "# Plot the noisy pulse\n",
    "qobjevo, _ = myprocessor.get_qobjevo(noisy=True)\n",
    "noisy_coeff0 = qobjevo.to_list()[1][1] + qobjevo.to_list()[2][1]\n",
    "noisy_coeff1 = qobjevo.to_list()[3][1] + qobjevo.to_list()[4][1]\n",
    "fig2, axis2 = myprocessor.plot_pulses(title=\"Noisy control amplitude\", figsize=(5,3), rescale_pulse_coeffs = False)\n",
    "axis2[0].step(qobjevo.tlist, noisy_coeff0)\n",
    "axis2[1].step(qobjevo.tlist, noisy_coeff1)"
   ]
  },
  {
   "cell_type": "markdown",
   "metadata": {},
   "source": [
    "## Randomized Benchmarking"
   ]
  },
  {
   "cell_type": "markdown",
   "metadata": {},
   "source": [
    "### Without any noise"
   ]
  },
  {
   "cell_type": "code",
   "execution_count": 15,
   "metadata": {},
   "outputs": [],
   "source": [
    "# For num_sample = 20, takes about 4 min\n",
    "num_sample = 5\n",
    "#num_gates_list = np.linspace(1,300,25,dtype=int)\n",
    "num_gates_list = np.arange(5,105,10)\n",
    "fidelity_list = []\n",
    "fidelity_average = []\n",
    "fidelity_error = []\n",
    "\n",
    "for num_gates in num_gates_list:\n",
    "    for i in range(num_sample):\n",
    "        num_qubits = 1\n",
    "        myprocessor = MyProcessor(num_qubits)\n",
    "        myprocessor.native_gates = None  # Remove the native gates\n",
    "        mycompiler = MyCompiler(num_qubits,{\"pulse_amplitude\": 1})\n",
    "\n",
    "        # Ground state for n qubits\n",
    "        init_state = functools.reduce(lambda a, b: tensor(a,b), [basis(2, 0)] * num_qubits)\n",
    "\n",
    "        # Define a random circuit.\n",
    "        circuit = QubitCircuit(num_qubits)\n",
    "        clifford = rx(0)\n",
    "        for ind in np.random.randint(0, 6, num_gates):\n",
    "            circuit.add_gate(gates_set[ind])\n",
    "            clifford = matrix_list[ind] * clifford\n",
    "\n",
    "        # Finding inverse Clifford for the random sequence of gate\n",
    "        add_inverse_gates(clifford,init_state,matrix_list,gates_set)\n",
    "\n",
    "        # Simulate the circuit.\n",
    "        myprocessor.load_circuit(circuit, compiler=mycompiler)\n",
    "        result = myprocessor.run_state(init_state, solver=\"mesolve\")\n",
    "        # Measured fidelity at the end\n",
    "        final_fidelity = fidelity(result.states[0],result.states[-1])\n",
    "        fidelity_list.append(final_fidelity)\n",
    "\n",
    "    fidelity_average.append(np.mean(fidelity_list))\n",
    "    fidelity_error.append(np.std(fidelity_list) / np.sqrt(num_sample))\n",
    "    #print(num_gates)"
   ]
  },
  {
   "cell_type": "code",
   "execution_count": 16,
   "metadata": {},
   "outputs": [
    {
     "data": {
      "text/plain": [
       "Text(0, 0.5, 'Ground State Fidelity')"
      ]
     },
     "execution_count": 16,
     "metadata": {},
     "output_type": "execute_result"
    },
    {
     "data": {
      "image/png": "[encoded data removed]",
      "text/plain": [
       "<Figure size 640x480 with 1 Axes>"
      ]
     },
     "metadata": {},
     "output_type": "display_data"
    }
   ],
   "source": [
    "plt.autoscale(enable=True, axis=\"y\", tight=False)\n",
    "plt.errorbar(num_gates_list, fidelity_average, yerr=fidelity_error, color='red', capsize=5)\n",
    "plt.xlabel(\"Number of Gates\")\n",
    "plt.ylabel(\"Ground State Fidelity\")"
   ]
  },
  {
   "cell_type": "markdown",
   "metadata": {},
   "source": [
    "### With Gaussian noise"
   ]
  },
  {
   "cell_type": "code",
   "execution_count": 17,
   "metadata": {},
   "outputs": [],
   "source": [
    "# For num_sample = 20, takes about 4 min\n",
    "num_sample = 5\n",
    "#num_gates_list = np.linspace(1,300,25,dtype=int)\n",
    "num_gates_list = np.arange(5,105,10)\n",
    "fidelity_list = []\n",
    "fidelity_average = []\n",
    "fidelity_error = []\n",
    "\n",
    "for num_gates in num_gates_list:\n",
    "    for i in range(num_sample):\n",
    "        num_qubits = 1\n",
    "        myprocessor = MyProcessor(num_qubits)\n",
    "        myprocessor.native_gates = None  # Remove the native gates\n",
    "        mycompiler = MyCompiler(num_qubits,{\"pulse_amplitude\": 1})\n",
    "\n",
    "        # Ground state for n qubits\n",
    "        init_state = functools.reduce(lambda a, b: tensor(a,b), [basis(2, 0)] * num_qubits)\n",
    "\n",
    "        # Define a random circuit.\n",
    "        circuit = QubitCircuit(num_qubits)\n",
    "        clifford = rx(0)\n",
    "        for ind in np.random.randint(0, 6, num_gates):\n",
    "            circuit.add_gate(gates_set[ind])\n",
    "            clifford = matrix_list[ind] * clifford\n",
    "\n",
    "        # Finding inverse Clifford for the random sequence of gate\n",
    "        add_inverse_gates(clifford,init_state,matrix_list,gates_set)\n",
    "\n",
    "        # Simulate the circuit.\n",
    "        myprocessor.load_circuit(circuit, compiler=mycompiler)\n",
    "        gaussnoise = RandomNoise(dt=0.01,indices = [0,1], rand_gen=np.random.normal, loc=0, scale=0.03)\n",
    "        myprocessor.add_noise(gaussnoise)\n",
    "        result = myprocessor.run_state(init_state, solver=\"mesolve\")\n",
    "        # Measured fidelity at the end\n",
    "        final_fidelity = fidelity(result.states[0],result.states[-1])\n",
    "        fidelity_list.append(final_fidelity)\n",
    "\n",
    "    fidelity_average.append(np.mean(fidelity_list))\n",
    "    fidelity_error.append(np.std(fidelity_list) / np.sqrt(num_sample))\n",
    "    #print(num_gates)"
   ]
  },
  {
   "cell_type": "code",
   "execution_count": 18,
   "metadata": {},
   "outputs": [
    {
     "data": {
      "text/plain": [
       "Text(0, 0.5, 'Ground State Fidelity')"
      ]
     },
     "execution_count": 18,
     "metadata": {},
     "output_type": "execute_result"
    },
    {
     "data": {
      "image/png": "[encoded data removed]",
      "text/plain": [
       "<Figure size 640x480 with 1 Axes>"
      ]
     },
     "metadata": {},
     "output_type": "display_data"
    }
   ],
   "source": [
    "plt.autoscale(enable=True, axis=\"y\", tight=False)\n",
    "plt.errorbar(num_gates_list, fidelity_average, yerr=fidelity_error, color='red', capsize=5)\n",
    "plt.xlabel(\"Number of Gates\")\n",
    "plt.ylabel(\"Ground State Fidelity\")"
   ]
  }
 ],
 "metadata": {
  "kernelspec": {
   "display_name": "Python 3",
   "language": "python",
   "name": "python3"
  },
  "language_info": {
   "codemirror_mode": {
    "name": "ipython",
    "version": 3
   },
   "file_extension": ".py",
   "mimetype": "text/x-python",
   "name": "python",
   "nbconvert_exporter": "python",
   "pygments_lexer": "ipython3",
   "version": "3.11.5"
  },
  "orig_nbformat": 4
 },
 "nbformat": 4,
 "nbformat_minor": 2
}
