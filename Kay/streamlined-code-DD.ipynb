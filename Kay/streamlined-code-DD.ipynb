{
 "cells": [
  {
   "cell_type": "code",
   "execution_count": 1,
   "metadata": {},
   "outputs": [
    {
     "name": "stderr",
     "output_type": "stream",
     "text": [
      "C:\\Users\\XPS13-9360\\AppData\\Local\\Temp\\ipykernel_17548\\4269414032.py:17: DeprecationWarning: Importation from qutip.qip.gates is deprecated.Please use e.g.\n",
      " from qutip.qip.operations import cnot\n",
      "\n",
      "  from qutip.qip.gates import *\n"
     ]
    }
   ],
   "source": [
    "import numpy as np\n",
    "\n",
    "%matplotlib inline\n",
    "import matplotlib.pyplot as plt\n",
    "\n",
    "from qutip import *\n",
    "\n",
    "import qutip_qip\n",
    "from qutip_qip.circuit import QubitCircuit\n",
    "from qutip.qip.operations import *\n",
    "from qutip.qip.operations.gates import *\n",
    "from qutip_qip.compiler import GateCompiler, Instruction\n",
    "from qutip_qip.device import Model, ModelProcessor, Processor\n",
    "from qutip_qip.noise import Noise\n",
    "from qutip.qip.noise import RandomNoise # for Gaussian noise\n",
    "from qutip.qip.pulse import Pulse\n",
    "from qutip.qip.gates import *\n",
    "import matplotlib.pyplot as plt\n",
    "from qutip import (Qobj, Options, basis, fock_dm, qeye, sigmax, sigmay, sigmaz, tensor)\n",
    "from qutip_qip.operations import Gate\n",
    "\n",
    "import scipy\n",
    "from scipy.signal import argrelextrema\n",
    "from scipy.optimize import curve_fit\n",
    "\n",
    "import functools # for reduce\n",
    "from joblib import Parallel, delayed  # for parallel simulations\n",
    "import itertools # for RB inverse search\n",
    "\n",
    "import os\n",
    "import os.path"
   ]
  },
  {
   "cell_type": "code",
   "execution_count": 2,
   "metadata": {},
   "outputs": [],
   "source": [
    "class MyProcessor(ModelProcessor):\n",
    "    \"\"\"\n",
    "    Custom processor built using ModelProcessor as the base class.\n",
    "    This custom processor will inherit all the methods of the base class\n",
    "    such as setting up of the T1 and T2 decoherence rates in the simulations.\n",
    "\n",
    "    Args:\n",
    "        num_qubits (int): Number of qubits in the processor.\n",
    "        t1, t2 (float or list): The T1 and T2 decoherence rates for the\n",
    "    \"\"\"\n",
    "\n",
    "    def __init__(self, num_qubits, t1=None, t2=None):\n",
    "        # call the parent class initializer\n",
    "        super(MyProcessor, self).__init__(num_qubits, t1=t1, t2=t2)  \n",
    "        # The control pulse is discrete or continous.\n",
    "        self.pulse_mode = \"discrete\"\n",
    "        # The dimension of each controllable quantum system\n",
    "        self.model.dims = [2] * num_qubits\n",
    "        self.num_qubits = num_qubits\n",
    "        self.set_up_ops()  # set up the available Hamiltonians\n",
    "\n",
    "    def set_up_ops(self):\n",
    "        \"\"\"\n",
    "        Sets up the control operators.\n",
    "        \"\"\"\n",
    "        # sigmax pulse on m-th qubit with the corresponding pulse\n",
    "        for m in range(self.num_qubits):\n",
    "            self.add_control(1/2*sigmax(), m, label=\"sx\" + str(m))\n",
    "        # sy\n",
    "        for m in range(self.num_qubits):\n",
    "            self.add_control(1/2*sigmay(), m, label=\"sy\" + str(m))\n",
    "    \n",
    "    # To remove some errors\n",
    "    def add_noise(self, noise):\n",
    "        \"\"\"\n",
    "        Add a noise object to the processor\n",
    "\n",
    "        Parameters\n",
    "        ----------\n",
    "        noise: :class:`.Noise`\n",
    "            The noise object defined outside the processor\n",
    "        \"\"\"\n",
    "        self.noise.append(noise)\n"
   ]
  },
  {
   "cell_type": "code",
   "execution_count": 3,
   "metadata": {},
   "outputs": [],
   "source": [
    "class MyCompiler(GateCompiler):\n",
    "    \"\"\"\n",
    "    Custom compiler for generating pulses from gates using\n",
    "    the base class GateCompiler.\n",
    "\n",
    "    Args:\n",
    "        num_qubits (int): The number of qubits in the processor\n",
    "        params (dict): A dictionary of parameters for gate pulses\n",
    "                       such as the pulse amplitude.\n",
    "    \"\"\"\n",
    "\n",
    "    def __init__(self, num_qubits, params):\n",
    "        super().__init__(num_qubits, params=params)\n",
    "        self.params = params\n",
    "        self.gate_compiler = {\n",
    "            \"ROT\": self.rotation_with_phase_compiler,\n",
    "            \"RX\": self.single_qubit_gate_compiler,\n",
    "            \"RY\": self.single_qubit_gate_compiler,\n",
    "        }\n",
    "\n",
    "    def generate_pulse(self, gate, tlist, coeff, phase=0.0):\n",
    "        \"\"\"Generates the pulses.\n",
    "\n",
    "        Args:\n",
    "            gate (qutip_qip.circuit.Gate): A qutip Gate object.\n",
    "            tlist (array): A list of times for the evolution.\n",
    "            coeff (array): An array of coefficients for the gate pulses\n",
    "            phase (float): The value of the phase for the gate.\n",
    "\n",
    "        Returns:\n",
    "            Instruction (qutip_qip.compiler.instruction.Instruction):\n",
    "            An instruction to implement a gate containing the control pulses.\n",
    "        \"\"\"\n",
    "        pulse_info = [\n",
    "            # (control label, coeff)\n",
    "            (\"sx\" + str(gate.targets[0]), np.cos(phase) * coeff),\n",
    "            (\"sy\" + str(gate.targets[0]), np.sin(phase) * coeff),\n",
    "        ]\n",
    "        return [Instruction(gate, tlist=tlist, pulse_info=pulse_info)]\n",
    "\n",
    "    def single_qubit_gate_compiler(self, gate, args):\n",
    "        \"\"\"Compiles single-qubit gates to pulses.\n",
    "\n",
    "        Args:\n",
    "            gate (qutip_qip.circuit.Gate): A qutip Gate object.\n",
    "\n",
    "        Returns:\n",
    "            Instruction (qutip_qip.compiler.instruction.Instruction):\n",
    "            An instruction to implement a gate containing the control pulses.\n",
    "        \"\"\"\n",
    "        # gate.arg_value is the rotation angle\n",
    "        _step_list = np.linspace(0,1,11)\n",
    "        tlist = np.abs(gate.arg_value) / self.params[\"pulse_amplitude\"] * _step_list\n",
    "        coeff = self.params[\"pulse_amplitude\"] * np.sign(gate.arg_value) * (_step_list[:-1] *0 + 1)\n",
    "        if gate.name == \"RX\":\n",
    "            return self.generate_pulse(gate, tlist, coeff, phase=0.0)\n",
    "        elif gate.name == \"RY\":\n",
    "            return self.generate_pulse(gate, tlist, coeff, phase=np.pi / 2)\n",
    "\n",
    "    def rotation_with_phase_compiler(self, gate, args):\n",
    "        \"\"\"Compiles gates with a phase term.\n",
    "\n",
    "        Args:\n",
    "            gate (qutip_qip.circuit.Gate): A qutip Gate object.\n",
    "\n",
    "        Returns:\n",
    "            Instruction (qutip_qip.compiler.instruction.Instruction):\n",
    "            An instruction to implement a gate containing the control pulses.\n",
    "        \"\"\"\n",
    "        # gate.arg_value is the pulse phase\n",
    "        _step_list = np.linspace(0,1,11)\n",
    "        tlist = self.params[\"duration\"] * _step_list\n",
    "        coeff = self.params[\"pulse_amplitude\"] * (_step_list[:-1] *0 + 1)\n",
    "        return self.generate_pulse(gate, tlist, coeff, phase=gate.arg_value)"
   ]
  },
  {
   "cell_type": "markdown",
   "metadata": {},
   "source": [
    "## Dynamical Decoupling"
   ]
  },
  {
   "cell_type": "markdown",
   "metadata": {},
   "source": [
    "### ZZ crosstalk"
   ]
  },
  {
   "cell_type": "code",
   "execution_count": 4,
   "metadata": {},
   "outputs": [],
   "source": [
    "def list_extension(n, list):\n",
    "    new_list = []\n",
    "    for i in range(len(list)):\n",
    "        new_list.append(list[i])\n",
    "        if i < len(list)-1:\n",
    "            for j in range(n)[1:]:\n",
    "                new_list.append(j/n * (list[i+1] - list[i])+ list[i])\n",
    "    return new_list"
   ]
  },
  {
   "cell_type": "code",
   "execution_count": 21,
   "metadata": {},
   "outputs": [],
   "source": [
    "class ZZ_crosstalk(Noise):\n",
    "    def __init__(self, strength):\n",
    "        self.strength = strength\n",
    "\n",
    "    def get_noisy_dynamics(self, dims, pulses, systematic_noise):\n",
    "        zz_operator = tensor([sigmaz(), sigmaz()])\n",
    "        for i in range(len(dims) - 1):\n",
    "            systematic_noise.add_control_noise(self.strength * zz_operator, targets=[i, i + 1], tlist=tlist, coeff=True)\n",
    "\n",
    "crosstalk_noise = ZZ_crosstalk(strength=0.1)"
   ]
  },
  {
   "cell_type": "code",
   "execution_count": 26,
   "metadata": {},
   "outputs": [],
   "source": [
    "# Define a circuit and run the simulation\n",
    "num_qubits = 3\n",
    "\n",
    "circuit = QubitCircuit(num_qubits)\n",
    "circuit.add_gate(Gate(\"RY\", targets = 0, arg_value=1/4))\n",
    "circuit.add_gate(Gate(\"RX\", targets = 0, arg_value=1/2))\n",
    "\n",
    "myprocessor = MyProcessor(num_qubits)\n",
    "myprocessor.native_gates = None\n",
    "mycompiler = MyCompiler(num_qubits, {\"pulse_amplitude\": 1})\n",
    "\n",
    "myprocessor.load_circuit(circuit, compiler=mycompiler)\n",
    "gaussnoise = RandomNoise(dt=0.01,indices = [0,1], rand_gen=np.random.normal, loc=0, scale=0.03)\n",
    "myprocessor.add_noise(crosstalk_noise)"
   ]
  },
  {
   "cell_type": "code",
   "execution_count": 27,
   "metadata": {},
   "outputs": [
    {
     "name": "stdout",
     "output_type": "stream",
     "text": [
      "The Evolution element went wrong was\n",
      " {'qobj': Quantum object: dims = [[2, 2], [2, 2]], shape = (4, 4), type = oper, isherm = True\n",
      "Qobj data =\n",
      "[[ 0.1  0.   0.   0. ]\n",
      " [ 0.  -0.1  0.   0. ]\n",
      " [ 0.   0.  -0.1  0. ]\n",
      " [ 0.   0.   0.   0.1]], 'targets': [0, 1], 'tlist': {'sx0': array([0.        , 0.31415927, 0.62831853, 0.9424778 , 1.25663706,\n",
      "       1.57079633, 1.88495559, 2.19911486, 2.51327412, 2.82743339,\n",
      "       3.14159265]), 'sy0': array([0.        , 0.31415927, 0.62831853, 0.9424778 , 1.25663706,\n",
      "       1.57079633, 1.88495559, 2.19911486, 2.51327412, 2.82743339,\n",
      "       3.14159265])}, 'coeff': True}\n"
     ]
    },
    {
     "ename": "TypeError",
     "evalue": "Incorrect Q_object specification",
     "output_type": "error",
     "traceback": [
      "\u001b[1;31m---------------------------------------------------------------------------\u001b[0m",
      "\u001b[1;31mTypeError\u001b[0m                                 Traceback (most recent call last)",
      "Cell \u001b[1;32mIn[27], line 5\u001b[0m\n\u001b[0;32m      2\u001b[0m myprocessor\u001b[39m.\u001b[39mplot_pulses(title\u001b[39m=\u001b[39m\u001b[39m\"\u001b[39m\u001b[39mOriginal control amplitude\u001b[39m\u001b[39m\"\u001b[39m, figsize\u001b[39m=\u001b[39m(\u001b[39m5\u001b[39m,\u001b[39m3\u001b[39m), rescale_pulse_coeffs \u001b[39m=\u001b[39m \u001b[39mFalse\u001b[39;00m)\n\u001b[0;32m      4\u001b[0m \u001b[39m# Plot the noisy pulse\u001b[39;00m\n\u001b[1;32m----> 5\u001b[0m qobjevo, _ \u001b[39m=\u001b[39m myprocessor\u001b[39m.\u001b[39;49mget_qobjevo(noisy\u001b[39m=\u001b[39;49m\u001b[39mTrue\u001b[39;49;00m)\n\u001b[0;32m      6\u001b[0m noisy_coeff0 \u001b[39m=\u001b[39m qobjevo\u001b[39m.\u001b[39mto_list()[\u001b[39m1\u001b[39m][\u001b[39m1\u001b[39m] \u001b[39m+\u001b[39m qobjevo\u001b[39m.\u001b[39mto_list()[\u001b[39m2\u001b[39m][\u001b[39m1\u001b[39m]\n\u001b[0;32m      7\u001b[0m \u001b[39m#noisy_coeff1 = qobjevo.to_list()[3][1] + qobjevo.to_list()[4][1]\u001b[39;00m\n",
      "File \u001b[1;32m~\\AppData\\Local\\Packages\\PythonSoftwareFoundation.Python.3.11_qbz5n2kfra8p0\\LocalCache\\local-packages\\Python311\\site-packages\\qutip_qip\\device\\processor.py:994\u001b[0m, in \u001b[0;36mProcessor.get_qobjevo\u001b[1;34m(self, args, noisy)\u001b[0m\n\u001b[0;32m    992\u001b[0m \u001b[39mfor\u001b[39;00m pulse \u001b[39min\u001b[39;00m dynamics:\n\u001b[0;32m    993\u001b[0m     \u001b[39mif\u001b[39;00m noisy:\n\u001b[1;32m--> 994\u001b[0m         qu, new_c_ops \u001b[39m=\u001b[39m pulse\u001b[39m.\u001b[39;49mget_noisy_qobjevo(dims\u001b[39m=\u001b[39;49m\u001b[39mself\u001b[39;49m\u001b[39m.\u001b[39;49mdims)\n\u001b[0;32m    995\u001b[0m         c_ops \u001b[39m+\u001b[39m\u001b[39m=\u001b[39m new_c_ops\n\u001b[0;32m    996\u001b[0m     \u001b[39melse\u001b[39;00m:\n",
      "File \u001b[1;32m~\\AppData\\Local\\Packages\\PythonSoftwareFoundation.Python.3.11_qbz5n2kfra8p0\\LocalCache\\local-packages\\Python311\\site-packages\\qutip_qip\\pulse.py:415\u001b[0m, in \u001b[0;36mPulse.get_noisy_qobjevo\u001b[1;34m(self, dims)\u001b[0m\n\u001b[0;32m    396\u001b[0m \u001b[39m\u001b[39m\u001b[39m\"\"\"\u001b[39;00m\n\u001b[0;32m    397\u001b[0m \u001b[39mGet the `QobjEvo` representation of the noisy evolution. The result\u001b[39;00m\n\u001b[0;32m    398\u001b[0m \u001b[39mcan be used directly as input for the qutip solvers.\u001b[39;00m\n\u001b[1;32m   (...)\u001b[0m\n\u001b[0;32m    412\u001b[0m \u001b[39m    A list of (time-dependent) lindbald operators.\u001b[39;00m\n\u001b[0;32m    413\u001b[0m \u001b[39m\"\"\"\u001b[39;00m\n\u001b[0;32m    414\u001b[0m ideal_qu \u001b[39m=\u001b[39m \u001b[39mself\u001b[39m\u001b[39m.\u001b[39mget_ideal_qobjevo(dims)\n\u001b[1;32m--> 415\u001b[0m noise_qu_list \u001b[39m=\u001b[39m [\n\u001b[0;32m    416\u001b[0m     noise\u001b[39m.\u001b[39;49mget_qobjevo(\u001b[39mself\u001b[39;49m\u001b[39m.\u001b[39;49mspline_kind, dims)\n\u001b[0;32m    417\u001b[0m     \u001b[39mfor\u001b[39;49;00m noise \u001b[39min\u001b[39;49;00m \u001b[39mself\u001b[39;49m\u001b[39m.\u001b[39;49mcoherent_noise\n\u001b[0;32m    418\u001b[0m ]\n\u001b[0;32m    419\u001b[0m qu \u001b[39m=\u001b[39m _merge_qobjevo([ideal_qu] \u001b[39m+\u001b[39m noise_qu_list)\n\u001b[0;32m    420\u001b[0m c_ops \u001b[39m=\u001b[39m [\n\u001b[0;32m    421\u001b[0m     noise\u001b[39m.\u001b[39mget_qobjevo(\u001b[39mself\u001b[39m\u001b[39m.\u001b[39mspline_kind, dims)\n\u001b[0;32m    422\u001b[0m     \u001b[39mfor\u001b[39;00m noise \u001b[39min\u001b[39;00m \u001b[39mself\u001b[39m\u001b[39m.\u001b[39mlindblad_noise\n\u001b[0;32m    423\u001b[0m ]\n",
      "File \u001b[1;32m~\\AppData\\Local\\Packages\\PythonSoftwareFoundation.Python.3.11_qbz5n2kfra8p0\\LocalCache\\local-packages\\Python311\\site-packages\\qutip_qip\\pulse.py:416\u001b[0m, in \u001b[0;36m<listcomp>\u001b[1;34m(.0)\u001b[0m\n\u001b[0;32m    396\u001b[0m \u001b[39m\u001b[39m\u001b[39m\"\"\"\u001b[39;00m\n\u001b[0;32m    397\u001b[0m \u001b[39mGet the `QobjEvo` representation of the noisy evolution. The result\u001b[39;00m\n\u001b[0;32m    398\u001b[0m \u001b[39mcan be used directly as input for the qutip solvers.\u001b[39;00m\n\u001b[1;32m   (...)\u001b[0m\n\u001b[0;32m    412\u001b[0m \u001b[39m    A list of (time-dependent) lindbald operators.\u001b[39;00m\n\u001b[0;32m    413\u001b[0m \u001b[39m\"\"\"\u001b[39;00m\n\u001b[0;32m    414\u001b[0m ideal_qu \u001b[39m=\u001b[39m \u001b[39mself\u001b[39m\u001b[39m.\u001b[39mget_ideal_qobjevo(dims)\n\u001b[0;32m    415\u001b[0m noise_qu_list \u001b[39m=\u001b[39m [\n\u001b[1;32m--> 416\u001b[0m     noise\u001b[39m.\u001b[39;49mget_qobjevo(\u001b[39mself\u001b[39;49m\u001b[39m.\u001b[39;49mspline_kind, dims)\n\u001b[0;32m    417\u001b[0m     \u001b[39mfor\u001b[39;00m noise \u001b[39min\u001b[39;00m \u001b[39mself\u001b[39m\u001b[39m.\u001b[39mcoherent_noise\n\u001b[0;32m    418\u001b[0m ]\n\u001b[0;32m    419\u001b[0m qu \u001b[39m=\u001b[39m _merge_qobjevo([ideal_qu] \u001b[39m+\u001b[39m noise_qu_list)\n\u001b[0;32m    420\u001b[0m c_ops \u001b[39m=\u001b[39m [\n\u001b[0;32m    421\u001b[0m     noise\u001b[39m.\u001b[39mget_qobjevo(\u001b[39mself\u001b[39m\u001b[39m.\u001b[39mspline_kind, dims)\n\u001b[0;32m    422\u001b[0m     \u001b[39mfor\u001b[39;00m noise \u001b[39min\u001b[39;00m \u001b[39mself\u001b[39m\u001b[39m.\u001b[39mlindblad_noise\n\u001b[0;32m    423\u001b[0m ]\n",
      "File \u001b[1;32m~\\AppData\\Local\\Packages\\PythonSoftwareFoundation.Python.3.11_qbz5n2kfra8p0\\LocalCache\\local-packages\\Python311\\site-packages\\qutip_qip\\pulse.py:136\u001b[0m, in \u001b[0;36m_EvoElement.get_qobjevo\u001b[1;34m(self, spline_kind, dims)\u001b[0m\n\u001b[0;32m    132\u001b[0m \u001b[39mexcept\u001b[39;00m \u001b[39mException\u001b[39;00m \u001b[39mas\u001b[39;00m err:\n\u001b[0;32m    133\u001b[0m     \u001b[39mprint\u001b[39m(\n\u001b[0;32m    134\u001b[0m         \u001b[39m\"\u001b[39m\u001b[39mThe Evolution element went wrong was\u001b[39m\u001b[39m\\n\u001b[39;00m\u001b[39m \u001b[39m\u001b[39m{}\u001b[39;00m\u001b[39m\"\u001b[39m\u001b[39m.\u001b[39mformat(\u001b[39mstr\u001b[39m(\u001b[39mself\u001b[39m))\n\u001b[0;32m    135\u001b[0m     )\n\u001b[1;32m--> 136\u001b[0m     \u001b[39mraise\u001b[39;00m (err)\n",
      "File \u001b[1;32m~\\AppData\\Local\\Packages\\PythonSoftwareFoundation.Python.3.11_qbz5n2kfra8p0\\LocalCache\\local-packages\\Python311\\site-packages\\qutip_qip\\pulse.py:131\u001b[0m, in \u001b[0;36m_EvoElement.get_qobjevo\u001b[1;34m(self, spline_kind, dims)\u001b[0m\n\u001b[0;32m     99\u001b[0m \u001b[39m\u001b[39m\u001b[39m\"\"\"\u001b[39;00m\n\u001b[0;32m    100\u001b[0m \u001b[39mGet the `QobjEvo` representation of the evolution element.\u001b[39;00m\n\u001b[0;32m    101\u001b[0m \u001b[39mIf both `tlist` and ``coeff`` are None, treated as zero matrix.\u001b[39;00m\n\u001b[1;32m   (...)\u001b[0m\n\u001b[0;32m    128\u001b[0m \u001b[39m    The `QobjEvo` representation of the evolution element.\u001b[39;00m\n\u001b[0;32m    129\u001b[0m \u001b[39m\"\"\"\u001b[39;00m\n\u001b[0;32m    130\u001b[0m \u001b[39mtry\u001b[39;00m:\n\u001b[1;32m--> 131\u001b[0m     \u001b[39mreturn\u001b[39;00m \u001b[39mself\u001b[39;49m\u001b[39m.\u001b[39;49m_get_qobjevo_helper(spline_kind, dims\u001b[39m=\u001b[39;49mdims)\n\u001b[0;32m    132\u001b[0m \u001b[39mexcept\u001b[39;00m \u001b[39mException\u001b[39;00m \u001b[39mas\u001b[39;00m err:\n\u001b[0;32m    133\u001b[0m     \u001b[39mprint\u001b[39m(\n\u001b[0;32m    134\u001b[0m         \u001b[39m\"\u001b[39m\u001b[39mThe Evolution element went wrong was\u001b[39m\u001b[39m\\n\u001b[39;00m\u001b[39m \u001b[39m\u001b[39m{}\u001b[39;00m\u001b[39m\"\u001b[39m\u001b[39m.\u001b[39mformat(\u001b[39mstr\u001b[39m(\u001b[39mself\u001b[39m))\n\u001b[0;32m    135\u001b[0m     )\n",
      "File \u001b[1;32m~\\AppData\\Local\\Packages\\PythonSoftwareFoundation.Python.3.11_qbz5n2kfra8p0\\LocalCache\\local-packages\\Python311\\site-packages\\qutip_qip\\pulse.py:70\u001b[0m, in \u001b[0;36m_EvoElement._get_qobjevo_helper\u001b[1;34m(self, spline_kind, dims)\u001b[0m\n\u001b[0;32m     68\u001b[0m         qu \u001b[39m=\u001b[39m QobjEvo(mat, tlist\u001b[39m=\u001b[39m\u001b[39mself\u001b[39m\u001b[39m.\u001b[39mtlist)\n\u001b[0;32m     69\u001b[0m     \u001b[39melse\u001b[39;00m:\n\u001b[1;32m---> 70\u001b[0m         qu \u001b[39m=\u001b[39m QobjEvo(\n\u001b[0;32m     71\u001b[0m             [mat, np\u001b[39m.\u001b[39;49mones(\u001b[39mlen\u001b[39;49m(\u001b[39mself\u001b[39;49m\u001b[39m.\u001b[39;49mtlist))], tlist\u001b[39m=\u001b[39;49m\u001b[39mself\u001b[39;49m\u001b[39m.\u001b[39;49mtlist\n\u001b[0;32m     72\u001b[0m         )\n\u001b[0;32m     73\u001b[0m \u001b[39melse\u001b[39;00m:\n\u001b[0;32m     74\u001b[0m     qu \u001b[39m=\u001b[39m QobjEvo(mat \u001b[39m*\u001b[39m \u001b[39m0.0\u001b[39m, tlist\u001b[39m=\u001b[39m\u001b[39mself\u001b[39m\u001b[39m.\u001b[39mtlist)\n",
      "File \u001b[1;32m~\\AppData\\Local\\Packages\\PythonSoftwareFoundation.Python.3.11_qbz5n2kfra8p0\\LocalCache\\local-packages\\Python311\\site-packages\\qutip\\qobjevo.py:439\u001b[0m, in \u001b[0;36mQobjEvo.__init__\u001b[1;34m(self, Q_object, args, copy, tlist, state0, e_ops)\u001b[0m\n\u001b[0;32m    436\u001b[0m     \u001b[39mexcept\u001b[39;00m (\u001b[39mTypeError\u001b[39;00m, \u001b[39mValueError\u001b[39;00m):\n\u001b[0;32m    437\u001b[0m         \u001b[39mpass\u001b[39;00m\n\u001b[1;32m--> 439\u001b[0m op_type \u001b[39m=\u001b[39m \u001b[39mself\u001b[39;49m\u001b[39m.\u001b[39;49m_td_format_check(Q_object)\n\u001b[0;32m    440\u001b[0m \u001b[39mself\u001b[39m\u001b[39m.\u001b[39mops \u001b[39m=\u001b[39m []\n\u001b[0;32m    442\u001b[0m \u001b[39mif\u001b[39;00m \u001b[39misinstance\u001b[39m(op_type, \u001b[39mint\u001b[39m):\n",
      "File \u001b[1;32m~\\AppData\\Local\\Packages\\PythonSoftwareFoundation.Python.3.11_qbz5n2kfra8p0\\LocalCache\\local-packages\\Python311\\site-packages\\qutip\\qobjevo.py:526\u001b[0m, in \u001b[0;36mQobjEvo._td_format_check\u001b[1;34m(self, Q_object)\u001b[0m\n\u001b[0;32m    524\u001b[0m     \u001b[39mreturn\u001b[39;00m \u001b[39m1\u001b[39m\n\u001b[0;32m    525\u001b[0m \u001b[39mif\u001b[39;00m \u001b[39misinstance\u001b[39m(Q_object, \u001b[39mlist\u001b[39m):\n\u001b[1;32m--> 526\u001b[0m     \u001b[39mreturn\u001b[39;00m [\u001b[39mself\u001b[39;49m\u001b[39m.\u001b[39;49m_td_op_type(element) \u001b[39mfor\u001b[39;49;00m element \u001b[39min\u001b[39;49;00m Q_object] \u001b[39mor\u001b[39;00m \u001b[39m-\u001b[39m\u001b[39m1\u001b[39m\n\u001b[0;32m    527\u001b[0m \u001b[39mraise\u001b[39;00m \u001b[39mTypeError\u001b[39;00m(\u001b[39m\"\u001b[39m\u001b[39mIncorrect Q_object specification\u001b[39m\u001b[39m\"\u001b[39m)\n",
      "File \u001b[1;32m~\\AppData\\Local\\Packages\\PythonSoftwareFoundation.Python.3.11_qbz5n2kfra8p0\\LocalCache\\local-packages\\Python311\\site-packages\\qutip\\qobjevo.py:526\u001b[0m, in \u001b[0;36m<listcomp>\u001b[1;34m(.0)\u001b[0m\n\u001b[0;32m    524\u001b[0m     \u001b[39mreturn\u001b[39;00m \u001b[39m1\u001b[39m\n\u001b[0;32m    525\u001b[0m \u001b[39mif\u001b[39;00m \u001b[39misinstance\u001b[39m(Q_object, \u001b[39mlist\u001b[39m):\n\u001b[1;32m--> 526\u001b[0m     \u001b[39mreturn\u001b[39;00m [\u001b[39mself\u001b[39;49m\u001b[39m.\u001b[39;49m_td_op_type(element) \u001b[39mfor\u001b[39;00m element \u001b[39min\u001b[39;00m Q_object] \u001b[39mor\u001b[39;00m \u001b[39m-\u001b[39m\u001b[39m1\u001b[39m\n\u001b[0;32m    527\u001b[0m \u001b[39mraise\u001b[39;00m \u001b[39mTypeError\u001b[39;00m(\u001b[39m\"\u001b[39m\u001b[39mIncorrect Q_object specification\u001b[39m\u001b[39m\"\u001b[39m)\n",
      "File \u001b[1;32m~\\AppData\\Local\\Packages\\PythonSoftwareFoundation.Python.3.11_qbz5n2kfra8p0\\LocalCache\\local-packages\\Python311\\site-packages\\qutip\\qobjevo.py:539\u001b[0m, in \u001b[0;36mQobjEvo._td_op_type\u001b[1;34m(self, element)\u001b[0m\n\u001b[0;32m    535\u001b[0m     \u001b[39mraise\u001b[39;00m \u001b[39mTypeError\u001b[39;00m(\u001b[39m\"\u001b[39m\u001b[39mIncorrect Q_object specification\u001b[39m\u001b[39m\"\u001b[39m) \u001b[39mfrom\u001b[39;00m \u001b[39mexc\u001b[39;00m\n\u001b[0;32m    536\u001b[0m \u001b[39mif\u001b[39;00m (\u001b[39mnot\u001b[39;00m \u001b[39misinstance\u001b[39m(op, Qobj)) \u001b[39mor\u001b[39;00m \u001b[39misinstance\u001b[39m(td, Qobj):\n\u001b[0;32m    537\u001b[0m     \u001b[39m# Qobj is itself callable, so we need an extra check to make sure\u001b[39;00m\n\u001b[0;32m    538\u001b[0m     \u001b[39m# that we don't have a two-element list where both are Qobj.\u001b[39;00m\n\u001b[1;32m--> 539\u001b[0m     \u001b[39mraise\u001b[39;00m \u001b[39mTypeError\u001b[39;00m(\u001b[39m\"\u001b[39m\u001b[39mIncorrect Q_object specification\u001b[39m\u001b[39m\"\u001b[39m)\n\u001b[0;32m    540\u001b[0m \u001b[39mif\u001b[39;00m \u001b[39misinstance\u001b[39m(td, Cubic_Spline):\n\u001b[0;32m    541\u001b[0m     out \u001b[39m=\u001b[39m \u001b[39m4\u001b[39m\n",
      "\u001b[1;31mTypeError\u001b[0m: Incorrect Q_object specification"
     ]
    },
    {
     "data": {
      "image/png": "[encoded data removed]",
      "text/plain": [
       "<Figure size 500x300 with 6 Axes>"
      ]
     },
     "metadata": {},
     "output_type": "display_data"
    }
   ],
   "source": [
    "# Plot the ideal pulse\n",
    "myprocessor.plot_pulses(title=\"Original control amplitude\", figsize=(5,3), rescale_pulse_coeffs = False)\n",
    "\n",
    "# Plot the noisy pulse\n",
    "qobjevo, _ = myprocessor.get_qobjevo(noisy=True)\n",
    "noisy_coeff0 = qobjevo.to_list()[1][1] + qobjevo.to_list()[2][1]\n",
    "#noisy_coeff1 = qobjevo.to_list()[3][1] + qobjevo.to_list()[4][1]\n",
    "fig2, axis2 = myprocessor.plot_pulses(title=\"Noisy control amplitude\", figsize=(5,3), rescale_pulse_coeffs = False)\n",
    "axis2[0].step(qobjevo.tlist, noisy_coeff0)\n",
    "#axis2[1].step(qobjevo.tlist, noisy_coeff1)"
   ]
  },
  {
   "cell_type": "code",
   "execution_count": null,
   "metadata": {},
   "outputs": [],
   "source": []
  }
 ],
 "metadata": {
  "kernelspec": {
   "display_name": "Python 3",
   "language": "python",
   "name": "python3"
  },
  "language_info": {
   "codemirror_mode": {
    "name": "ipython",
    "version": 3
   },
   "file_extension": ".py",
   "mimetype": "text/x-python",
   "name": "python",
   "nbconvert_exporter": "python",
   "pygments_lexer": "ipython3",
   "version": "3.11.5"
  },
  "orig_nbformat": 4
 },
 "nbformat": 4,
 "nbformat_minor": 2
}
