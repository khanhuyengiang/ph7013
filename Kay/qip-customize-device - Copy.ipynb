{
 "cells": [
  {
   "cell_type": "markdown",
   "id": "7d83d064",
   "metadata": {},
   "source": [
    "# Custimize the pulse-level simulation\n",
    "Author: Boxi Li (etamin1201@gmail.com)\n",
    "\n",
    "In this note, we demonstrate examples of customizing  the pulse-level simulator in qutip-qip.The notebook is divided into three parts:\n",
    "1. Customizing the Hamiltonian model\n",
    "2. Customizing the compiler\n",
    "3. Customizing the noise"
   ]
  },
  {
   "cell_type": "code",
   "execution_count": 1,
   "id": "d5a3a26f",
   "metadata": {
    "execution": {
     "iopub.execute_input": "2023-03-15T08:10:51.293388Z",
     "iopub.status.busy": "2023-03-15T08:10:51.292781Z",
     "iopub.status.idle": "2023-03-15T08:10:53.034715Z",
     "shell.execute_reply": "2023-03-15T08:10:53.033233Z"
    }
   },
   "outputs": [],
   "source": [
    "import matplotlib.pyplot as plt\n",
    "import numpy as np\n",
    "from qutip import basis, fidelity, sigmax, sigmay, sigmaz, tensor, about\n",
    "from qutip_qip.circuit import QubitCircuit\n",
    "from qutip_qip.compiler import GateCompiler, Instruction, SpinChainCompiler\n",
    "from qutip_qip.device import Model, ModelProcessor\n",
    "from qutip_qip.noise import Noise\n",
    "import qutip_qip"
   ]
  },
  {
   "cell_type": "markdown",
   "id": "4f7062ac",
   "metadata": {},
   "source": [
    "## Customizing the Hamiltonian model"
   ]
  },
  {
   "cell_type": "markdown",
   "id": "b5e84e2b",
   "metadata": {},
   "source": [
    "We start from the customization of the Hamiltonian model, which is represented by a class instance of `Model`.A minimal requirement for a processor model is specifying the hardware parameters and the control Hamiltonians of the physical system. The former will be provided to the compiler for computing the pulse strength. The latter will be accessed by the `Processor` class via the method `get_control`."
   ]
  },
  {
   "cell_type": "code",
   "execution_count": 2,
   "id": "681c1d4a",
   "metadata": {
    "execution": {
     "iopub.execute_input": "2023-03-15T08:10:53.039136Z",
     "iopub.status.busy": "2023-03-15T08:10:53.038580Z",
     "iopub.status.idle": "2023-03-15T08:10:53.049980Z",
     "shell.execute_reply": "2023-03-15T08:10:53.049023Z"
    }
   },
   "outputs": [],
   "source": [
    "class MyModel(Model):\n",
    "    def __init__(\n",
    "        self, num_qubits, dims=None, h_x=1.0, h_y=1.0, g=0.1, t1=None, t2=None\n",
    "    ):\n",
    "        super().__init__(num_qubits, dims=dims)\n",
    "        self.params = {\n",
    "            \"sy\": [h_y] * num_qubits,\n",
    "            \"sx\": [h_x] * num_qubits,\n",
    "            \"g\": [g] * num_qubits,\n",
    "            #  Will be accessed by the noise module.\n",
    "            \"t1\": t1,\n",
    "            \"t2\": t2,\n",
    "        }\n",
    "        # Control Hamiltonians\n",
    "        self.controls = {}\n",
    "        self.controls.update(\n",
    "            {f\"sx{n}\": (2 * np.pi * sigmax(), n) for n in range(num_qubits)}\n",
    "        )\n",
    "        self.controls.update(\n",
    "            {f\"sy{n}\": (2 * np.pi * sigmay(), n) for n in range(num_qubits)}\n",
    "        ),\n",
    "\n",
    "    def get_control(self, label):\n",
    "        \"\"\"\n",
    "        The mandatory method. It Returns a pair of Qobj and int representing\n",
    "        the control Hamiltonian and the target qubit.\n",
    "        \"\"\"\n",
    "        return self.controls[label]\n",
    "\n",
    "    def get_control_labels(self):\n",
    "        \"\"\"\n",
    "        It returns all the labels of availble controls.\n",
    "        \"\"\"\n",
    "        return self.controls.keys()\n",
    "\n",
    "    def get_control_latex(self):\n",
    "        \"\"\"\n",
    "        The function returns a list of dictionaries, corresponding to the latex\n",
    "        representation of each control. This is used in the plotting.\n",
    "        Controls in each dictionary will be plotted in a different colour.\n",
    "        See examples later in this notebook.\n",
    "        \"\"\"\n",
    "        return [\n",
    "            {f\"sx{n}\": r\"$\\sigma_x^%d$\" % n for n in range(num_qubits)},\n",
    "            {f\"sy{n}\": r\"$\\sigma_y^%d$\" % n for n in range(num_qubits)},\n",
    "        ]"
   ]
  },
  {
   "cell_type": "markdown",
   "id": "dac774d5",
   "metadata": {},
   "source": [
    "This is a quantum system of $n$ qubits arranged in a chain (same as the [spin chain model](https://qutip-qip.readthedocs.io/en/stable/apidoc/qutip_qip.device.html?highlight=spinchain#qutip_qip.device.SpinChainModel)), where we have control over three Hamiltonian: $\\sigma_x$, $\\sigma_z$ on each qubit, and neighbouring-qubits interaction $\\sigma_x\\sigma_x+\\sigma_y\\sigma_y$:\n",
    "\n",
    "$$\n",
    "H = \\sum_{j=0}^{n-1} c_{1,j}(t) \\cdot h_x^{j}\\sigma_x^{j} + \\sum_{j=0}^{n-1} c_{2,j}(t) \\cdot h_y^{j}\\sigma_z^{j}\n",
    "+ \\sum_{j=0}^{n-2} c_{3,j}(t)\\cdot g^{j}(\\sigma_x^{j}\\sigma_x^{j+1}+\\sigma_y^{j}\\sigma_y^{j+1})\n",
    "$$\n",
    "\n",
    "where $h_x$, $h_y$, $g$ are the hardware parameters and $c_{i,j}(t)$ are the time-dependent control pulse coefficients. This Hamiltonian is the same as the one for the linear spin chain model in QuTiP. In general, the hardware parameters will not be identical for each qubit, but here, for simplicity, we represent them by three numbers: $h_x$, $h_y$ and $g$.\n",
    "\n",
    "To simulate a custom quantum device, we provide the model to `ModelProcessor`, which is used for simulators based on a concrete physics model (in contrast to optimal control for arbitrary Hamiltonians). In this way, we inherit the necessary methods from `ModelProcessor` used in the simulation. "
   ]
  },
  {
   "cell_type": "code",
   "execution_count": 3,
   "id": "e410c248",
   "metadata": {
    "execution": {
     "iopub.execute_input": "2023-03-15T08:10:53.052646Z",
     "iopub.status.busy": "2023-03-15T08:10:53.052227Z",
     "iopub.status.idle": "2023-03-15T08:10:53.059908Z",
     "shell.execute_reply": "2023-03-15T08:10:53.059250Z"
    }
   },
   "outputs": [],
   "source": [
    "num_qubits = 2\n",
    "processor = ModelProcessor(model=MyModel(num_qubits, h_x=1.0, h_y=1.0, g=0.1))"
   ]
  },
  {
   "cell_type": "markdown",
   "id": "aebdbace",
   "metadata": {},
   "source": [
    "In `set_up_ops`, we define the control Hamiltonians of the quantum system and use them to initialize the control pulses. We can get the map between the pulse labels and the pulse location with"
   ]
  },
  {
   "cell_type": "code",
   "execution_count": 4,
   "id": "26f954ce",
   "metadata": {
    "execution": {
     "iopub.execute_input": "2023-03-15T08:10:53.062693Z",
     "iopub.status.busy": "2023-03-15T08:10:53.062137Z",
     "iopub.status.idle": "2023-03-15T08:10:53.070333Z",
     "shell.execute_reply": "2023-03-15T08:10:53.069728Z"
    }
   },
   "outputs": [
    {
     "data": {
      "text/plain": [
       "dict_keys(['sx0', 'sx1', 'sy0', 'sy1'])"
      ]
     },
     "execution_count": 4,
     "metadata": {},
     "output_type": "execute_result"
    }
   ],
   "source": [
    "processor.get_control_labels()"
   ]
  },
  {
   "cell_type": "markdown",
   "id": "92959761",
   "metadata": {},
   "source": [
    "Or access a control Hamiltonian by its label:"
   ]
  },
  {
   "cell_type": "code",
   "execution_count": 5,
   "id": "6c26aa39",
   "metadata": {
    "execution": {
     "iopub.execute_input": "2023-03-15T08:10:53.073138Z",
     "iopub.status.busy": "2023-03-15T08:10:53.072602Z",
     "iopub.status.idle": "2023-03-15T08:10:53.077659Z",
     "shell.execute_reply": "2023-03-15T08:10:53.076970Z"
    }
   },
   "outputs": [
    {
     "data": {
      "text/plain": [
       "(Quantum object: dims = [[2], [2]], shape = (2, 2), type = oper, isherm = True\n",
       " Qobj data =\n",
       " [[0.         6.28318531]\n",
       "  [6.28318531 0.        ]],\n",
       " 0)"
      ]
     },
     "execution_count": 5,
     "metadata": {},
     "output_type": "execute_result"
    }
   ],
   "source": [
    "sx0 = processor.get_control(\"sx0\")\n",
    "sx0"
   ]
  },
  {
   "cell_type": "markdown",
   "id": "bb3542e9",
   "metadata": {},
   "source": [
    "In qutip-qip 0.1 version, the model is directly defined in the `Processor`. This can still be achieved in version 0.2 as shown in the following cell. This is equivalent to the definition above. An instance of `Model` is automatically created and saved in the processor."
   ]
  },
  {
   "cell_type": "code",
   "execution_count": 6,
   "id": "accccf03",
   "metadata": {
    "execution": {
     "iopub.execute_input": "2023-03-15T08:10:53.081263Z",
     "iopub.status.busy": "2023-03-15T08:10:53.080722Z",
     "iopub.status.idle": "2023-03-15T08:10:53.089207Z",
     "shell.execute_reply": "2023-03-15T08:10:53.088611Z"
    }
   },
   "outputs": [],
   "source": [
    "class MyProcessor(ModelProcessor):\n",
    "    \"\"\"\n",
    "    Custom processor built using ModelProcessor as the base class.\n",
    "    This custom processor will inherit all the methods of the base class\n",
    "    such as setting up of the T1 and T2 decoherence rates in the simulations.\n",
    "\n",
    "    In addition, it is possible to write your own functions to add control\n",
    "    pulses.\n",
    "\n",
    "    Args:\n",
    "        num_qubits (int): Number of qubits in the processor.\n",
    "        t1, t2 (float or list): The T1 and T2 decoherence rates for the\n",
    "    \"\"\"\n",
    "\n",
    "    def __init__(self, num_qubits, h_x, h_y, g, t1=None, t2=None):\n",
    "        super(MyProcessor, self).__init__(\n",
    "            num_qubits, t1=t1, t2=t2\n",
    "        )  # call the parent class initializer\n",
    "        # The control pulse is discrete or continous.\n",
    "        self.pulse_mode = \"discrete\"\n",
    "        self.model.params.update(\n",
    "            {\n",
    "                # can also be different for each qubit\n",
    "                \"sy\": [h_y] * num_qubits,\n",
    "                \"sx\": [h_x] * num_qubits,\n",
    "                \"g\": [g] * num_qubits,\n",
    "            }\n",
    "        )\n",
    "        # The dimension of each controllable quantum system\n",
    "        self.model.dims = [2] * num_qubits\n",
    "        self.num_qubits = num_qubits\n",
    "        self.set_up_ops()  # set up the available Hamiltonians\n",
    "\n",
    "    def set_up_ops(self):\n",
    "        \"\"\"\n",
    "        Sets up the control operators.\n",
    "        \"\"\"\n",
    "        for m in range(self.num_qubits):\n",
    "            # sigmax pulse on m-th qubit with the corresponding pulse\n",
    "            self.add_control(2 * np.pi * sigmax(), m, label=\"sx\" + str(m))\n",
    "        # sy\n",
    "        for m in range(self.num_qubits):\n",
    "            self.add_control(2 * np.pi * sigmay(), m, label=\"sy\" + str(m))\n",
    "        # interaction operator"
   ]
  },
  {
   "cell_type": "markdown",
   "id": "e683f1a9",
   "metadata": {},
   "source": [
    "### Load and compile the circuit\n"
   ]
  },
  {
   "cell_type": "markdown",
   "id": "ceb9dc45",
   "metadata": {},
   "source": [
    "We first define a quantum circuit. Here we use a two-qubit circuit with two X  gates. Acting on a $|00\\rangle$ state, this results in a $|11\\rangle$ state."
   ]
  },
  {
   "cell_type": "code",
   "execution_count": 7,
   "id": "29743fe7",
   "metadata": {},
   "outputs": [],
   "source": [
    "num_qubits = 2"
   ]
  },
  {
   "cell_type": "code",
   "execution_count": 8,
   "id": "9576b54e",
   "metadata": {
    "execution": {
     "iopub.execute_input": "2023-03-15T08:10:53.092347Z",
     "iopub.status.busy": "2023-03-15T08:10:53.091835Z",
     "iopub.status.idle": "2023-03-15T08:10:53.340233Z",
     "shell.execute_reply": "2023-03-15T08:10:53.339334Z"
    }
   },
   "outputs": [
    {
     "data": {
      "image/png": "[encoded data removed]",
      "text/plain": [
       "<qutip_qip.circuit.circuit.QubitCircuit at 0x1a33d65b110>"
      ]
     },
     "execution_count": 8,
     "metadata": {},
     "output_type": "execute_result"
    }
   ],
   "source": [
    "circuit = QubitCircuit(num_qubits)\n",
    "circuit.add_gate(\"X\", targets=1)\n",
    "circuit.add_gate(\"X\", targets=0)\n",
    "circuit"
   ]
  },
  {
   "cell_type": "markdown",
   "id": "8818f143",
   "metadata": {},
   "source": [
    "For circuit plotting, see [this notebook](../quantum-circuits/quantum-gates.md)."
   ]
  },
  {
   "cell_type": "markdown",
   "id": "86952285",
   "metadata": {},
   "source": [
    "To convert a quantum circuit into the Hamiltonian model, we need a compiler. The custom definition of a compiler will be discussed in details in the next section. Because we used the Hamiltonian model of the spin chain, we here simply \"borrow\" the compiler of the spin chain model."
   ]
  },
  {
   "cell_type": "code",
   "execution_count": 9,
   "id": "9d32b13c",
   "metadata": {},
   "outputs": [
    {
     "data": {
      "text/plain": [
       "{'sy': [1.0, 1.0], 'sx': [1.0, 1.0], 'g': [0.1, 0.1], 't1': None, 't2': None}"
      ]
     },
     "execution_count": 9,
     "metadata": {},
     "output_type": "execute_result"
    }
   ],
   "source": [
    "processor.params"
   ]
  },
  {
   "cell_type": "code",
   "execution_count": 10,
   "id": "709c9c48",
   "metadata": {
    "execution": {
     "iopub.execute_input": "2023-03-15T08:10:53.343281Z",
     "iopub.status.busy": "2023-03-15T08:10:53.342845Z",
     "iopub.status.idle": "2023-03-15T08:10:53.365888Z",
     "shell.execute_reply": "2023-03-15T08:10:53.365260Z"
    }
   },
   "outputs": [
    {
     "data": {
      "text/latex": [
       "Quantum object: dims = [[2, 2], [1, 1]], shape = (4, 1), type = ket $ \\\\ \\left(\\begin{matrix}3.450\\times10^{-07}\\\\1.624\\times10^{-08}j\\\\1.624\\times10^{-08}j\\\\-1.000\\\\\\end{matrix}\\right)$"
      ],
      "text/plain": [
       "Quantum object: dims = [[2, 2], [1, 1]], shape = (4, 1), type = ket\n",
       "Qobj data =\n",
       "[[ 3.44966416e-07+0.00000000e+00j]\n",
       " [ 0.00000000e+00+1.62381269e-08j]\n",
       " [ 0.00000000e+00+1.62381269e-08j]\n",
       " [-1.00000000e+00+0.00000000e+00j]]"
      ]
     },
     "execution_count": 10,
     "metadata": {},
     "output_type": "execute_result"
    }
   ],
   "source": [
    "processor = ModelProcessor(model=MyModel(num_qubits, h_x=1.0, h_y=1.0, g=0.1))\n",
    "processor.native_gates = [\"ISWAP\", \"RX\", \"RZ\"]\n",
    "\n",
    "# processor.num_qubits, processor.params\n",
    "# access directly the information in the model.\n",
    "compiler = SpinChainCompiler(processor.num_qubits, processor.params)\n",
    "\n",
    "processor.load_circuit(circuit, compiler=compiler)\n",
    "result = processor.run_state(init_state=basis([2, 2], [0, 0]))\n",
    "result.states[-1]"
   ]
  },
  {
   "cell_type": "markdown",
   "id": "c9c1e57d",
   "metadata": {},
   "source": [
    "The compiled pulse coefficients are now saved in the processor and can be accessed by:"
   ]
  },
  {
   "cell_type": "code",
   "execution_count": 11,
   "id": "11f523bf",
   "metadata": {
    "execution": {
     "iopub.execute_input": "2023-03-15T08:10:53.368939Z",
     "iopub.status.busy": "2023-03-15T08:10:53.368559Z",
     "iopub.status.idle": "2023-03-15T08:10:53.374129Z",
     "shell.execute_reply": "2023-03-15T08:10:53.373527Z"
    }
   },
   "outputs": [
    {
     "name": "stdout",
     "output_type": "stream",
     "text": [
      "[1.]\n",
      "[0.   0.25]\n"
     ]
    }
   ],
   "source": [
    "sx1_pulse = processor.find_pulse(\"sx1\")\n",
    "print(sx1_pulse.coeff)\n",
    "print(sx1_pulse.tlist)"
   ]
  },
  {
   "cell_type": "markdown",
   "id": "46f855bd",
   "metadata": {},
   "source": [
    "This is a rectangular pulse that starts from time 0 and ends at time 0.25.\n",
    "\n",
    "#### Note\n",
    "\n",
    "For discrete pulse, the time sequence is one element shorter than the pulse coefficient because we need to specify the start and the end of the pulse. If two sequences are of the same length, the last element of `coeff` will be neglected. Later, we will see continuous pulse where `coeff` and `tlist` have the same length.\n",
    "\n",
    "To give an intuitive illustration of the control pulses, we give each pulse a latex label by defining a method `get_operators_labels` and then plot the compiled pulses."
   ]
  },
  {
   "cell_type": "code",
   "execution_count": 12,
   "id": "58861076",
   "metadata": {
    "execution": {
     "iopub.execute_input": "2023-03-15T08:10:53.376995Z",
     "iopub.status.busy": "2023-03-15T08:10:53.376666Z",
     "iopub.status.idle": "2023-03-15T08:10:53.715266Z",
     "shell.execute_reply": "2023-03-15T08:10:53.714580Z"
    }
   },
   "outputs": [
    {
     "data": {
      "image/png": "[encoded data removed]",
      "text/plain": [
       "<Figure size 1200x600 with 4 Axes>"
      ]
     },
     "metadata": {},
     "output_type": "display_data"
    }
   ],
   "source": [
    "processor.plot_pulses()\n",
    "plt.show()"
   ]
  },
  {
   "cell_type": "markdown",
   "id": "25fe2835",
   "metadata": {},
   "source": [
    "## Customizing the compiler\n",
    "\n",
    "How the quantum gates are implemented on hardware varies on different quantum systems. Even on the same physical platform, different implementation will yield different performance. The simplest way of implementation is to define a rectangular pulse like the one above. However, in reality, the control signal will have a continuous shape. In the following, we show how to customize the compiler with a gaussian pulse.\n",
    "\n",
    "A typical gate compiler function looks like the one in the following cell, with the form ``XX_compiler(self, gate, args)``. It takes two arguments, `gate` and `args`: `gate` is the quantum gate to be compiled and `args` is a dictionary for additional parameters, for instance, parameters we defined in `Processor.params`.\n",
    "\n",
    "For each gate, the function returns the input gate, the time sequence and the pulse coefficients in an `Instruction` object.\n",
    "\n",
    "Below is an example of a rectangular pulse."
   ]
  },
  {
   "cell_type": "code",
   "execution_count": 13,
   "id": "79db26af",
   "metadata": {
    "execution": {
     "iopub.execute_input": "2023-03-15T08:10:53.719218Z",
     "iopub.status.busy": "2023-03-15T08:10:53.718947Z",
     "iopub.status.idle": "2023-03-15T08:10:53.724582Z",
     "shell.execute_reply": "2023-03-15T08:10:53.723998Z"
    }
   },
   "outputs": [],
   "source": [
    "def rz_compiler(gate, args):\n",
    "    \"\"\"\n",
    "    Compiles the RZ gate to an instruction for a pulse.\n",
    "\n",
    "    Args:\n",
    "        gate (qutip_qip.circuit.Gate): A qutip Gate object.\n",
    "        args:(dict): A dictionary for compilation arguments e.g.\n",
    "                     hardware parameters.\n",
    "\n",
    "    Returns:\n",
    "        Instruction (qutip_qip.compiler.instruction.Instruction):\n",
    "        An instruction to implement a gate containing the control\n",
    "        pulses.\n",
    "    \"\"\"\n",
    "    tlist = np.array([1.0])\n",
    "    coeff = np.array([0.0, 0.25])\n",
    "    # instruction is an object that includes the pulse coefficient\n",
    "    # and time sequence\n",
    "    pulse_info = [(\"sy0\", coeff)]\n",
    "    return [Instruction(gate, tlist, pulse_info)]"
   ]
  },
  {
   "cell_type": "markdown",
   "id": "6339c499",
   "metadata": {},
   "source": [
    "Now we replace it with a continuous pulse. In particular, we define a `single_qubit_compiler` method. For RX and RY gate, it reads the maximal driving strength from the parameters and computes the corresponding time sequence and pulse amplitude.\n",
    "\n",
    "For simplicity, we make use of the [`generate_pulse_shape` method](https://qutip-qip.readthedocs.io/en/stable/apidoc/qutip_qip.compiler.html?highlight=generate_pulse_shape#qutip_qip.compiler.GateCompiler.generate_pulse_shape), which is defined in the parent class `GateCompiler` and is available  in all subclasses."
   ]
  },
  {
   "cell_type": "code",
   "execution_count": 14,
   "id": "84c04371",
   "metadata": {
    "execution": {
     "iopub.execute_input": "2023-03-15T08:10:53.727973Z",
     "iopub.status.busy": "2023-03-15T08:10:53.727728Z",
     "iopub.status.idle": "2023-03-15T08:10:53.735137Z",
     "shell.execute_reply": "2023-03-15T08:10:53.734516Z"
    }
   },
   "outputs": [],
   "source": [
    "class MyCompiler(GateCompiler):  # compiler class\n",
    "    def __init__(self, num_qubits, params):\n",
    "        super(MyCompiler, self).__init__(num_qubits, params=params)\n",
    "        # pass our compiler function as a compiler for X gate.\n",
    "        self.gate_compiler[\"X\"] = self.single_qubit_compiler\n",
    "        self.gate_compiler[\"Y\"] = self.single_qubit_compiler\n",
    "        self.args.update({\"params\": params})\n",
    "\n",
    "    def single_qubit_compiler(self, gate, args):\n",
    "        \"\"\"\n",
    "        Compiler for the X and Y gate.\n",
    "        \"\"\"\n",
    "        targets = gate.targets\n",
    "        if gate.name == \"Y\":\n",
    "            pulse_prefix = \"sy\"\n",
    "            pulse_strength = args[\"params\"][\"sy\"][targets[0]]\n",
    "        elif gate.name == \"X\":\n",
    "            pulse_prefix = \"sx\"\n",
    "            pulse_strength = args[\"params\"][\"sx\"][targets[0]]\n",
    "        coeff, tlist = self.generate_pulse_shape(\n",
    "            \"hann\",  # Scipy Hann window\n",
    "            100,  # 100 sampling point\n",
    "            maximum=pulse_strength,\n",
    "            area=(np.pi / 2)\n",
    "            / (\n",
    "                2 * np.pi\n",
    "            ),  # 1/2 becuase we use sigmax as the operator instead of sigmax/2\n",
    "        )\n",
    "        pulse_info = [(pulse_prefix + str(targets[0]), coeff)]\n",
    "        return [Instruction(gate, tlist, pulse_info)]"
   ]
  },
  {
   "cell_type": "markdown",
   "id": "f05477dc",
   "metadata": {},
   "source": [
    "The attribute `pulse_mode` can be set to `\"discrete\"` or `\"continuous\"`. For continuous pulse, QuTiP solvers will use cubic spline interpolation. To minimize the boundary effect, it is recommended that the continuous pulse goes smoothly to 0 at the beginning and the end. We can see the advantage of the scheduling when we introduce a T1 decoherence and compare the fidelity of the final state."
   ]
  },
  {
   "cell_type": "code",
   "execution_count": 15,
   "id": "8d8bbeff",
   "metadata": {
    "execution": {
     "iopub.execute_input": "2023-03-15T08:10:53.738275Z",
     "iopub.status.busy": "2023-03-15T08:10:53.738039Z",
     "iopub.status.idle": "2023-03-15T08:10:53.786946Z",
     "shell.execute_reply": "2023-03-15T08:10:53.786263Z"
    }
   },
   "outputs": [
    {
     "name": "stdout",
     "output_type": "stream",
     "text": [
      "fidelity without scheduling: 0.9984504390654054\n"
     ]
    }
   ],
   "source": [
    "gauss_compiler = MyCompiler(processor.num_qubits, processor.params)\n",
    "processor = ModelProcessor(model=MyModel(num_qubits, h_x=1.0,\n",
    "                                         h_y=1.0, g=0.1, t1=300))\n",
    "processor.pulse_mode = \"continuous\"\n",
    "tlist, coeff = processor.load_circuit(\n",
    "    circuit, compiler=gauss_compiler, schedule_mode=False\n",
    ")\n",
    "print\n",
    "result = processor.run_state(init_state=basis([2, 2], [0, 0]))\n",
    "print(\n",
    "    \"fidelity without scheduling:\", fidelity(result.states[-1],\n",
    "                                             basis([2, 2], [1, 1]))\n",
    ")"
   ]
  },
  {
   "cell_type": "code",
   "execution_count": 16,
   "id": "e4a19e18",
   "metadata": {
    "execution": {
     "iopub.execute_input": "2023-03-15T08:10:53.790261Z",
     "iopub.status.busy": "2023-03-15T08:10:53.790012Z",
     "iopub.status.idle": "2023-03-15T08:10:53.907170Z",
     "shell.execute_reply": "2023-03-15T08:10:53.906477Z"
    }
   },
   "outputs": [
    {
     "data": {
      "image/png": "[encoded data removed]",
      "text/plain": [
       "<Figure size 1200x600 with 2 Axes>"
      ]
     },
     "metadata": {},
     "output_type": "display_data"
    }
   ],
   "source": [
    "processor.plot_pulses(use_control_latex=False)\n",
    "plt.show()"
   ]
  },
  {
   "cell_type": "markdown",
   "id": "0089b484",
   "metadata": {},
   "source": [
    "We can also turn on the scheduler to schedule the circuit for a shorter execution time."
   ]
  },
  {
   "cell_type": "code",
   "execution_count": 17,
   "id": "082603d3",
   "metadata": {
    "execution": {
     "iopub.execute_input": "2023-03-15T08:10:53.910766Z",
     "iopub.status.busy": "2023-03-15T08:10:53.910501Z",
     "iopub.status.idle": "2023-03-15T08:10:53.952434Z",
     "shell.execute_reply": "2023-03-15T08:10:53.951820Z"
    }
   },
   "outputs": [
    {
     "name": "stdout",
     "output_type": "stream",
     "text": [
      "fidelity with scheduling: 0.999283251862396\n"
     ]
    }
   ],
   "source": [
    "processor = ModelProcessor(model=MyModel(num_qubits, h_x=1.0,\n",
    "                                         h_y=1.0, g=0.1, t1=300))\n",
    "tlist, coeffs = processor.load_circuit(\n",
    "    circuit, schedule_mode=\"ASAP\", compiler=gauss_compiler\n",
    ")\n",
    "processor.pulse_mode = \"continuous\"\n",
    "result = processor.run_state(init_state=basis([2, 2], [0, 0]))\n",
    "print(\"fidelity with scheduling:\", fidelity(result.states[-1], basis([2, 2], [1, 1])))"
   ]
  },
  {
   "cell_type": "code",
   "execution_count": 18,
   "id": "5aba36d9",
   "metadata": {
    "execution": {
     "iopub.execute_input": "2023-03-15T08:10:53.956286Z",
     "iopub.status.busy": "2023-03-15T08:10:53.956034Z",
     "iopub.status.idle": "2023-03-15T08:10:54.069448Z",
     "shell.execute_reply": "2023-03-15T08:10:54.068819Z"
    }
   },
   "outputs": [
    {
     "data": {
      "image/png": "[encoded data removed]",
      "text/plain": [
       "<Figure size 1200x600 with 2 Axes>"
      ]
     },
     "metadata": {},
     "output_type": "display_data"
    }
   ],
   "source": [
    "processor.plot_pulses(use_control_latex=False)\n",
    "plt.show()"
   ]
  },
  {
   "cell_type": "markdown",
   "id": "8861cc72",
   "metadata": {},
   "source": [
    "### Define your own gate\n",
    "The number of predefined gates in qutip is limited, hence you are encouraged to define your own gate. Here we show how to define a parametrized gate. First, you will need to define a gate function:"
   ]
  },
  {
   "cell_type": "code",
   "execution_count": 19,
   "id": "e8f1639c",
   "metadata": {
    "execution": {
     "iopub.execute_input": "2023-03-15T08:10:54.072847Z",
     "iopub.status.busy": "2023-03-15T08:10:54.072601Z",
     "iopub.status.idle": "2023-03-15T08:10:54.357725Z",
     "shell.execute_reply": "2023-03-15T08:10:54.357008Z"
    }
   },
   "outputs": [
    {
     "data": {
      "image/png": "[encoded data removed]",
      "text/plain": [
       "<qutip_qip.circuit.circuit.QubitCircuit at 0x1a33f92f490>"
      ]
     },
     "execution_count": 19,
     "metadata": {},
     "output_type": "execute_result"
    }
   ],
   "source": [
    "def mygate(theta=None):\n",
    "    # We just call the Molmer Sorensen gate as an example.\n",
    "    # If you do not want to run the circuit at the gate matrix level\n",
    "    # (circuit.run), no need for this function,\n",
    "    # otherwise you will need to define this python function\n",
    "    # that returns the Qobj of the gate\n",
    "    from qutip_qip.operations import molmer_sorensen\n",
    "\n",
    "    return molmer_sorensen(theta, 2, targets=[0, 1])\n",
    "\n",
    "\n",
    "circuit = QubitCircuit(2)\n",
    "# no need for this if you don't use circuit.run\n",
    "circuit.user_gates = {\"MYGATE\": mygate}\n",
    "circuit.add_gate(\"X\", targets=1)\n",
    "circuit.add_gate(\"MYGATE\", targets=[0, 1], arg_value=3 * np.pi / 2)\n",
    "circuit.add_gate(\"X\", targets=0)\n",
    "circuit\n",
    "# You may see a warning because MYGATE is not found in defined\n",
    "# LaTeX gate names, just ignore it."
   ]
  },
  {
   "cell_type": "code",
   "execution_count": 20,
   "id": "ffd07f9b",
   "metadata": {
    "execution": {
     "iopub.execute_input": "2023-03-15T08:10:54.361187Z",
     "iopub.status.busy": "2023-03-15T08:10:54.360571Z",
     "iopub.status.idle": "2023-03-15T08:10:54.373817Z",
     "shell.execute_reply": "2023-03-15T08:10:54.373200Z"
    }
   },
   "outputs": [
    {
     "data": {
      "text/latex": [
       "Quantum object: dims = [[2, 2], [1, 1]], shape = (4, 1), type = ket $ \\\\ \\left(\\begin{matrix}-0.707j\\\\0.0\\\\0.0\\\\-0.707\\\\\\end{matrix}\\right)$"
      ],
      "text/plain": [
       "Quantum object: dims = [[2, 2], [1, 1]], shape = (4, 1), type = ket\n",
       "Qobj data =\n",
       "[[ 0.        -0.70710678j]\n",
       " [ 0.        +0.j        ]\n",
       " [ 0.        +0.j        ]\n",
       " [-0.70710678+0.j        ]]"
      ]
     },
     "execution_count": 20,
     "metadata": {},
     "output_type": "execute_result"
    }
   ],
   "source": [
    "circuit.run(basis([2, 2], [0, 0]))"
   ]
  },
  {
   "cell_type": "markdown",
   "id": "d60838c9",
   "metadata": {},
   "source": [
    "The next step is to define a compiler function for it. Since compiling a real MS gate is rather complicated, we here just use a dummy triangular pulse. The goal is to show how to get access to the parameter `theta` during the compiling."
   ]
  },
  {
   "cell_type": "code",
   "execution_count": 21,
   "id": "4c75c592",
   "metadata": {
    "execution": {
     "iopub.execute_input": "2023-03-15T08:10:54.377153Z",
     "iopub.status.busy": "2023-03-15T08:10:54.376724Z",
     "iopub.status.idle": "2023-03-15T08:10:54.383001Z",
     "shell.execute_reply": "2023-03-15T08:10:54.382297Z"
    }
   },
   "outputs": [],
   "source": [
    "def mygate_compiler(gate, args):\n",
    "    targets = gate.targets  # target qubit\n",
    "\n",
    "    theta = gate.arg_value\n",
    "    coeff1 = np.concatenate([np.linspace(0, 10, 50),\n",
    "                             np.linspace(10, 0, 50), [0]]) / 50\n",
    "    coeff2 = np.concatenate([np.linspace(0, 10, 50),\n",
    "                             np.linspace(10, 0, 50), [0]]) / 50\n",
    "    #  save the information in a tuple (pulse_name, coeff)\n",
    "    pulse_info = [\n",
    "        (\"sx\" + str(targets[0]), theta * coeff1),\n",
    "        (\"sx\" + str(targets[1]), theta * coeff2),\n",
    "    ]\n",
    "    tlist = np.linspace(0, 1, len(coeff1))\n",
    "    return [Instruction(gate, tlist, pulse_info)]"
   ]
  },
  {
   "cell_type": "code",
   "execution_count": 22,
   "id": "79f96ce7",
   "metadata": {
    "execution": {
     "iopub.execute_input": "2023-03-15T08:10:54.386163Z",
     "iopub.status.busy": "2023-03-15T08:10:54.385723Z",
     "iopub.status.idle": "2023-03-15T08:10:54.677050Z",
     "shell.execute_reply": "2023-03-15T08:10:54.676455Z"
    }
   },
   "outputs": [
    {
     "data": {
      "image/png": "[encoded data removed]",
      "text/plain": [
       "<Figure size 1200x600 with 4 Axes>"
      ]
     },
     "metadata": {},
     "output_type": "display_data"
    }
   ],
   "source": [
    "gauss_compiler = MyCompiler(processor.num_qubits, processor.params)\n",
    "processor = ModelProcessor(model=MyModel(num_qubits, h_x=1.0,\n",
    "                                         h_y=1.0, g=0.1, t1=300))\n",
    "gauss_compiler.gate_compiler[\"MYGATE\"] = mygate_compiler\n",
    "processor.pulse_mode = \"continuous\"\n",
    "tlist, coeff = processor.load_circuit(circuit, compiler=gauss_compiler)\n",
    "processor.plot_pulses()\n",
    "plt.show()"
   ]
  },
  {
   "cell_type": "markdown",
   "id": "96236e3d",
   "metadata": {},
   "source": [
    "## Customizing the noise\n",
    "Apart from pre-defined noise such as T1, T2 noise and random noise in the control pulse amplitude (see this [guide](https://qutip.org/docs/latest/guide/qip/qip-processor.html), one can also define custom noise. Here we will see two examples of customizing noise, one systematic (pulse-independent) noise and one pulse-dependent noise. \n",
    "\n",
    "To understand how noise is processed, we briefly introduced the data structure of the simulation framework. The control elements are stored as a list of `Pulse` objects in the Processor. In each Pulse contains the idea pulse, the control noise part and the decoherence part. For systematic noise, it is saved under the `Pulse` representation labelled `\"system\"`, which represents the intrinsic dynamics of the quantum system. For pulse-dependent noise, we will add them to their corresponding control `Pulse`. \n",
    "\n",
    "The definition of noise is realized by a subclass of `UserNoise`, including two methods: \n",
    "- the initialization method containing the property of the noise, such as frequency or amplitude.\n",
    "- the method `get_noisy_dynamics` that takes all the control pulse `pulses`, a dummy `Pulse` object representing systematic noise and the dimension of the system (here two qubits `[2,2]`).\n"
   ]
  },
  {
   "cell_type": "code",
   "execution_count": 23,
   "id": "48b7097a",
   "metadata": {
    "execution": {
     "iopub.execute_input": "2023-03-15T08:10:54.681681Z",
     "iopub.status.busy": "2023-03-15T08:10:54.680322Z",
     "iopub.status.idle": "2023-03-15T08:10:54.685478Z",
     "shell.execute_reply": "2023-03-15T08:10:54.684929Z"
    }
   },
   "outputs": [],
   "source": [
    "class Extral_decay(Noise):\n",
    "    def __init__(self, arg):\n",
    "        self.arg = arg\n",
    "        pass\n",
    "\n",
    "    def get_noisy_dynamics(self, dims, pulses, systematic_noise):\n",
    "        pass"
   ]
  },
  {
   "cell_type": "markdown",
   "id": "c8f4576d",
   "metadata": {},
   "source": [
    "### Systematic noise\n",
    "\n",
    "We first show an example of systematic noise. Here, we introduce a ZZ crosstalk noise between neighbouring qubits with a constant strength. It is done in three steps:\n",
    "\n",
    "- Define the noise class.\n",
    "- Initialize the noise object with given coupling strength.\n",
    "- Define the Processor as usual and add the noise to the processor.\n",
    "\n",
    "In the following example, we check the fidelity of the same circuit of two X gates, but now with this additional noise."
   ]
  },
  {
   "cell_type": "code",
   "execution_count": 24,
   "id": "bce261d1",
   "metadata": {
    "execution": {
     "iopub.execute_input": "2023-03-15T08:10:54.689633Z",
     "iopub.status.busy": "2023-03-15T08:10:54.688337Z",
     "iopub.status.idle": "2023-03-15T08:10:54.693160Z",
     "shell.execute_reply": "2023-03-15T08:10:54.692670Z"
    }
   },
   "outputs": [],
   "source": [
    "circuit = QubitCircuit(2)\n",
    "circuit.add_gate(\"X\", targets=1)\n",
    "circuit.add_gate(\"X\", targets=0)"
   ]
  },
  {
   "cell_type": "code",
   "execution_count": 25,
   "id": "cc3f5ed8",
   "metadata": {
    "execution": {
     "iopub.execute_input": "2023-03-15T08:10:54.697328Z",
     "iopub.status.busy": "2023-03-15T08:10:54.696025Z",
     "iopub.status.idle": "2023-03-15T08:10:54.701983Z",
     "shell.execute_reply": "2023-03-15T08:10:54.701443Z"
    }
   },
   "outputs": [],
   "source": [
    "class ZZ_crosstalk(Noise):\n",
    "    def __init__(self, strength):\n",
    "        self.strength = strength\n",
    "\n",
    "    def get_noisy_dynamics(self, dims, pulses, systematic_noise):\n",
    "        zz_operator = tensor([sigmaz(), sigmaz()])\n",
    "        for i in range(len(dims) - 1):\n",
    "            systematic_noise.add_control_noise(\n",
    "                self.strength * zz_operator, targets=[i, i + 1],\n",
    "                tlist=None, coeff=True\n",
    "            )  # constant, always 1\n",
    "\n",
    "\n",
    "crosstalk_noise = ZZ_crosstalk(strength=1.0)"
   ]
  },
  {
   "cell_type": "code",
   "execution_count": 26,
   "id": "5c58e8c6",
   "metadata": {
    "execution": {
     "iopub.execute_input": "2023-03-15T08:10:54.705211Z",
     "iopub.status.busy": "2023-03-15T08:10:54.704754Z",
     "iopub.status.idle": "2023-03-15T08:10:54.744121Z",
     "shell.execute_reply": "2023-03-15T08:10:54.743500Z"
    }
   },
   "outputs": [
    {
     "name": "stdout",
     "output_type": "stream",
     "text": [
      "Final fidelity with ZZ crosstalk: 0.9902915803130111\n"
     ]
    },
    {
     "data": {
      "text/plain": [
       "[<matplotlib.lines.Line2D at 0x1a341e32550>]"
      ]
     },
     "execution_count": 26,
     "metadata": {},
     "output_type": "execute_result"
    },
    {
     "data": {
      "image/png": "[encoded data removed]",
      "text/plain": [
       "<Figure size 500x300 with 2 Axes>"
      ]
     },
     "metadata": {},
     "output_type": "display_data"
    },
    {
     "data": {
      "image/png": "[encoded data removed]",
      "text/plain": [
       "<Figure size 500x300 with 2 Axes>"
      ]
     },
     "metadata": {},
     "output_type": "display_data"
    }
   ],
   "source": [
    "processor = ModelProcessor(model=MyModel(num_qubits, h_x=1.0, h_y=1.0, g=0.1))\n",
    "processor.add_noise(crosstalk_noise)  # The noise is added to the processor\n",
    "gauss_compiler = MyCompiler(processor.num_qubits, processor.params)\n",
    "tlist, coeff = processor.load_circuit(circuit, compiler=gauss_compiler)\n",
    "\n",
    "result = processor.run_state(init_state=basis([2, 2], [0, 0]))\n",
    "print(\n",
    "    \"Final fidelity with ZZ crosstalk:\",\n",
    "    fidelity(result.states[-1], basis([2, 2], [1, 1])),\n",
    ")\n",
    "# Plot the ideal pulse\n",
    "fig1, axis1 = processor.plot_pulses(\n",
    "    title=\"Original control amplitude\", figsize=(5,3),\n",
    "    use_control_latex=False)\n",
    "\n",
    "# Plot the noisy pulse\n",
    "qobjevo, _ = processor.get_qobjevo(noisy=True)\n",
    "noisy_coeff = qobjevo.to_list()[1][1] + qobjevo.to_list()[2][1]\n",
    "fig2, axis2 = processor.plot_pulses(\n",
    "    title=\"Noisy control amplitude\", figsize=(5,3),\n",
    "    use_control_latex=False)\n",
    "axis2[0].step(qobjevo.tlist, noisy_coeff)"
   ]
  },
  {
   "cell_type": "markdown",
   "id": "6ee82631",
   "metadata": {},
   "source": [
    "### Pulse dependent noise\n",
    "In this second example, we demonstrate how to add an additional amplitude damping channel on the qubits. The amplitude of this decay is linearly dependent on the control pulse \"sx\", i.e. whenever the pulse \"sx\" is turned on, the decoherence is also turned on. The corresponding annihilation operator has a coefficient proportional to the control pulse amplitude. This noise can be added on top of the default T1, T2 noise."
   ]
  },
  {
   "cell_type": "code",
   "execution_count": 27,
   "id": "35b24ecc",
   "metadata": {
    "execution": {
     "iopub.execute_input": "2023-03-15T08:10:54.747200Z",
     "iopub.status.busy": "2023-03-15T08:10:54.746850Z",
     "iopub.status.idle": "2023-03-15T08:10:54.752960Z",
     "shell.execute_reply": "2023-03-15T08:10:54.752343Z"
    }
   },
   "outputs": [],
   "source": [
    "class Extral_decay_2(Noise):\n",
    "    def __init__(self, ratio):\n",
    "        self.ratio = ratio\n",
    "\n",
    "    def get_noisy_dynamics(self, dims, pulses, systematic_noise):\n",
    "        from qutip import destroy\n",
    "\n",
    "        op = destroy(2)\n",
    "        for pulse in pulses:  # iterate for all pulses\n",
    "            if (\n",
    "                \"sx\" in pulse.label and pulse.coeff is not None\n",
    "            ):  # if it is a sigma-x pulse and is not empty\n",
    "                pulse.add_lindblad_noise(\n",
    "                    op,\n",
    "                    targets=pulse.targets,\n",
    "                    tlist=pulse.tlist,\n",
    "                    coeff=self.ratio * pulse.coeff,\n",
    "                )\n",
    "                # One can also use add_control_noise here\n",
    "                # to add addtional hamiltonian as noise (see next example).\n",
    "\n",
    "\n",
    "extral_decay = Extral_decay_2(0.3)"
   ]
  },
  {
   "cell_type": "code",
   "execution_count": 28,
   "id": "089e46d0",
   "metadata": {
    "execution": {
     "iopub.execute_input": "2023-03-15T08:10:54.756057Z",
     "iopub.status.busy": "2023-03-15T08:10:54.755737Z",
     "iopub.status.idle": "2023-03-15T08:10:54.826832Z",
     "shell.execute_reply": "2023-03-15T08:10:54.825713Z"
    }
   },
   "outputs": [
    {
     "name": "stdout",
     "output_type": "stream",
     "text": [
      "Final fidelity with pulse dependent decoherence: 0.994153556370074\n"
     ]
    }
   ],
   "source": [
    "processor = ModelProcessor(model=MyModel(num_qubits, h_x=1.0, h_y=1.0, g=0.1))\n",
    "processor.add_noise(extral_decay)\n",
    "gauss_compiler = MyCompiler(processor.num_qubits, processor.params)\n",
    "tlist, coeff = processor.load_circuit(circuit, compiler=gauss_compiler)\n",
    "\n",
    "result = processor.run_state(init_state=basis([2, 2], [0, 0]))\n",
    "print(\n",
    "    \"Final fidelity with pulse dependent decoherence:\",\n",
    "    fidelity(result.states[-1], basis([2, 2], [1, 1])),\n",
    ")"
   ]
  },
  {
   "cell_type": "code",
   "execution_count": 29,
   "id": "893d16c1",
   "metadata": {
    "execution": {
     "iopub.execute_input": "2023-03-15T08:10:54.829997Z",
     "iopub.status.busy": "2023-03-15T08:10:54.829498Z",
     "iopub.status.idle": "2023-03-15T08:10:54.833386Z",
     "shell.execute_reply": "2023-03-15T08:10:54.832866Z"
    }
   },
   "outputs": [
    {
     "name": "stdout",
     "output_type": "stream",
     "text": [
      "0.3.0\n",
      "\n",
      "QuTiP: Quantum Toolbox in Python\n",
      "================================\n",
      "Copyright (c) QuTiP team 2011 and later.\n",
      "Current admin team: Alexander Pitchford, Nathan Shammah, Shahnawaz Ahmed, Neill Lambert, Eric Giguère, Boxi Li, Jake Lishman, Simon Cross and Asier Galicia.\n",
      "Board members: Daniel Burgarth, Robert Johansson, Anton F. Kockum, Franco Nori and Will Zeng.\n",
      "Original developers: R. J. Johansson & P. D. Nation.\n",
      "Previous lead developers: Chris Granade & A. Grimsmo.\n",
      "Currently developed through wide collaboration. See https://github.com/qutip for details.\n",
      "\n",
      "QuTiP Version:      4.7.2\n",
      "Numpy Version:      1.25.1\n",
      "Scipy Version:      1.11.1\n",
      "Cython Version:     None\n",
      "Matplotlib Version: 3.7.2\n",
      "Python Version:     3.11.5\n",
      "Number of CPUs:     8\n",
      "BLAS Info:          OPENBLAS\n",
      "OPENMP Installed:   False\n",
      "INTEL MKL Ext:      False\n",
      "Platform Info:      Windows (AMD64)\n",
      "Installation path:  C:\\Users\\XPS13-9360\\AppData\\Local\\Packages\\PythonSoftwareFoundation.Python.3.11_qbz5n2kfra8p0\\LocalCache\\local-packages\\Python311\\site-packages\\qutip\n",
      "================================================================================\n",
      "Please cite QuTiP in your publication.\n",
      "================================================================================\n",
      "For your convenience a bibtex reference can be easily generated using `qutip.cite()`\n"
     ]
    }
   ],
   "source": [
    "print(qutip_qip.version.version)\n",
    "about()"
   ]
  }
 ],
 "metadata": {
  "jupytext": {
   "cell_metadata_filter": "-all",
   "notebook_metadata_filter": "-jupytext.cell_metadata_filter,-jupytext.notebook_metadata_filter"
  },
  "kernelspec": {
   "display_name": "Python 3 (ipykernel)",
   "language": "python",
   "name": "python3"
  },
  "language_info": {
   "codemirror_mode": {
    "name": "ipython",
    "version": 3
   },
   "file_extension": ".py",
   "mimetype": "text/x-python",
   "name": "python",
   "nbconvert_exporter": "python",
   "pygments_lexer": "ipython3",
   "version": "3.11.5"
  }
 },
 "nbformat": 4,
 "nbformat_minor": 5
}
