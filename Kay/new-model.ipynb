{
 "cells": [
  {
   "cell_type": "code",
   "execution_count": 12,
   "metadata": {},
   "outputs": [],
   "source": [
    "import matplotlib.pyplot as plt\n",
    "import numpy as np\n",
    "from qutip import basis, fidelity, sigmax, sigmay, sigmaz, tensor, about\n",
    "from qutip_qip.circuit import QubitCircuit, Gate\n",
    "from qutip_qip.compiler import GateCompiler, Instruction, SpinChainCompiler\n",
    "from qutip_qip.device import Model, ModelProcessor\n",
    "from qutip_qip.noise import Noise\n",
    "import qutip_qip"
   ]
  },
  {
   "cell_type": "markdown",
   "metadata": {},
   "source": [
    "## Customizing the Hamiltonian model\n",
    "\n",
    "Want sigma x and sigma y control"
   ]
  },
  {
   "cell_type": "code",
   "execution_count": 36,
   "metadata": {},
   "outputs": [],
   "source": [
    "class MyModel(Model):\n",
    "    \"\"\"A custom Hamiltonian model with sigmax and sigmay control.\"\"\"\n",
    "\n",
    "    def get_control(self, label):\n",
    "        \"\"\"\n",
    "        Get an available control Hamiltonian.\n",
    "        For instance, sigmax control on the zeroth\n",
    "        qubits is labeled \"sx0\".\n",
    "\n",
    "        Args:\n",
    "            label (str): The label of the Hamiltonian\n",
    "\n",
    "        Returns:\n",
    "            The Hamiltonian and target qubits as a tuple\n",
    "            (qutip.Qobj, list).\n",
    "        \"\"\"\n",
    "        targets = int(label[2:])\n",
    "        if label[:2] == \"sx\":\n",
    "            return 2 * np.pi * sigmax() / 2, [targets]\n",
    "        elif label[:2] == \"sy\":\n",
    "            return 2 * np.pi * sigmay() / 2, [targets]\n",
    "        else:\n",
    "            raise NotImplementedError(\"Unknown control.\")\n"
   ]
  },
  {
   "cell_type": "code",
   "execution_count": 37,
   "metadata": {},
   "outputs": [],
   "source": [
    "num_qubits = 2\n",
    "processor = ModelProcessor(model=MyModel(num_qubits))"
   ]
  },
  {
   "cell_type": "code",
   "execution_count": 38,
   "metadata": {},
   "outputs": [
    {
     "data": {
      "text/plain": [
       "<qutip.qip.circuit.QubitCircuit at 0x23c3d1d4850>"
      ]
     },
     "execution_count": 38,
     "metadata": {},
     "output_type": "execute_result"
    }
   ],
   "source": [
    "circuit = QubitCircuit(num_qubits)\n",
    "circuit.add_gate(\"X\", targets=1)\n",
    "circuit.add_gate(\"X\", targets=0)\n",
    "circuit"
   ]
  },
  {
   "cell_type": "code",
   "execution_count": 39,
   "metadata": {},
   "outputs": [],
   "source": [
    "initTime = 0\n",
    "finalTime = 100e-9 # 100ns\n",
    "samplingRate = 5898.24e6 # 5.89824 GS/s\n",
    "\n",
    "VStd = 0.01\n",
    "phaseStd = np.sqrt(2) / 180 * np.pi\n",
    "detuningStd = 52769\n",
    "\n",
    "omega = 20e6 # 20MHz\n",
    "VNaught = 1\n",
    "hbar = 1\n",
    "phiNaught = 0\n",
    "aNaught = 25 / 46\n",
    "\n",
    "def operator(t, y):\n",
    "    V = VNaught + np.random.normal(scale=VStd)\n",
    "    phi = phiNaught + np.random.normal(scale=phaseStd)\n",
    "    I = np.cos(phi)\n",
    "    Q = np.sin(phi)\n",
    "\n",
    "    dwt = np.random.normal(scale=detuningStd) * t\n",
    "    s = aNaught - (1 - aNaught) * np.cos(2 * np.pi * t / finalTime)\n",
    "    H = omega * np.pi * V * s * ((-I * np.cos(dwt) + Q * np.sin(dwt)) * sigmaX + (I * np.sin(dwt) - Q * np.cos(dwt)) * sigmaY)\n",
    "    return H/(1j* hbar) * y"
   ]
  },
  {
   "cell_type": "code",
   "execution_count": 41,
   "metadata": {},
   "outputs": [],
   "source": [
    "def mygate_compiler(gate, args):\n",
    "    targets = gate.targets  # target qubit\n",
    "\n",
    "    theta = gate.arg_value\n",
    "    coeff1 = np.concatenate([np.linspace(0, 10, 50),\n",
    "                             np.linspace(10, 0, 50), [0]]) / 50\n",
    "    coeff2 = np.concatenate([np.linspace(0, 10, 50),\n",
    "                             np.linspace(10, 0, 50), [0]]) / 50\n",
    "    #  save the information in a tuple (pulse_name, coeff)\n",
    "    pulse_info = [\n",
    "        (\"sx\" + str(targets[0]), theta * coeff1),\n",
    "        (\"sx\" + str(targets[1]), theta * coeff2),\n",
    "    ]\n",
    "    tlist = np.linspace(0, 1, len(coeff1))\n",
    "    return [Instruction(gate, tlist, pulse_info)]"
   ]
  },
  {
   "cell_type": "code",
   "execution_count": null,
   "metadata": {},
   "outputs": [],
   "source": []
  },
  {
   "cell_type": "code",
   "execution_count": 42,
   "metadata": {},
   "outputs": [
    {
     "ename": "AttributeError",
     "evalue": "'int' object has no attribute 'targets'",
     "output_type": "error",
     "traceback": [
      "\u001b[1;31m---------------------------------------------------------------------------\u001b[0m",
      "\u001b[1;31mAttributeError\u001b[0m                            Traceback (most recent call last)",
      "Cell \u001b[1;32mIn[42], line 6\u001b[0m\n\u001b[0;32m      2\u001b[0m processor\u001b[39m.\u001b[39mnative_gates \u001b[39m=\u001b[39m [\u001b[39m\"\u001b[39m\u001b[39mISWAP\u001b[39m\u001b[39m\"\u001b[39m, \u001b[39m\"\u001b[39m\u001b[39mRX\u001b[39m\u001b[39m\"\u001b[39m, \u001b[39m\"\u001b[39m\u001b[39mRZ\u001b[39m\u001b[39m\"\u001b[39m]\n\u001b[0;32m      4\u001b[0m \u001b[39m# processor.num_qubits, processor.params\u001b[39;00m\n\u001b[0;32m      5\u001b[0m \u001b[39m# access directly the information in the model.\u001b[39;00m\n\u001b[1;32m----> 6\u001b[0m compiler \u001b[39m=\u001b[39m mygate_compiler(processor\u001b[39m.\u001b[39;49mnum_qubits, processor\u001b[39m.\u001b[39;49mparams)\n\u001b[0;32m      7\u001b[0m processor\u001b[39m.\u001b[39mload_circuit(circuit, compiler\u001b[39m=\u001b[39mcompiler)\n\u001b[0;32m      8\u001b[0m result \u001b[39m=\u001b[39m processor\u001b[39m.\u001b[39mrun_state(init_state\u001b[39m=\u001b[39mbasis([\u001b[39m2\u001b[39m, \u001b[39m2\u001b[39m], [\u001b[39m0\u001b[39m, \u001b[39m0\u001b[39m]))\n",
      "Cell \u001b[1;32mIn[41], line 2\u001b[0m, in \u001b[0;36mmygate_compiler\u001b[1;34m(gate, args)\u001b[0m\n\u001b[0;32m      1\u001b[0m \u001b[39mdef\u001b[39;00m \u001b[39mmygate_compiler\u001b[39m(gate, args):\n\u001b[1;32m----> 2\u001b[0m     targets \u001b[39m=\u001b[39m gate\u001b[39m.\u001b[39;49mtargets  \u001b[39m# target qubit\u001b[39;00m\n\u001b[0;32m      4\u001b[0m     theta \u001b[39m=\u001b[39m gate\u001b[39m.\u001b[39marg_value\n\u001b[0;32m      5\u001b[0m     coeff1 \u001b[39m=\u001b[39m np\u001b[39m.\u001b[39mconcatenate([np\u001b[39m.\u001b[39mlinspace(\u001b[39m0\u001b[39m, \u001b[39m10\u001b[39m, \u001b[39m50\u001b[39m),\n\u001b[0;32m      6\u001b[0m                              np\u001b[39m.\u001b[39mlinspace(\u001b[39m10\u001b[39m, \u001b[39m0\u001b[39m, \u001b[39m50\u001b[39m), [\u001b[39m0\u001b[39m]]) \u001b[39m/\u001b[39m \u001b[39m50\u001b[39m\n",
      "\u001b[1;31mAttributeError\u001b[0m: 'int' object has no attribute 'targets'"
     ]
    }
   ],
   "source": [
    "processor = ModelProcessor(model=MyModel(num_qubits, h_x=1.0, h_z=1.0, g=0.1))\n",
    "processor.native_gates = [\"ISWAP\", \"RX\", \"RZ\"]\n",
    "\n",
    "# processor.num_qubits, processor.params\n",
    "# access directly the information in the model.\n",
    "compiler = mygate_compiler(processor.num_qubits, processor.params)\n",
    "processor.load_circuit(circuit, compiler=compiler)\n",
    "result = processor.run_state(init_state=basis([2, 2], [0, 0]))\n",
    "result.states[-1]"
   ]
  },
  {
   "cell_type": "code",
   "execution_count": null,
   "metadata": {},
   "outputs": [],
   "source": []
  }
 ],
 "metadata": {
  "kernelspec": {
   "display_name": "Python 3",
   "language": "python",
   "name": "python3"
  },
  "language_info": {
   "codemirror_mode": {
    "name": "ipython",
    "version": 3
   },
   "file_extension": ".py",
   "mimetype": "text/x-python",
   "name": "python",
   "nbconvert_exporter": "python",
   "pygments_lexer": "ipython3",
   "version": "3.11.4"
  },
  "orig_nbformat": 4
 },
 "nbformat": 4,
 "nbformat_minor": 2
}
