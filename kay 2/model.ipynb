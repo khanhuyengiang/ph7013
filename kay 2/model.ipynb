{
 "cells": [
  {
   "cell_type": "code",
   "execution_count": 9,
   "metadata": {},
   "outputs": [],
   "source": [
    "import matplotlib.pyplot as plt\n",
    "import numpy as np\n",
    "import qutip_qip\n",
    "from qutip import (Qobj, Options, basis, fock_dm, qeye, sigmax, sigmay,\n",
    "                   sigmaz, tensor)\n",
    "from qutip_qip.circuit import QubitCircuit\n",
    "from qutip_qip.compiler import GateCompiler, Instruction\n",
    "from qutip_qip.device import Model, ModelProcessor\n",
    "from qutip_qip.noise import Noise\n",
    "from qutip_qip.operations import Gate\n",
    "from scipy.optimize import curve_fit"
   ]
  },
  {
   "cell_type": "code",
   "execution_count": 28,
   "metadata": {},
   "outputs": [
    {
     "ename": "FileNotFoundError",
     "evalue": "[Errno 2] No such file or directory: 'rename.py'",
     "output_type": "error",
     "traceback": [
      "\u001b[1;31m---------------------------------------------------------------------------\u001b[0m",
      "\u001b[1;31mFileNotFoundError\u001b[0m                         Traceback (most recent call last)",
      "Cell \u001b[1;32mIn[28], line 1\u001b[0m\n\u001b[1;32m----> 1\u001b[0m \u001b[39mwith\u001b[39;00m \u001b[39mopen\u001b[39;49m(\u001b[39m\"\u001b[39;49m\u001b[39mrename.py\u001b[39;49m\u001b[39m\"\u001b[39;49m) \u001b[39mas\u001b[39;00m f:\n\u001b[0;32m      2\u001b[0m     exec(f\u001b[39m.\u001b[39mread())\n",
      "File \u001b[1;32m~\\AppData\\Local\\Packages\\PythonSoftwareFoundation.Python.3.11_qbz5n2kfra8p0\\LocalCache\\local-packages\\Python311\\site-packages\\IPython\\core\\interactiveshell.py:284\u001b[0m, in \u001b[0;36m_modified_open\u001b[1;34m(file, *args, **kwargs)\u001b[0m\n\u001b[0;32m    277\u001b[0m \u001b[39mif\u001b[39;00m file \u001b[39min\u001b[39;00m {\u001b[39m0\u001b[39m, \u001b[39m1\u001b[39m, \u001b[39m2\u001b[39m}:\n\u001b[0;32m    278\u001b[0m     \u001b[39mraise\u001b[39;00m \u001b[39mValueError\u001b[39;00m(\n\u001b[0;32m    279\u001b[0m         \u001b[39mf\u001b[39m\u001b[39m\"\u001b[39m\u001b[39mIPython won\u001b[39m\u001b[39m'\u001b[39m\u001b[39mt let you open fd=\u001b[39m\u001b[39m{\u001b[39;00mfile\u001b[39m}\u001b[39;00m\u001b[39m by default \u001b[39m\u001b[39m\"\u001b[39m\n\u001b[0;32m    280\u001b[0m         \u001b[39m\"\u001b[39m\u001b[39mas it is likely to crash IPython. If you know what you are doing, \u001b[39m\u001b[39m\"\u001b[39m\n\u001b[0;32m    281\u001b[0m         \u001b[39m\"\u001b[39m\u001b[39myou can use builtins\u001b[39m\u001b[39m'\u001b[39m\u001b[39m open.\u001b[39m\u001b[39m\"\u001b[39m\n\u001b[0;32m    282\u001b[0m     )\n\u001b[1;32m--> 284\u001b[0m \u001b[39mreturn\u001b[39;00m io_open(file, \u001b[39m*\u001b[39;49margs, \u001b[39m*\u001b[39;49m\u001b[39m*\u001b[39;49mkwargs)\n",
      "\u001b[1;31mFileNotFoundError\u001b[0m: [Errno 2] No such file or directory: 'rename.py'"
     ]
    }
   ],
   "source": [
    "with open(\"rename.py\") as f:\n",
    "    exec(f.read())"
   ]
  },
  {
   "cell_type": "code",
   "execution_count": 30,
   "metadata": {},
   "outputs": [
    {
     "ename": "TypeError",
     "evalue": "'int' object is not subscriptable",
     "output_type": "error",
     "traceback": [
      "\u001b[1;31m---------------------------------------------------------------------------\u001b[0m",
      "\u001b[1;31mTypeError\u001b[0m                                 Traceback (most recent call last)",
      "Cell \u001b[1;32mIn[30], line 66\u001b[0m\n\u001b[0;32m     59\u001b[0m \u001b[39m# The full simulation is defined in the commented lines below.\u001b[39;00m\n\u001b[0;32m     60\u001b[0m \n\u001b[0;32m     61\u001b[0m \u001b[39m# from joblib import Parallel, delayed  # for parallel simulations\u001b[39;00m\n\u001b[0;32m     62\u001b[0m \u001b[39m# num_sample = 1600\u001b[39;00m\n\u001b[0;32m     63\u001b[0m \u001b[39m# num_gates_list = [250, 500, 750, 1000, 1250, 1500]\u001b[39;00m\n\u001b[0;32m     65\u001b[0m \u001b[39mfor\u001b[39;00m num_gates \u001b[39min\u001b[39;00m num_gates_list:\n\u001b[1;32m---> 66\u001b[0m     expect \u001b[39m=\u001b[39m [single_crosstalk_simulation(num_gates)\n\u001b[0;32m     67\u001b[0m               \u001b[39mfor\u001b[39;49;00m i \u001b[39min\u001b[39;49;00m \u001b[39mrange\u001b[39;49m(num_sample)]\n\u001b[0;32m     68\u001b[0m     fidelity\u001b[39m.\u001b[39mappend(np\u001b[39m.\u001b[39mmean(expect))\n\u001b[0;32m     69\u001b[0m     fidelity_error\u001b[39m.\u001b[39mappend(np\u001b[39m.\u001b[39mstd(expect) \u001b[39m/\u001b[39m np\u001b[39m.\u001b[39msqrt(num_sample))\n",
      "Cell \u001b[1;32mIn[30], line 66\u001b[0m, in \u001b[0;36m<listcomp>\u001b[1;34m(.0)\u001b[0m\n\u001b[0;32m     59\u001b[0m \u001b[39m# The full simulation is defined in the commented lines below.\u001b[39;00m\n\u001b[0;32m     60\u001b[0m \n\u001b[0;32m     61\u001b[0m \u001b[39m# from joblib import Parallel, delayed  # for parallel simulations\u001b[39;00m\n\u001b[0;32m     62\u001b[0m \u001b[39m# num_sample = 1600\u001b[39;00m\n\u001b[0;32m     63\u001b[0m \u001b[39m# num_gates_list = [250, 500, 750, 1000, 1250, 1500]\u001b[39;00m\n\u001b[0;32m     65\u001b[0m \u001b[39mfor\u001b[39;00m num_gates \u001b[39min\u001b[39;00m num_gates_list:\n\u001b[1;32m---> 66\u001b[0m     expect \u001b[39m=\u001b[39m [single_crosstalk_simulation(num_gates)\n\u001b[0;32m     67\u001b[0m               \u001b[39mfor\u001b[39;00m i \u001b[39min\u001b[39;00m \u001b[39mrange\u001b[39m(num_sample)]\n\u001b[0;32m     68\u001b[0m     fidelity\u001b[39m.\u001b[39mappend(np\u001b[39m.\u001b[39mmean(expect))\n\u001b[0;32m     69\u001b[0m     fidelity_error\u001b[39m.\u001b[39mappend(np\u001b[39m.\u001b[39mstd(expect) \u001b[39m/\u001b[39m np\u001b[39m.\u001b[39msqrt(num_sample))\n",
      "Cell \u001b[1;32mIn[30], line 43\u001b[0m, in \u001b[0;36msingle_crosstalk_simulation\u001b[1;34m(num_gates)\u001b[0m\n\u001b[0;32m     40\u001b[0m e_ops \u001b[39m=\u001b[39m [tensor([qeye(\u001b[39m2\u001b[39m), fock_dm(\u001b[39m2\u001b[39m)])]  \u001b[39m# observable\u001b[39;00m\n\u001b[0;32m     42\u001b[0m \u001b[39m# compute results of the run using a solver of choice\u001b[39;00m\n\u001b[1;32m---> 43\u001b[0m result \u001b[39m=\u001b[39m myprocessor\u001b[39m.\u001b[39;49mrun_state(\n\u001b[0;32m     44\u001b[0m     init_state, solver\u001b[39m=\u001b[39;49m\u001b[39m\"\u001b[39;49m\u001b[39mmesolve\u001b[39;49m\u001b[39m\"\u001b[39;49m, options\u001b[39m=\u001b[39;49moptions, e_ops\u001b[39m=\u001b[39;49me_ops\n\u001b[0;32m     45\u001b[0m )\n\u001b[0;32m     46\u001b[0m \u001b[39m# measured expectation value at the end\u001b[39;00m\n\u001b[0;32m     47\u001b[0m result \u001b[39m=\u001b[39m result\u001b[39m.\u001b[39mexpect[\u001b[39m0\u001b[39m][\u001b[39m-\u001b[39m\u001b[39m1\u001b[39m]\n",
      "File \u001b[1;32m~\\AppData\\Local\\Packages\\PythonSoftwareFoundation.Python.3.11_qbz5n2kfra8p0\\LocalCache\\local-packages\\Python311\\site-packages\\qutip_qip\\device\\modelprocessor.py:120\u001b[0m, in \u001b[0;36mModelProcessor.run_state\u001b[1;34m(self, init_state, analytical, qc, states, **kwargs)\u001b[0m\n\u001b[0;32m    118\u001b[0m \u001b[39mif\u001b[39;00m qc \u001b[39mis\u001b[39;00m \u001b[39mnot\u001b[39;00m \u001b[39mNone\u001b[39;00m:\n\u001b[0;32m    119\u001b[0m     \u001b[39mself\u001b[39m\u001b[39m.\u001b[39mload_circuit(qc)\n\u001b[1;32m--> 120\u001b[0m \u001b[39mreturn\u001b[39;00m \u001b[39msuper\u001b[39;49m(ModelProcessor, \u001b[39mself\u001b[39;49m)\u001b[39m.\u001b[39;49mrun_state(\n\u001b[0;32m    121\u001b[0m     init_state\u001b[39m=\u001b[39;49minit_state,\n\u001b[0;32m    122\u001b[0m     analytical\u001b[39m=\u001b[39;49manalytical,\n\u001b[0;32m    123\u001b[0m     states\u001b[39m=\u001b[39;49mstates,\n\u001b[0;32m    124\u001b[0m     \u001b[39m*\u001b[39;49m\u001b[39m*\u001b[39;49mkwargs\n\u001b[0;32m    125\u001b[0m )\n",
      "File \u001b[1;32m~\\AppData\\Local\\Packages\\PythonSoftwareFoundation.Python.3.11_qbz5n2kfra8p0\\LocalCache\\local-packages\\Python311\\site-packages\\qutip_qip\\device\\processor.py:1180\u001b[0m, in \u001b[0;36mProcessor.run_state\u001b[1;34m(self, init_state, analytical, states, noisy, solver, **kwargs)\u001b[0m\n\u001b[0;32m   1176\u001b[0m     noisy_qobjevo, sys_c_ops \u001b[39m=\u001b[39m \u001b[39mself\u001b[39m\u001b[39m.\u001b[39mget_qobjevo(\n\u001b[0;32m   1177\u001b[0m         args\u001b[39m=\u001b[39mkwargs[\u001b[39m\"\u001b[39m\u001b[39margs\u001b[39m\u001b[39m\"\u001b[39m], noisy\u001b[39m=\u001b[39mnoisy\n\u001b[0;32m   1178\u001b[0m     )\n\u001b[0;32m   1179\u001b[0m \u001b[39melse\u001b[39;00m:\n\u001b[1;32m-> 1180\u001b[0m     noisy_qobjevo, sys_c_ops \u001b[39m=\u001b[39m \u001b[39mself\u001b[39;49m\u001b[39m.\u001b[39;49mget_qobjevo(noisy\u001b[39m=\u001b[39;49mnoisy)\n\u001b[0;32m   1182\u001b[0m \u001b[39m# add collpase operators into kwargs\u001b[39;00m\n\u001b[0;32m   1183\u001b[0m \u001b[39mif\u001b[39;00m \u001b[39m\"\u001b[39m\u001b[39mc_ops\u001b[39m\u001b[39m\"\u001b[39m \u001b[39min\u001b[39;00m kwargs:\n",
      "File \u001b[1;32m~\\AppData\\Local\\Packages\\PythonSoftwareFoundation.Python.3.11_qbz5n2kfra8p0\\LocalCache\\local-packages\\Python311\\site-packages\\qutip_qip\\device\\processor.py:988\u001b[0m, in \u001b[0;36mProcessor.get_qobjevo\u001b[1;34m(self, args, noisy)\u001b[0m\n\u001b[0;32m    986\u001b[0m     dynamics \u001b[39m=\u001b[39m \u001b[39mself\u001b[39m\u001b[39m.\u001b[39mpulses\n\u001b[0;32m    987\u001b[0m \u001b[39melse\u001b[39;00m:\n\u001b[1;32m--> 988\u001b[0m     dynamics \u001b[39m=\u001b[39m \u001b[39mself\u001b[39;49m\u001b[39m.\u001b[39;49mget_noisy_pulses(device_noise\u001b[39m=\u001b[39;49m\u001b[39mTrue\u001b[39;49;00m, drift\u001b[39m=\u001b[39;49m\u001b[39mTrue\u001b[39;49;00m)\n\u001b[0;32m    990\u001b[0m qu_list \u001b[39m=\u001b[39m []\n\u001b[0;32m    991\u001b[0m c_ops \u001b[39m=\u001b[39m []\n",
      "File \u001b[1;32m~\\AppData\\Local\\Packages\\PythonSoftwareFoundation.Python.3.11_qbz5n2kfra8p0\\LocalCache\\local-packages\\Python311\\site-packages\\qutip_qip\\device\\processor.py:939\u001b[0m, in \u001b[0;36mProcessor.get_noisy_pulses\u001b[1;34m(self, device_noise, drift)\u001b[0m\n\u001b[0;32m    917\u001b[0m \u001b[39m\u001b[39m\u001b[39m\"\"\"\u001b[39;00m\n\u001b[0;32m    918\u001b[0m \u001b[39mIt takes the pulses defined in the `Processor` and\u001b[39;00m\n\u001b[0;32m    919\u001b[0m \u001b[39madds noise according to `Processor.noise`. It does not modify the\u001b[39;00m\n\u001b[1;32m   (...)\u001b[0m\n\u001b[0;32m    936\u001b[0m \u001b[39m    A list of noisy pulses.\u001b[39;00m\n\u001b[0;32m    937\u001b[0m \u001b[39m\"\"\"\u001b[39;00m\n\u001b[0;32m    938\u001b[0m pulses \u001b[39m=\u001b[39m deepcopy(\u001b[39mself\u001b[39m\u001b[39m.\u001b[39mpulses)\n\u001b[1;32m--> 939\u001b[0m noisy_pulses \u001b[39m=\u001b[39m process_noise(\n\u001b[0;32m    940\u001b[0m     pulses,\n\u001b[0;32m    941\u001b[0m     \u001b[39mself\u001b[39;49m\u001b[39m.\u001b[39;49mnoise,\n\u001b[0;32m    942\u001b[0m     \u001b[39mself\u001b[39;49m\u001b[39m.\u001b[39;49mdims,\n\u001b[0;32m    943\u001b[0m     t1\u001b[39m=\u001b[39;49m\u001b[39mself\u001b[39;49m\u001b[39m.\u001b[39;49mt1,\n\u001b[0;32m    944\u001b[0m     t2\u001b[39m=\u001b[39;49m\u001b[39mself\u001b[39;49m\u001b[39m.\u001b[39;49mt2,\n\u001b[0;32m    945\u001b[0m     device_noise\u001b[39m=\u001b[39;49mdevice_noise,\n\u001b[0;32m    946\u001b[0m     spline_kind\u001b[39m=\u001b[39;49m\u001b[39mself\u001b[39;49m\u001b[39m.\u001b[39;49mspline_kind,\n\u001b[0;32m    947\u001b[0m )\n\u001b[0;32m    948\u001b[0m \u001b[39mif\u001b[39;00m drift:\n\u001b[0;32m    949\u001b[0m     drift_obj \u001b[39m=\u001b[39m \u001b[39mself\u001b[39m\u001b[39m.\u001b[39m_get_drift_obj()\n",
      "File \u001b[1;32m~\\AppData\\Local\\Packages\\PythonSoftwareFoundation.Python.3.11_qbz5n2kfra8p0\\LocalCache\\local-packages\\Python311\\site-packages\\qutip_qip\\noise.py:78\u001b[0m, in \u001b[0;36mprocess_noise\u001b[1;34m(pulses, noise_list, dims, t1, t2, device_noise, spline_kind)\u001b[0m\n\u001b[0;32m     76\u001b[0m         \u001b[39mpass\u001b[39;00m\n\u001b[0;32m     77\u001b[0m     \u001b[39melse\u001b[39;00m:\n\u001b[1;32m---> 78\u001b[0m         noisy_pulses, systematic_noise \u001b[39m=\u001b[39m noise\u001b[39m.\u001b[39;49m_apply_noise(\n\u001b[0;32m     79\u001b[0m             dims\u001b[39m=\u001b[39;49mdims,\n\u001b[0;32m     80\u001b[0m             pulses\u001b[39m=\u001b[39;49mnoisy_pulses,\n\u001b[0;32m     81\u001b[0m             systematic_noise\u001b[39m=\u001b[39;49msystematic_noise,\n\u001b[0;32m     82\u001b[0m         )\n\u001b[0;32m     84\u001b[0m \u001b[39mif\u001b[39;00m device_noise:\n\u001b[0;32m     85\u001b[0m     \u001b[39mreturn\u001b[39;00m noisy_pulses \u001b[39m+\u001b[39m [systematic_noise]\n",
      "File \u001b[1;32m~\\AppData\\Local\\Packages\\PythonSoftwareFoundation.Python.3.11_qbz5n2kfra8p0\\LocalCache\\local-packages\\Python311\\site-packages\\qutip_qip\\noise.py:143\u001b[0m, in \u001b[0;36mNoise._apply_noise\u001b[1;34m(self, pulses, systematic_noise, dims)\u001b[0m\n\u001b[0;32m    138\u001b[0m \u001b[39mdef\u001b[39;00m \u001b[39m_apply_noise\u001b[39m(\u001b[39mself\u001b[39m, pulses\u001b[39m=\u001b[39m\u001b[39mNone\u001b[39;00m, systematic_noise\u001b[39m=\u001b[39m\u001b[39mNone\u001b[39;00m, dims\u001b[39m=\u001b[39m\u001b[39mNone\u001b[39;00m):\n\u001b[0;32m    139\u001b[0m \u001b[39m    \u001b[39m\u001b[39m\"\"\"\u001b[39;00m\n\u001b[0;32m    140\u001b[0m \u001b[39m    For backward compatibility, in case the method has no return value\u001b[39;00m\n\u001b[0;32m    141\u001b[0m \u001b[39m    or only return the pulse.\u001b[39;00m\n\u001b[0;32m    142\u001b[0m \u001b[39m    \"\"\"\u001b[39;00m\n\u001b[1;32m--> 143\u001b[0m     result \u001b[39m=\u001b[39m \u001b[39mself\u001b[39;49m\u001b[39m.\u001b[39;49mget_noisy_pulses(\n\u001b[0;32m    144\u001b[0m         pulses\u001b[39m=\u001b[39;49mpulses, systematic_noise\u001b[39m=\u001b[39;49msystematic_noise, dims\u001b[39m=\u001b[39;49mdims\n\u001b[0;32m    145\u001b[0m     )\n\u001b[0;32m    146\u001b[0m     \u001b[39mif\u001b[39;00m result \u001b[39mis\u001b[39;00m \u001b[39mNone\u001b[39;00m:  \u001b[39m# in-place change\u001b[39;00m\n\u001b[0;32m    147\u001b[0m         \u001b[39mpass\u001b[39;00m\n",
      "File \u001b[1;32m~\\AppData\\Local\\Packages\\PythonSoftwareFoundation.Python.3.11_qbz5n2kfra8p0\\LocalCache\\local-packages\\Python311\\site-packages\\qutip_qip\\noise.py:132\u001b[0m, in \u001b[0;36mNoise.get_noisy_pulses\u001b[1;34m(self, dims, pulses, systematic_noise)\u001b[0m\n\u001b[0;32m    125\u001b[0m \u001b[39mif\u001b[39;00m get_noisy_dynamics \u001b[39mis\u001b[39;00m \u001b[39mnot\u001b[39;00m \u001b[39mNone\u001b[39;00m:\n\u001b[0;32m    126\u001b[0m     warnings\u001b[39m.\u001b[39mwarn(\n\u001b[0;32m    127\u001b[0m         \u001b[39m\"\u001b[39m\u001b[39mUsing get_noisy_dynamics as the hook function for custom \u001b[39m\u001b[39m\"\u001b[39m\n\u001b[0;32m    128\u001b[0m         \u001b[39m\"\u001b[39m\u001b[39mnoise will be deprecated, \u001b[39m\u001b[39m\"\u001b[39m\n\u001b[0;32m    129\u001b[0m         \u001b[39m\"\u001b[39m\u001b[39mplease use get_noisy_pulses instead.\u001b[39m\u001b[39m\"\u001b[39m,\n\u001b[0;32m    130\u001b[0m         \u001b[39mPendingDeprecationWarning\u001b[39;00m,\n\u001b[0;32m    131\u001b[0m     )\n\u001b[1;32m--> 132\u001b[0m     \u001b[39mreturn\u001b[39;00m \u001b[39mself\u001b[39;49m\u001b[39m.\u001b[39;49mget_noisy_dynamics(dims, pulses, systematic_noise)\n\u001b[0;32m    133\u001b[0m \u001b[39mraise\u001b[39;00m \u001b[39mNotImplementedError\u001b[39;00m(\n\u001b[0;32m    134\u001b[0m     \u001b[39m\"\u001b[39m\u001b[39mSubclass error needs a method\u001b[39m\u001b[39m\"\u001b[39m\n\u001b[0;32m    135\u001b[0m     \u001b[39m\"\u001b[39m\u001b[39m`get_noisy_pulses` to process the noise.\u001b[39m\u001b[39m\"\u001b[39m\n\u001b[0;32m    136\u001b[0m )\n",
      "Cell \u001b[1;32mIn[20], line 22\u001b[0m, in \u001b[0;36mClassicalCrossTalk.get_noisy_dynamics\u001b[1;34m(self, dims, pulses, systematic_noise)\u001b[0m\n\u001b[0;32m     20\u001b[0m \u001b[39mif\u001b[39;00m \u001b[39m\"\u001b[39m\u001b[39msx\u001b[39m\u001b[39m\"\u001b[39m \u001b[39mnot\u001b[39;00m \u001b[39min\u001b[39;00m pulse\u001b[39m.\u001b[39mlabel \u001b[39mand\u001b[39;00m \u001b[39m\"\u001b[39m\u001b[39msy\u001b[39m\u001b[39m\"\u001b[39m \u001b[39mnot\u001b[39;00m \u001b[39min\u001b[39;00m pulse\u001b[39m.\u001b[39mlabel:\n\u001b[0;32m     21\u001b[0m     \u001b[39mcontinue\u001b[39;00m  \u001b[39m# filter out other pulses, e.g. drift\u001b[39;00m\n\u001b[1;32m---> 22\u001b[0m target \u001b[39m=\u001b[39m pulse\u001b[39m.\u001b[39;49mtargets[\u001b[39m0\u001b[39;49m]\n\u001b[0;32m     23\u001b[0m \u001b[39mif\u001b[39;00m target \u001b[39m!=\u001b[39m \u001b[39m0\u001b[39m:  \u001b[39m# add pulse to the left neighbour\u001b[39;00m\n\u001b[0;32m     24\u001b[0m     pulses[i]\u001b[39m.\u001b[39madd_control_noise(\n\u001b[0;32m     25\u001b[0m         \u001b[39mself\u001b[39m\u001b[39m.\u001b[39mratio \u001b[39m*\u001b[39m pulse\u001b[39m.\u001b[39mqobj,\n\u001b[0;32m     26\u001b[0m         targets\u001b[39m=\u001b[39m[target \u001b[39m-\u001b[39m \u001b[39m1\u001b[39m],\n\u001b[0;32m     27\u001b[0m         coeff\u001b[39m=\u001b[39mpulse\u001b[39m.\u001b[39mcoeff,\n\u001b[0;32m     28\u001b[0m         tlist\u001b[39m=\u001b[39mpulse\u001b[39m.\u001b[39mtlist,\n\u001b[0;32m     29\u001b[0m     )\n",
      "\u001b[1;31mTypeError\u001b[0m: 'int' object is not subscriptable"
     ]
    }
   ],
   "source": [
    "def single_crosstalk_simulation(num_gates):\n",
    "    \"\"\"\n",
    "    A single simulation, with num_gates representing the number of rotations.\n",
    "\n",
    "    Args:\n",
    "        num_gates (int): The number of random gates to add in the simulation.\n",
    "\n",
    "    Returns:\n",
    "        result (qutip.solver.Result):\n",
    "            A qutip Result object obtained from any of the\n",
    "            solver methods such as mesolve.\n",
    "    \"\"\"\n",
    "    # Qubit-0 is the target qubit. Qubit-1 suffers from crosstalk.\n",
    "    num_qubits = 2\n",
    "    myprocessor = ModelProcessor(model=MyModel(num_qubits))\n",
    "    # Add qubit frequency detuning 1.852MHz for the second qubit.\n",
    "    myprocessor.add_drift(2 * np.pi * (sigmaz() + 1) / 2 * 1.852, targets=1)\n",
    "    myprocessor.native_gates = None  # Remove the native gates\n",
    "    mycompiler = MyCompiler(num_qubits,\n",
    "                            {\"pulse_amplitude\": 0.02, \"duration\": 25})\n",
    "    myprocessor.add_noise(ClassicalCrossTalk(1.0))\n",
    "    # Define a randome circuit.\n",
    "    gates_set = [\n",
    "        Gate(\"ROT\", 0, arg_value=0),\n",
    "        Gate(\"ROT\", 0, arg_value=np.pi / 2),\n",
    "        Gate(\"ROT\", 0, arg_value=np.pi),\n",
    "        Gate(\"ROT\", 0, arg_value=np.pi / 2 * 3),\n",
    "    ]\n",
    "    circuit = QubitCircuit(num_qubits)\n",
    "    for ind in np.random.randint(0, 4, num_gates):\n",
    "        circuit.add_gate(gates_set[ind])\n",
    "    # Simulate the circuit.\n",
    "    myprocessor.load_circuit(circuit, compiler=mycompiler)\n",
    "    init_state = tensor(\n",
    "        [Qobj([[init_fid, 0], [0, 0.025]]),\n",
    "         Qobj([[init_fid, 0], [0, 0.025]])]\n",
    "    )\n",
    "    # increase the maximal allowed steps\n",
    "    options = Options(nsteps=10000)\n",
    "    e_ops = [tensor([qeye(2), fock_dm(2)])]  # observable\n",
    "\n",
    "    # compute results of the run using a solver of choice\n",
    "    result = myprocessor.run_state(\n",
    "        init_state, solver=\"mesolve\", options=options, e_ops=e_ops\n",
    "    )\n",
    "    # measured expectation value at the end\n",
    "    result = result.expect[0][-1]\n",
    "    return result\n",
    "\n",
    "\n",
    "# The full simulation may take several hours\n",
    "# so we just choose num_sample=2 and num_gates=250 as a test\n",
    "num_sample = 2\n",
    "fidelity = []\n",
    "fidelity_error = []\n",
    "init_fid = 0.975\n",
    "num_gates_list = [250]\n",
    "\n",
    "# The full simulation is defined in the commented lines below.\n",
    "\n",
    "# from joblib import Parallel, delayed  # for parallel simulations\n",
    "# num_sample = 1600\n",
    "# num_gates_list = [250, 500, 750, 1000, 1250, 1500]\n",
    "\n",
    "for num_gates in num_gates_list:\n",
    "    expect = [single_crosstalk_simulation(num_gates)\n",
    "              for i in range(num_sample)]\n",
    "    fidelity.append(np.mean(expect))\n",
    "    fidelity_error.append(np.std(expect) / np.sqrt(num_sample))"
   ]
  },
  {
   "cell_type": "code",
   "execution_count": 10,
   "metadata": {},
   "outputs": [],
   "source": [
    "class MyModel(Model):\n",
    "    def __init__(\n",
    "        self, num_qubits, dims=None):\n",
    "        super().__init__(num_qubits, dims=dims)\n",
    "        # Control Hamiltonians\n",
    "        self.controls = {}\n",
    "        self.controls.update(\n",
    "            {\"sx0\": (2 * np.pi * sigmax(),0)}\n",
    "        )\n",
    "        self.controls.update(\n",
    "            {\"sy0\": (2 * np.pi * sigmay(),0)}\n",
    "        ),\n",
    "\n",
    "    def get_control(self, label):\n",
    "        \"\"\"\n",
    "        The mandatory method. It Returns a pair of Qobj and int representing\n",
    "        the control Hamiltonian and the target qubit.\n",
    "        \"\"\"\n",
    "        return self.controls[label]\n",
    "\n",
    "    def get_control_labels(self):\n",
    "        \"\"\"\n",
    "        It returns all the labels of availble controls.\n",
    "        \"\"\"\n",
    "        return self.controls.keys()"
   ]
  },
  {
   "cell_type": "code",
   "execution_count": 11,
   "metadata": {},
   "outputs": [
    {
     "data": {
      "text/plain": [
       "(Quantum object: dims = [[2], [2]], shape = (2, 2), type = oper, isherm = True\n",
       " Qobj data =\n",
       " [[0.         6.28318531]\n",
       "  [6.28318531 0.        ]],\n",
       " 0)"
      ]
     },
     "execution_count": 11,
     "metadata": {},
     "output_type": "execute_result"
    }
   ],
   "source": [
    "model=MyModel(1)\n",
    "model.get_control(\"sx0\")"
   ]
  },
  {
   "cell_type": "code",
   "execution_count": 12,
   "metadata": {},
   "outputs": [],
   "source": [
    "class MyCompiler(GateCompiler):\n",
    "    \"\"\"\n",
    "    Custom compiler for generating pulses from gates using\n",
    "    the base class GateCompiler.\n",
    "\n",
    "    Args:\n",
    "        num_qubits (int): The number of qubits in the processor\n",
    "        params (dict): A dictionary of parameters for gate pulses\n",
    "                       such as the pulse amplitude.\n",
    "    \"\"\"\n",
    "\n",
    "    def __init__(self, num_qubits, params):\n",
    "        super().__init__(num_qubits, params=params)\n",
    "        self.params = params\n",
    "        self.gate_compiler = {\n",
    "            \"ROT\": self.rotation_with_phase_compiler,\n",
    "            \"RX\": self.single_qubit_gate_compiler,\n",
    "            \"RY\": self.single_qubit_gate_compiler,\n",
    "            \"XPulse\": self.super_conducting_compiler,\n",
    "            \"YPulse\":self.super_conducting_compiler,\n",
    "            \"XHalfPulse\":self.super_conducting_compiler,\n",
    "            \"YHalfPulse\":self.super_conducting_compiler,\n",
    "            \"XHalfMinusPulse\":self.super_conducting_compiler,\n",
    "            \"YHalfMinusPulse\":self.super_conducting_compiler\n",
    "        }\n",
    "\n",
    "    def generate_pulse(self, gate, tlist, coeff, phase=0.0):\n",
    "        \"\"\"Generates the pulses.\n",
    "\n",
    "        Args:\n",
    "            gate (qutip_qip.circuit.Gate): A qutip Gate object.\n",
    "            tlist (array): A list of times for the evolution.\n",
    "            coeff (array): An array of coefficients for the gate pulses\n",
    "            phase (float): The value of the phase for the gate.\n",
    "\n",
    "        Returns:\n",
    "            Instruction (qutip_qip.compiler.instruction.Instruction):\n",
    "            An instruction to implement a gate containing the control pulses.\n",
    "        \"\"\"\n",
    "        pulse_info = [\n",
    "            # (control label, coeff)\n",
    "            (\"sx\" + str(gate.targets[0]), np.cos(phase) * coeff),\n",
    "            (\"sy\" + str(gate.targets[0]), np.sin(phase) * coeff),\n",
    "        ]\n",
    "        return [Instruction(gate, tlist=tlist, pulse_info=pulse_info)]\n",
    "\n",
    "    def single_qubit_gate_compiler(self, gate, args):\n",
    "        \"\"\"Compiles single-qubit gates to pulses.\n",
    "\n",
    "        Args:\n",
    "            gate (qutip_qip.circuit.Gate): A qutip Gate object.\n",
    "\n",
    "        Returns:\n",
    "            Instruction (qutip_qip.compiler.instruction.Instruction):\n",
    "            An instruction to implement a gate containing the control pulses.\n",
    "        \"\"\"\n",
    "        # gate.arg_value is the rotation angle\n",
    "        tlist = np.abs(gate.arg_value) / self.params[\"pulse_amplitude\"]\n",
    "        coeff = self.params[\"pulse_amplitude\"] * np.sign(gate.arg_value)\n",
    "        if gate.name == \"RX\":\n",
    "            return self.generate_pulse(gate, tlist, coeff, phase=0.0)\n",
    "        elif gate.name == \"RY\":\n",
    "            return self.generate_pulse(gate, tlist, coeff, phase=np.pi / 2)\n",
    "\n",
    "    def rotation_with_phase_compiler(self, gate, args):\n",
    "        \"\"\"Compiles gates with a phase term.\n",
    "\n",
    "        Args:\n",
    "            gate (qutip_qip.circuit.Gate): A qutip Gate object.\n",
    "\n",
    "        Returns:\n",
    "            Instruction (qutip_qip.compiler.instruction.Instruction):\n",
    "            An instruction to implement a gate containing the control pulses.\n",
    "        \"\"\"\n",
    "        # gate.arg_value is the pulse phase\n",
    "        tlist = self.params[\"duration\"]\n",
    "        coeff = self.params[\"pulse_amplitude\"]\n",
    "        return self.generate_pulse(gate, tlist, coeff, phase=gate.arg_value)\n",
    "    \n",
    "    def super_conducting_compiler(self,gate,args):\n",
    "        tlist = self.params[\"duration\"]\n",
    "        coeff = self.params[\"pulse_amplitude\"]\n",
    "        return self.generate_pulse(gate, tlist, coeff, phase=gate.arg_value)"
   ]
  },
  {
   "cell_type": "code",
   "execution_count": 16,
   "metadata": {},
   "outputs": [],
   "source": [
    "VStd = 0.01\n",
    "phaseStd = 0.382 / 180 * np.pi\n",
    "detuningStd = 52769\n",
    "samplingRate = 5898.24e6 # 5.89824 GS/s\n",
    "\n",
    "omega = 20e6 # 20MHz\n",
    "VNaught = 1\n",
    "hbar = 1\n",
    "phiNaught = 0\n",
    "aNaught = 25 / 46\n",
    "\n",
    "V = VNaught + np.random.normal(scale=VStd)\n",
    "phi = phiNaught + np.random.normal(scale=phaseStd)\n",
    "I = np.cos(phi)\n",
    "Q = np.sin(phi)\n",
    "\n",
    "def original_Hamiltonian(t, phiNaught, N=None, target=0):\n",
    "    \"\"\"Single-qubit evolution.\n",
    "\n",
    "    Returns\n",
    "    -------\n",
    "    result : qobj\n",
    "        Quantum object for operator describing the rotation.\n",
    "\n",
    "    \"\"\"\n",
    "    phi = phiNaught + np.random.normal(scale=phaseStd)\n",
    "    I = np.cos(phi)\n",
    "    Q = np.sin(phi)\n",
    "\n",
    "    dwt = np.random.normal(scale=detuningStd) * t\n",
    "    s = aNaught - (1 - aNaught) * np.cos(2 * np.pi * t / t_final)\n",
    "    H = omega * np.pi * V * s *((-I * np.cos(dwt) + Q * np.sin(dwt)) * sigma_x() + (I * np.sin(dwt) - Q * np.cos(dwt)) * sigma_y())\n",
    "    return Qobj(H/(1j* hbar), dims=[[2], [2]])"
   ]
  },
  {
   "cell_type": "markdown",
   "metadata": {},
   "source": [
    "### Define half-pulse gate"
   ]
  },
  {
   "cell_type": "code",
   "execution_count": 42,
   "metadata": {},
   "outputs": [],
   "source": [
    "def X_half_gate(phi, N=None, target=0):\n",
    "     \"\"\"Single-qubit rotation for operator sigmax with angle phi.\n",
    "\n",
    "     Returns\n",
    "     -------\n",
    "     result : qobj\n",
    "          Quantum object for operator describing the rotation.\n",
    "\n",
    "     \"\"\"\n",
    "     if N is not None:\n",
    "          return gate_expand_1toN(rx(phi), N, target)\n",
    "     else:\n",
    "          return Qobj(   [[np.cos(phi / 2), -1j * np.sin(phi / 2)],\n",
    "                         [-1j * np.sin(phi / 2), np.cos(phi / 2)]])\n",
    "\n",
    "def X_minus_half_gate(phi, N=None, target=0):\n",
    "     \"\"\"Single-qubit rotation for operator sigmax with angle phi.\n",
    "\n",
    "     Returns\n",
    "     -------\n",
    "     result : qobj\n",
    "          Quantum object for operator describing the rotation.\n",
    "\n",
    "     \"\"\"\n",
    "     if N is not None:\n",
    "          return gate_expand_1toN(rx(phi), N, target)\n",
    "     else:\n",
    "          return Qobj(   [[np.cos(phi / 2), -1j * np.sin(phi / 2)],\n",
    "                         [-1j * np.sin(phi / 2), np.cos(phi / 2)]])\n",
    "     \n",
    "def Y_half_gate(phi, N=None, target=0):\n",
    "    \"\"\"Single-qubit rotation for operator sigmay with angle phi.\n",
    "\n",
    "    Returns\n",
    "    -------\n",
    "    result : qobj\n",
    "        Quantum object for operator describing the rotation.\n",
    "\n",
    "    \"\"\"\n",
    "    if N is not None:\n",
    "        return gate_expand_1toN(ry(phi), N, target)\n",
    "    else:\n",
    "        return Qobj([[np.cos(phi / 2), -np.sin(phi / 2)],\n",
    "                     [np.sin(phi / 2), np.cos(phi / 2)]])\n",
    "\n",
    "def Y_minus_half_gate(phi, N=None, target=0):\n",
    "    \"\"\"Single-qubit rotation for operator sigmay with angle phi.\n",
    "\n",
    "    Returns\n",
    "    -------\n",
    "    result : qobj\n",
    "        Quantum object for operator describing the rotation.\n",
    "\n",
    "    \"\"\"\n",
    "    if N is not None:\n",
    "        return gate_expand_1toN(ry(phi), N, target)\n",
    "    else:\n",
    "        return Qobj([[np.cos(phi / 2), -np.sin(phi / 2)],\n",
    "                     [np.sin(phi / 2), np.cos(phi / 2)]])"
   ]
  },
  {
   "cell_type": "code",
   "execution_count": 43,
   "metadata": {},
   "outputs": [
    {
     "data": {
      "image/png": "[encoded data removed]",
      "text/plain": [
       "<qutip_qip.circuit.circuit.QubitCircuit at 0x2f47ceef310>"
      ]
     },
     "execution_count": 43,
     "metadata": {},
     "output_type": "execute_result"
    }
   ],
   "source": [
    "qc = QubitCircuit(2)\n",
    "qc.user_gates = {\"RX_half\": X_half_gate,\n",
    "                 \"RY_half\": Y_half_gate,\n",
    "                 \"RX_minus_half\": X_minus_half_gate,\n",
    "                 \"RY_minus_half\": Y_minus_half_gate\n",
    "                }\n",
    "qc.add_gate(\"RY_half\", targets=0, arg_value=np.pi / 2)\n",
    "qc"
   ]
  },
  {
   "cell_type": "code",
   "execution_count": 26,
   "metadata": {},
   "outputs": [],
   "source": [
    "pi_pulse_duration = 4.7959183673469386e-08\n",
    "pi_half_pulse_duration = 2.3979591836734693e-08\n",
    "t_0 = 0\n",
    "t_final = pi_pulse_duration"
   ]
  },
  {
   "cell_type": "code",
   "execution_count": 29,
   "metadata": {},
   "outputs": [
    {
     "ename": "NameError",
     "evalue": "name 'sigma_x' is not defined",
     "output_type": "error",
     "traceback": [
      "\u001b[1;31m---------------------------------------------------------------------------\u001b[0m",
      "\u001b[1;31mNameError\u001b[0m                                 Traceback (most recent call last)",
      "Cell \u001b[1;32mIn[29], line 14\u001b[0m\n\u001b[0;32m      8\u001b[0m \u001b[39m# The full simulation is defined in the commented lines below.\u001b[39;00m\n\u001b[0;32m      9\u001b[0m \u001b[39m# from joblib import Parallel, delayed  # for parallel simulations\u001b[39;00m\n\u001b[0;32m     10\u001b[0m \u001b[39m# num_sample = 1600\u001b[39;00m\n\u001b[0;32m     11\u001b[0m \u001b[39m# num_gates_list = [250, 500, 750, 1000, 1250, 1500]\u001b[39;00m\n\u001b[0;32m     13\u001b[0m \u001b[39mfor\u001b[39;00m num_gates \u001b[39min\u001b[39;00m num_gates_list:\n\u001b[1;32m---> 14\u001b[0m     expect \u001b[39m=\u001b[39m [single_crosstalk_simulation(num_gates) \u001b[39mfor\u001b[39;49;00m i \u001b[39min\u001b[39;49;00m \u001b[39mrange\u001b[39;49m(num_sample)]\n\u001b[0;32m     15\u001b[0m     fidelity\u001b[39m.\u001b[39mappend(np\u001b[39m.\u001b[39mmean(expect))\n\u001b[0;32m     16\u001b[0m     fidelity_error\u001b[39m.\u001b[39mappend(np\u001b[39m.\u001b[39mstd(expect) \u001b[39m/\u001b[39m np\u001b[39m.\u001b[39msqrt(num_sample))\n",
      "Cell \u001b[1;32mIn[29], line 14\u001b[0m, in \u001b[0;36m<listcomp>\u001b[1;34m(.0)\u001b[0m\n\u001b[0;32m      8\u001b[0m \u001b[39m# The full simulation is defined in the commented lines below.\u001b[39;00m\n\u001b[0;32m      9\u001b[0m \u001b[39m# from joblib import Parallel, delayed  # for parallel simulations\u001b[39;00m\n\u001b[0;32m     10\u001b[0m \u001b[39m# num_sample = 1600\u001b[39;00m\n\u001b[0;32m     11\u001b[0m \u001b[39m# num_gates_list = [250, 500, 750, 1000, 1250, 1500]\u001b[39;00m\n\u001b[0;32m     13\u001b[0m \u001b[39mfor\u001b[39;00m num_gates \u001b[39min\u001b[39;00m num_gates_list:\n\u001b[1;32m---> 14\u001b[0m     expect \u001b[39m=\u001b[39m [single_crosstalk_simulation(num_gates) \u001b[39mfor\u001b[39;00m i \u001b[39min\u001b[39;00m \u001b[39mrange\u001b[39m(num_sample)]\n\u001b[0;32m     15\u001b[0m     fidelity\u001b[39m.\u001b[39mappend(np\u001b[39m.\u001b[39mmean(expect))\n\u001b[0;32m     16\u001b[0m     fidelity_error\u001b[39m.\u001b[39mappend(np\u001b[39m.\u001b[39mstd(expect) \u001b[39m/\u001b[39m np\u001b[39m.\u001b[39msqrt(num_sample))\n",
      "Cell \u001b[1;32mIn[22], line 19\u001b[0m, in \u001b[0;36msingle_crosstalk_simulation\u001b[1;34m(num_gates)\u001b[0m\n\u001b[0;32m     16\u001b[0m \u001b[39m# Add qubit frequency detuning 1.852MHz for the second qubit.\u001b[39;00m\n\u001b[0;32m     17\u001b[0m \u001b[39m# myprocessor.add_drift(2 * np.pi * (sigmaz() + 1) / 2 * 1.852, targets=1)\u001b[39;00m\n\u001b[0;32m     18\u001b[0m myprocessor\u001b[39m.\u001b[39mnative_gates \u001b[39m=\u001b[39m \u001b[39mNone\u001b[39;00m  \u001b[39m# Remove the native gates\u001b[39;00m\n\u001b[1;32m---> 19\u001b[0m myprocessor\u001b[39m.\u001b[39muser_gates \u001b[39m=\u001b[39m{   \u001b[39m\"\u001b[39m\u001b[39mXPulse\u001b[39m\u001b[39m\"\u001b[39m:           original_Hamiltonian(pi_pulse_duration,\u001b[39m0\u001b[39;49m),\n\u001b[0;32m     20\u001b[0m                             \u001b[39m\"\u001b[39m\u001b[39mYPulse\u001b[39m\u001b[39m\"\u001b[39m:           original_Hamiltonian(pi_pulse_duration,np\u001b[39m.\u001b[39mpi \u001b[39m/\u001b[39m \u001b[39m2\u001b[39m),\n\u001b[0;32m     21\u001b[0m                             \u001b[39m\"\u001b[39m\u001b[39mXHalfPulse\u001b[39m\u001b[39m\"\u001b[39m:       original_Hamiltonian(pi_half_pulse_duration,\u001b[39m0\u001b[39m),\n\u001b[0;32m     22\u001b[0m                             \u001b[39m\"\u001b[39m\u001b[39mYHalfPulse\u001b[39m\u001b[39m\"\u001b[39m:       original_Hamiltonian(pi_half_pulse_duration,np\u001b[39m.\u001b[39mpi \u001b[39m/\u001b[39m \u001b[39m2\u001b[39m),\n\u001b[0;32m     23\u001b[0m                             \u001b[39m\"\u001b[39m\u001b[39mXHalfMinusPulse\u001b[39m\u001b[39m\"\u001b[39m:  original_Hamiltonian(pi_half_pulse_duration,\u001b[39m-\u001b[39mnp\u001b[39m.\u001b[39mpi),\n\u001b[0;32m     24\u001b[0m                             \u001b[39m\"\u001b[39m\u001b[39mYHalfMinusPulse\u001b[39m\u001b[39m\"\u001b[39m:  original_Hamiltonian(pi_half_pulse_duration,\u001b[39m-\u001b[39mnp\u001b[39m.\u001b[39mpi \u001b[39m/\u001b[39m \u001b[39m2\u001b[39m)}    \n\u001b[0;32m     25\u001b[0m mycompiler \u001b[39m=\u001b[39m MyCompiler(num_qubits,{\u001b[39m\"\u001b[39m\u001b[39mpulse_amplitude\u001b[39m\u001b[39m\"\u001b[39m: rabi_frequency, \u001b[39m\"\u001b[39m\u001b[39mduration\u001b[39m\u001b[39m\"\u001b[39m: pi_pulse_duration})\n\u001b[0;32m     26\u001b[0m \u001b[39m# myprocessor.add_noise(ClassicalCrossTalk(1.0))\u001b[39;00m\n\u001b[0;32m     27\u001b[0m \u001b[39m# Define a randome circuit.\u001b[39;00m\n",
      "Cell \u001b[1;32mIn[16], line 32\u001b[0m, in \u001b[0;36moriginal_Hamiltonian\u001b[1;34m(t, phiNaught, N, target)\u001b[0m\n\u001b[0;32m     30\u001b[0m dwt \u001b[39m=\u001b[39m np\u001b[39m.\u001b[39mrandom\u001b[39m.\u001b[39mnormal(scale\u001b[39m=\u001b[39mdetuningStd) \u001b[39m*\u001b[39m t\n\u001b[0;32m     31\u001b[0m s \u001b[39m=\u001b[39m aNaught \u001b[39m-\u001b[39m (\u001b[39m1\u001b[39m \u001b[39m-\u001b[39m aNaught) \u001b[39m*\u001b[39m np\u001b[39m.\u001b[39mcos(\u001b[39m2\u001b[39m \u001b[39m*\u001b[39m np\u001b[39m.\u001b[39mpi \u001b[39m*\u001b[39m t \u001b[39m/\u001b[39m t_final)\n\u001b[1;32m---> 32\u001b[0m H \u001b[39m=\u001b[39m omega \u001b[39m*\u001b[39m np\u001b[39m.\u001b[39mpi \u001b[39m*\u001b[39m V \u001b[39m*\u001b[39m s \u001b[39m*\u001b[39m((\u001b[39m-\u001b[39mI \u001b[39m*\u001b[39m np\u001b[39m.\u001b[39mcos(dwt) \u001b[39m+\u001b[39m Q \u001b[39m*\u001b[39m np\u001b[39m.\u001b[39msin(dwt)) \u001b[39m*\u001b[39m sigma_x() \u001b[39m+\u001b[39m (I \u001b[39m*\u001b[39m np\u001b[39m.\u001b[39msin(dwt) \u001b[39m-\u001b[39m Q \u001b[39m*\u001b[39m np\u001b[39m.\u001b[39mcos(dwt)) \u001b[39m*\u001b[39m sigma_y())\n\u001b[0;32m     33\u001b[0m \u001b[39mreturn\u001b[39;00m Qobj(H\u001b[39m/\u001b[39m(\u001b[39m1\u001b[39mj\u001b[39m*\u001b[39m hbar), dims\u001b[39m=\u001b[39m[[\u001b[39m2\u001b[39m], [\u001b[39m2\u001b[39m]])\n",
      "\u001b[1;31mNameError\u001b[0m: name 'sigma_x' is not defined"
     ]
    }
   ],
   "source": [
    "# The full simulation may take several hours\n",
    "num_sample = 10\n",
    "fidelity = []\n",
    "fidelity_error = []\n",
    "init_fid = 0.975\n",
    "num_gates_list = [25, 50, 75, 100, 125, 150]\n",
    "\n",
    "# The full simulation is defined in the commented lines below.\n",
    "# from joblib import Parallel, delayed  # for parallel simulations\n",
    "# num_sample = 1600\n",
    "# num_gates_list = [250, 500, 750, 1000, 1250, 1500]\n",
    "\n",
    "for num_gates in num_gates_list:\n",
    "    expect = [single_crosstalk_simulation(num_gates) for i in range(num_sample)]\n",
    "    fidelity.append(np.mean(expect))\n",
    "    fidelity_error.append(np.std(expect) / np.sqrt(num_sample))"
   ]
  },
  {
   "cell_type": "code",
   "execution_count": 13,
   "metadata": {},
   "outputs": [],
   "source": [
    "# Define a circuit and run the simulation\n",
    "num_qubits = 1\n",
    "\n",
    "circuit = QubitCircuit(1)\n",
    "circuit.add_gate(\"RX\", targets=0, arg_value=np.pi / 2)\n",
    "circuit.add_gate(\"Z\", targets=0)"
   ]
  },
  {
   "cell_type": "code",
   "execution_count": 14,
   "metadata": {},
   "outputs": [],
   "source": [
    "myprocessor = ModelProcessor(model=MyModel(num_qubits))\n",
    "myprocessor.native_gates = [\"RX\", \"RY\"]\n",
    "\n",
    "mycompiler = MyCompiler(num_qubits, {\"pulse_amplitude\": 0.02})\n",
    "\n",
    "myprocessor.load_circuit(circuit, compiler=mycompiler)\n",
    "result = myprocessor.run_state(basis(2, 0))"
   ]
  },
  {
   "cell_type": "code",
   "execution_count": 15,
   "metadata": {},
   "outputs": [
    {
     "name": "stderr",
     "output_type": "stream",
     "text": [
      "C:\\Users\\XPS13-9360\\AppData\\Local\\Temp\\ipykernel_8964\\2918505178.py:4: UserWarning: The figure layout has changed to tight\n",
      "  fig.tight_layout()\n"
     ]
    },
    {
     "data": {
      "image/png": "[encoded data removed]",
      "text/plain": [
       "<Figure size 600x360 with 2 Axes>"
      ]
     },
     "metadata": {},
     "output_type": "display_data"
    }
   ],
   "source": [
    "fig, ax = myprocessor.plot_pulses(figsize=(5, 3), dpi=120,\n",
    "                                  use_control_latex=False)\n",
    "ax[-1].set_xlabel(\"$t$\")\n",
    "fig.tight_layout()"
   ]
  },
  {
   "cell_type": "code",
   "execution_count": null,
   "metadata": {},
   "outputs": [],
   "source": []
  },
  {
   "cell_type": "code",
   "execution_count": 45,
   "metadata": {},
   "outputs": [],
   "source": [
    "def X_half_gate(phi, N=None, target=0):\n",
    "     \"\"\"Single-qubit rotation for operator sigmax with angle phi.\n",
    "\n",
    "     Returns\n",
    "     -------\n",
    "     result : qobj\n",
    "          Quantum object for operator describing the rotation.\n",
    "\n",
    "     \"\"\"\n",
    "     if N is not None:\n",
    "          return gate_expand_1toN(rx(phi), N, target)\n",
    "     else:\n",
    "          return Qobj(   [[np.cos(phi / 2), -1j * np.sin(phi / 2)],\n",
    "                         [-1j * np.sin(phi / 2), np.cos(phi / 2)]])\n",
    "\n",
    "def X_minus_half_gate(phi, N=None, target=0):\n",
    "     \"\"\"Single-qubit rotation for operator sigmax with angle phi.\n",
    "\n",
    "     Returns\n",
    "     -------\n",
    "     result : qobj\n",
    "          Quantum object for operator describing the rotation.\n",
    "\n",
    "     \"\"\"\n",
    "     if N is not None:\n",
    "          return gate_expand_1toN(rx(phi), N, target)\n",
    "     else:\n",
    "          return Qobj(   [[np.cos(phi / 2), -1j * np.sin(phi / 2)],\n",
    "                         [-1j * np.sin(phi / 2), np.cos(phi / 2)]])\n",
    "     \n",
    "def Y_half_gate(phi, N=None, target=0):\n",
    "    \"\"\"Single-qubit rotation for operator sigmay with angle phi.\n",
    "\n",
    "    Returns\n",
    "    -------\n",
    "    result : qobj\n",
    "        Quantum object for operator describing the rotation.\n",
    "\n",
    "    \"\"\"\n",
    "    if N is not None:\n",
    "        return gate_expand_1toN(ry(phi), N, target)\n",
    "    else:\n",
    "        return Qobj([[np.cos(phi / 2), -np.sin(phi / 2)],\n",
    "                     [np.sin(phi / 2), np.cos(phi / 2)]])\n",
    "\n",
    "def Y_minus_half_gate(phi, N=None, target=0):\n",
    "    \"\"\"Single-qubit rotation for operator sigmay with angle phi.\n",
    "\n",
    "    Returns\n",
    "    -------\n",
    "    result : qobj\n",
    "        Quantum object for operator describing the rotation.\n",
    "\n",
    "    \"\"\"\n",
    "    if N is not None:\n",
    "        return gate_expand_1toN(ry(phi), N, target)\n",
    "    else:\n",
    "        return Qobj([[np.cos(phi / 2), -np.sin(phi / 2)],\n",
    "                     [np.sin(phi / 2), np.cos(phi / 2)]])"
   ]
  },
  {
   "cell_type": "code",
   "execution_count": null,
   "metadata": {},
   "outputs": [
    {
     "data": {
      "image/png": "[encoded data removed]",
      "text/plain": [
       "<qutip_qip.circuit.circuit.QubitCircuit at 0x2f47ceef310>"
      ]
     },
     "metadata": {},
     "output_type": "display_data"
    }
   ],
   "source": [
    "qc = QubitCircuit(2)\n",
    "qc.user_gates = {\"RX_half\": X_half_gate,\n",
    "                 \"RY_half\": Y_half_gate,\n",
    "                 \"RX_minus_half\": X_minus_half_gate,\n",
    "                 \"RY_minus_half\": Y_minus_half_gate\n",
    "                }\n",
    "qc.add_gate(\"RY_half\", targets=0, arg_value=np.pi / 2)\n",
    "qc"
   ]
  },
  {
   "cell_type": "code",
   "execution_count": 49,
   "metadata": {},
   "outputs": [],
   "source": [
    "num_gates = 25"
   ]
  },
  {
   "cell_type": "code",
   "execution_count": 50,
   "metadata": {},
   "outputs": [
    {
     "ename": "TypeError",
     "evalue": "'int' object is not subscriptable",
     "output_type": "error",
     "traceback": [
      "\u001b[1;31m---------------------------------------------------------------------------\u001b[0m",
      "\u001b[1;31mTypeError\u001b[0m                                 Traceback (most recent call last)",
      "Cell \u001b[1;32mIn[50], line 30\u001b[0m\n\u001b[0;32m     27\u001b[0m e_ops \u001b[39m=\u001b[39m [tensor([qeye(\u001b[39m2\u001b[39m), fock_dm(\u001b[39m2\u001b[39m)])]  \u001b[39m# observable\u001b[39;00m\n\u001b[0;32m     29\u001b[0m \u001b[39m# compute results of the run using a solver of choice\u001b[39;00m\n\u001b[1;32m---> 30\u001b[0m result \u001b[39m=\u001b[39m myprocessor\u001b[39m.\u001b[39;49mrun_state(init_state, solver\u001b[39m=\u001b[39;49m\u001b[39m\"\u001b[39;49m\u001b[39mmesolve\u001b[39;49m\u001b[39m\"\u001b[39;49m, options\u001b[39m=\u001b[39;49moptions, e_ops\u001b[39m=\u001b[39;49me_ops)\n\u001b[0;32m     31\u001b[0m \u001b[39m# measured expectation value at the end\u001b[39;00m\n\u001b[0;32m     32\u001b[0m result \u001b[39m=\u001b[39m result\u001b[39m.\u001b[39mexpect[\u001b[39m0\u001b[39m][\u001b[39m-\u001b[39m\u001b[39m1\u001b[39m]\n",
      "File \u001b[1;32m~\\AppData\\Local\\Packages\\PythonSoftwareFoundation.Python.3.11_qbz5n2kfra8p0\\LocalCache\\local-packages\\Python311\\site-packages\\qutip_qip\\device\\modelprocessor.py:120\u001b[0m, in \u001b[0;36mModelProcessor.run_state\u001b[1;34m(self, init_state, analytical, qc, states, **kwargs)\u001b[0m\n\u001b[0;32m    118\u001b[0m \u001b[39mif\u001b[39;00m qc \u001b[39mis\u001b[39;00m \u001b[39mnot\u001b[39;00m \u001b[39mNone\u001b[39;00m:\n\u001b[0;32m    119\u001b[0m     \u001b[39mself\u001b[39m\u001b[39m.\u001b[39mload_circuit(qc)\n\u001b[1;32m--> 120\u001b[0m \u001b[39mreturn\u001b[39;00m \u001b[39msuper\u001b[39;49m(ModelProcessor, \u001b[39mself\u001b[39;49m)\u001b[39m.\u001b[39;49mrun_state(\n\u001b[0;32m    121\u001b[0m     init_state\u001b[39m=\u001b[39;49minit_state,\n\u001b[0;32m    122\u001b[0m     analytical\u001b[39m=\u001b[39;49manalytical,\n\u001b[0;32m    123\u001b[0m     states\u001b[39m=\u001b[39;49mstates,\n\u001b[0;32m    124\u001b[0m     \u001b[39m*\u001b[39;49m\u001b[39m*\u001b[39;49mkwargs\n\u001b[0;32m    125\u001b[0m )\n",
      "File \u001b[1;32m~\\AppData\\Local\\Packages\\PythonSoftwareFoundation.Python.3.11_qbz5n2kfra8p0\\LocalCache\\local-packages\\Python311\\site-packages\\qutip_qip\\device\\processor.py:1180\u001b[0m, in \u001b[0;36mProcessor.run_state\u001b[1;34m(self, init_state, analytical, states, noisy, solver, **kwargs)\u001b[0m\n\u001b[0;32m   1176\u001b[0m     noisy_qobjevo, sys_c_ops \u001b[39m=\u001b[39m \u001b[39mself\u001b[39m\u001b[39m.\u001b[39mget_qobjevo(\n\u001b[0;32m   1177\u001b[0m         args\u001b[39m=\u001b[39mkwargs[\u001b[39m\"\u001b[39m\u001b[39margs\u001b[39m\u001b[39m\"\u001b[39m], noisy\u001b[39m=\u001b[39mnoisy\n\u001b[0;32m   1178\u001b[0m     )\n\u001b[0;32m   1179\u001b[0m \u001b[39melse\u001b[39;00m:\n\u001b[1;32m-> 1180\u001b[0m     noisy_qobjevo, sys_c_ops \u001b[39m=\u001b[39m \u001b[39mself\u001b[39;49m\u001b[39m.\u001b[39;49mget_qobjevo(noisy\u001b[39m=\u001b[39;49mnoisy)\n\u001b[0;32m   1182\u001b[0m \u001b[39m# add collpase operators into kwargs\u001b[39;00m\n\u001b[0;32m   1183\u001b[0m \u001b[39mif\u001b[39;00m \u001b[39m\"\u001b[39m\u001b[39mc_ops\u001b[39m\u001b[39m\"\u001b[39m \u001b[39min\u001b[39;00m kwargs:\n",
      "File \u001b[1;32m~\\AppData\\Local\\Packages\\PythonSoftwareFoundation.Python.3.11_qbz5n2kfra8p0\\LocalCache\\local-packages\\Python311\\site-packages\\qutip_qip\\device\\processor.py:988\u001b[0m, in \u001b[0;36mProcessor.get_qobjevo\u001b[1;34m(self, args, noisy)\u001b[0m\n\u001b[0;32m    986\u001b[0m     dynamics \u001b[39m=\u001b[39m \u001b[39mself\u001b[39m\u001b[39m.\u001b[39mpulses\n\u001b[0;32m    987\u001b[0m \u001b[39melse\u001b[39;00m:\n\u001b[1;32m--> 988\u001b[0m     dynamics \u001b[39m=\u001b[39m \u001b[39mself\u001b[39;49m\u001b[39m.\u001b[39;49mget_noisy_pulses(device_noise\u001b[39m=\u001b[39;49m\u001b[39mTrue\u001b[39;49;00m, drift\u001b[39m=\u001b[39;49m\u001b[39mTrue\u001b[39;49;00m)\n\u001b[0;32m    990\u001b[0m qu_list \u001b[39m=\u001b[39m []\n\u001b[0;32m    991\u001b[0m c_ops \u001b[39m=\u001b[39m []\n",
      "File \u001b[1;32m~\\AppData\\Local\\Packages\\PythonSoftwareFoundation.Python.3.11_qbz5n2kfra8p0\\LocalCache\\local-packages\\Python311\\site-packages\\qutip_qip\\device\\processor.py:939\u001b[0m, in \u001b[0;36mProcessor.get_noisy_pulses\u001b[1;34m(self, device_noise, drift)\u001b[0m\n\u001b[0;32m    917\u001b[0m \u001b[39m\u001b[39m\u001b[39m\"\"\"\u001b[39;00m\n\u001b[0;32m    918\u001b[0m \u001b[39mIt takes the pulses defined in the `Processor` and\u001b[39;00m\n\u001b[0;32m    919\u001b[0m \u001b[39madds noise according to `Processor.noise`. It does not modify the\u001b[39;00m\n\u001b[1;32m   (...)\u001b[0m\n\u001b[0;32m    936\u001b[0m \u001b[39m    A list of noisy pulses.\u001b[39;00m\n\u001b[0;32m    937\u001b[0m \u001b[39m\"\"\"\u001b[39;00m\n\u001b[0;32m    938\u001b[0m pulses \u001b[39m=\u001b[39m deepcopy(\u001b[39mself\u001b[39m\u001b[39m.\u001b[39mpulses)\n\u001b[1;32m--> 939\u001b[0m noisy_pulses \u001b[39m=\u001b[39m process_noise(\n\u001b[0;32m    940\u001b[0m     pulses,\n\u001b[0;32m    941\u001b[0m     \u001b[39mself\u001b[39;49m\u001b[39m.\u001b[39;49mnoise,\n\u001b[0;32m    942\u001b[0m     \u001b[39mself\u001b[39;49m\u001b[39m.\u001b[39;49mdims,\n\u001b[0;32m    943\u001b[0m     t1\u001b[39m=\u001b[39;49m\u001b[39mself\u001b[39;49m\u001b[39m.\u001b[39;49mt1,\n\u001b[0;32m    944\u001b[0m     t2\u001b[39m=\u001b[39;49m\u001b[39mself\u001b[39;49m\u001b[39m.\u001b[39;49mt2,\n\u001b[0;32m    945\u001b[0m     device_noise\u001b[39m=\u001b[39;49mdevice_noise,\n\u001b[0;32m    946\u001b[0m     spline_kind\u001b[39m=\u001b[39;49m\u001b[39mself\u001b[39;49m\u001b[39m.\u001b[39;49mspline_kind,\n\u001b[0;32m    947\u001b[0m )\n\u001b[0;32m    948\u001b[0m \u001b[39mif\u001b[39;00m drift:\n\u001b[0;32m    949\u001b[0m     drift_obj \u001b[39m=\u001b[39m \u001b[39mself\u001b[39m\u001b[39m.\u001b[39m_get_drift_obj()\n",
      "File \u001b[1;32m~\\AppData\\Local\\Packages\\PythonSoftwareFoundation.Python.3.11_qbz5n2kfra8p0\\LocalCache\\local-packages\\Python311\\site-packages\\qutip_qip\\noise.py:78\u001b[0m, in \u001b[0;36mprocess_noise\u001b[1;34m(pulses, noise_list, dims, t1, t2, device_noise, spline_kind)\u001b[0m\n\u001b[0;32m     76\u001b[0m         \u001b[39mpass\u001b[39;00m\n\u001b[0;32m     77\u001b[0m     \u001b[39melse\u001b[39;00m:\n\u001b[1;32m---> 78\u001b[0m         noisy_pulses, systematic_noise \u001b[39m=\u001b[39m noise\u001b[39m.\u001b[39;49m_apply_noise(\n\u001b[0;32m     79\u001b[0m             dims\u001b[39m=\u001b[39;49mdims,\n\u001b[0;32m     80\u001b[0m             pulses\u001b[39m=\u001b[39;49mnoisy_pulses,\n\u001b[0;32m     81\u001b[0m             systematic_noise\u001b[39m=\u001b[39;49msystematic_noise,\n\u001b[0;32m     82\u001b[0m         )\n\u001b[0;32m     84\u001b[0m \u001b[39mif\u001b[39;00m device_noise:\n\u001b[0;32m     85\u001b[0m     \u001b[39mreturn\u001b[39;00m noisy_pulses \u001b[39m+\u001b[39m [systematic_noise]\n",
      "File \u001b[1;32m~\\AppData\\Local\\Packages\\PythonSoftwareFoundation.Python.3.11_qbz5n2kfra8p0\\LocalCache\\local-packages\\Python311\\site-packages\\qutip_qip\\noise.py:143\u001b[0m, in \u001b[0;36mNoise._apply_noise\u001b[1;34m(self, pulses, systematic_noise, dims)\u001b[0m\n\u001b[0;32m    138\u001b[0m \u001b[39mdef\u001b[39;00m \u001b[39m_apply_noise\u001b[39m(\u001b[39mself\u001b[39m, pulses\u001b[39m=\u001b[39m\u001b[39mNone\u001b[39;00m, systematic_noise\u001b[39m=\u001b[39m\u001b[39mNone\u001b[39;00m, dims\u001b[39m=\u001b[39m\u001b[39mNone\u001b[39;00m):\n\u001b[0;32m    139\u001b[0m \u001b[39m    \u001b[39m\u001b[39m\"\"\"\u001b[39;00m\n\u001b[0;32m    140\u001b[0m \u001b[39m    For backward compatibility, in case the method has no return value\u001b[39;00m\n\u001b[0;32m    141\u001b[0m \u001b[39m    or only return the pulse.\u001b[39;00m\n\u001b[0;32m    142\u001b[0m \u001b[39m    \"\"\"\u001b[39;00m\n\u001b[1;32m--> 143\u001b[0m     result \u001b[39m=\u001b[39m \u001b[39mself\u001b[39;49m\u001b[39m.\u001b[39;49mget_noisy_pulses(\n\u001b[0;32m    144\u001b[0m         pulses\u001b[39m=\u001b[39;49mpulses, systematic_noise\u001b[39m=\u001b[39;49msystematic_noise, dims\u001b[39m=\u001b[39;49mdims\n\u001b[0;32m    145\u001b[0m     )\n\u001b[0;32m    146\u001b[0m     \u001b[39mif\u001b[39;00m result \u001b[39mis\u001b[39;00m \u001b[39mNone\u001b[39;00m:  \u001b[39m# in-place change\u001b[39;00m\n\u001b[0;32m    147\u001b[0m         \u001b[39mpass\u001b[39;00m\n",
      "File \u001b[1;32m~\\AppData\\Local\\Packages\\PythonSoftwareFoundation.Python.3.11_qbz5n2kfra8p0\\LocalCache\\local-packages\\Python311\\site-packages\\qutip_qip\\noise.py:132\u001b[0m, in \u001b[0;36mNoise.get_noisy_pulses\u001b[1;34m(self, dims, pulses, systematic_noise)\u001b[0m\n\u001b[0;32m    125\u001b[0m \u001b[39mif\u001b[39;00m get_noisy_dynamics \u001b[39mis\u001b[39;00m \u001b[39mnot\u001b[39;00m \u001b[39mNone\u001b[39;00m:\n\u001b[0;32m    126\u001b[0m     warnings\u001b[39m.\u001b[39mwarn(\n\u001b[0;32m    127\u001b[0m         \u001b[39m\"\u001b[39m\u001b[39mUsing get_noisy_dynamics as the hook function for custom \u001b[39m\u001b[39m\"\u001b[39m\n\u001b[0;32m    128\u001b[0m         \u001b[39m\"\u001b[39m\u001b[39mnoise will be deprecated, \u001b[39m\u001b[39m\"\u001b[39m\n\u001b[0;32m    129\u001b[0m         \u001b[39m\"\u001b[39m\u001b[39mplease use get_noisy_pulses instead.\u001b[39m\u001b[39m\"\u001b[39m,\n\u001b[0;32m    130\u001b[0m         \u001b[39mPendingDeprecationWarning\u001b[39;00m,\n\u001b[0;32m    131\u001b[0m     )\n\u001b[1;32m--> 132\u001b[0m     \u001b[39mreturn\u001b[39;00m \u001b[39mself\u001b[39;49m\u001b[39m.\u001b[39;49mget_noisy_dynamics(dims, pulses, systematic_noise)\n\u001b[0;32m    133\u001b[0m \u001b[39mraise\u001b[39;00m \u001b[39mNotImplementedError\u001b[39;00m(\n\u001b[0;32m    134\u001b[0m     \u001b[39m\"\u001b[39m\u001b[39mSubclass error needs a method\u001b[39m\u001b[39m\"\u001b[39m\n\u001b[0;32m    135\u001b[0m     \u001b[39m\"\u001b[39m\u001b[39m`get_noisy_pulses` to process the noise.\u001b[39m\u001b[39m\"\u001b[39m\n\u001b[0;32m    136\u001b[0m )\n",
      "Cell \u001b[1;32mIn[20], line 22\u001b[0m, in \u001b[0;36mClassicalCrossTalk.get_noisy_dynamics\u001b[1;34m(self, dims, pulses, systematic_noise)\u001b[0m\n\u001b[0;32m     20\u001b[0m \u001b[39mif\u001b[39;00m \u001b[39m\"\u001b[39m\u001b[39msx\u001b[39m\u001b[39m\"\u001b[39m \u001b[39mnot\u001b[39;00m \u001b[39min\u001b[39;00m pulse\u001b[39m.\u001b[39mlabel \u001b[39mand\u001b[39;00m \u001b[39m\"\u001b[39m\u001b[39msy\u001b[39m\u001b[39m\"\u001b[39m \u001b[39mnot\u001b[39;00m \u001b[39min\u001b[39;00m pulse\u001b[39m.\u001b[39mlabel:\n\u001b[0;32m     21\u001b[0m     \u001b[39mcontinue\u001b[39;00m  \u001b[39m# filter out other pulses, e.g. drift\u001b[39;00m\n\u001b[1;32m---> 22\u001b[0m target \u001b[39m=\u001b[39m pulse\u001b[39m.\u001b[39;49mtargets[\u001b[39m0\u001b[39;49m]\n\u001b[0;32m     23\u001b[0m \u001b[39mif\u001b[39;00m target \u001b[39m!=\u001b[39m \u001b[39m0\u001b[39m:  \u001b[39m# add pulse to the left neighbour\u001b[39;00m\n\u001b[0;32m     24\u001b[0m     pulses[i]\u001b[39m.\u001b[39madd_control_noise(\n\u001b[0;32m     25\u001b[0m         \u001b[39mself\u001b[39m\u001b[39m.\u001b[39mratio \u001b[39m*\u001b[39m pulse\u001b[39m.\u001b[39mqobj,\n\u001b[0;32m     26\u001b[0m         targets\u001b[39m=\u001b[39m[target \u001b[39m-\u001b[39m \u001b[39m1\u001b[39m],\n\u001b[0;32m     27\u001b[0m         coeff\u001b[39m=\u001b[39mpulse\u001b[39m.\u001b[39mcoeff,\n\u001b[0;32m     28\u001b[0m         tlist\u001b[39m=\u001b[39mpulse\u001b[39m.\u001b[39mtlist,\n\u001b[0;32m     29\u001b[0m     )\n",
      "\u001b[1;31mTypeError\u001b[0m: 'int' object is not subscriptable"
     ]
    }
   ],
   "source": [
    "num_qubits = 2\n",
    "myprocessor = ModelProcessor(model=MyModel(num_qubits))\n",
    "# Add qubit frequency detuning 1.852MHz for the second qubit.\n",
    "myprocessor.add_drift(2 * np.pi * (sigmaz() + 1) / 2 * 1.852, targets=1)\n",
    "myprocessor.native_gates = None  # Remove the native gates\n",
    "mycompiler = MyCompiler(num_qubits,\n",
    "                        {\"pulse_amplitude\": 0.02, \"duration\": 25})\n",
    "myprocessor.add_noise(ClassicalCrossTalk(1.0))\n",
    "# Define a randome circuit.\n",
    "gates_set = [\n",
    "    Gate(\"ROT\", 0, arg_value=0),\n",
    "    Gate(\"ROT\", 0, arg_value=np.pi / 2),\n",
    "    Gate(\"ROT\", 0, arg_value=np.pi),\n",
    "    Gate(\"ROT\", 0, arg_value=np.pi / 2 * 3),\n",
    "]\n",
    "circuit = QubitCircuit(num_qubits)\n",
    "for ind in np.random.randint(0, 4, num_gates):\n",
    "    circuit.add_gate(gates_set[ind])\n",
    "# Simulate the circuit.\n",
    "myprocessor.load_circuit(circuit, compiler=mycompiler)\n",
    "init_state = tensor(\n",
    "    [Qobj([[init_fid, 0], [0, 0.025]]),\n",
    "        Qobj([[init_fid, 0], [0, 0.025]])]\n",
    ")\n",
    "# increase the maximal allowed steps\n",
    "options = Options(nsteps=10000)\n",
    "e_ops = [tensor([qeye(2), fock_dm(2)])]  # observable\n",
    "\n",
    "# compute results of the run using a solver of choice\n",
    "result = myprocessor.run_state(init_state, solver=\"mesolve\", options=options, e_ops=e_ops)\n",
    "# measured expectation value at the end\n",
    "result = result.expect[0][-1]"
   ]
  },
  {
   "cell_type": "code",
   "execution_count": null,
   "metadata": {},
   "outputs": [],
   "source": []
  }
 ],
 "metadata": {
  "kernelspec": {
   "display_name": "Python 3",
   "language": "python",
   "name": "python3"
  },
  "language_info": {
   "codemirror_mode": {
    "name": "ipython",
    "version": 3
   },
   "file_extension": ".py",
   "mimetype": "text/x-python",
   "name": "python",
   "nbconvert_exporter": "python",
   "pygments_lexer": "ipython3",
   "version": "3.11.4"
  },
  "orig_nbformat": 4
 },
 "nbformat": 4,
 "nbformat_minor": 2
}
