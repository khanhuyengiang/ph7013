{
 "cells": [
  {
   "cell_type": "code",
   "execution_count": 8,
   "metadata": {},
   "outputs": [
    {
     "name": "stderr",
     "output_type": "stream",
     "text": [
      "[Qibo 0.2.2|INFO|2023-11-27 12:26:22]: Loading platform dummy\n",
      "[Qibo 0.2.2|INFO|2023-11-27 12:26:22]: Using qibolab (dummy) backend on /CPU:0\n",
      "[Qibo 0.2.2|ERROR|2023-11-27 12:26:22]: Given list of parameters has length 1 while the circuit contains 2 parametrized gates.\n"
     ]
    },
    {
     "ename": "ValueError",
     "evalue": "Given list of parameters has length 1 while the circuit contains 2 parametrized gates.",
     "output_type": "error",
     "traceback": [
      "\u001b[1;31m---------------------------------------------------------------------------\u001b[0m",
      "\u001b[1;31mValueError\u001b[0m                                Traceback (most recent call last)",
      "\u001b[1;32md:\\Code\\NTU-control\\SC_qubit_control_simulations_NTU\\src\\Qibo\\test3.ipynb Cell 1\u001b[0m line \u001b[0;36m3\n\u001b[0;32m     <a href='vscode-notebook-cell:/d%3A/Code/NTU-control/SC_qubit_control_simulations_NTU/src/Qibo/test3.ipynb#W0sZmlsZQ%3D%3D?line=34'>35</a>\u001b[0m \u001b[39m# execute on quantum hardware\u001b[39;00m\n\u001b[0;32m     <a href='vscode-notebook-cell:/d%3A/Code/NTU-control/SC_qubit_control_simulations_NTU/src/Qibo/test3.ipynb#W0sZmlsZQ%3D%3D?line=35'>36</a>\u001b[0m qibo\u001b[39m.\u001b[39mset_backend(\u001b[39m\"\u001b[39m\u001b[39mqibolab\u001b[39m\u001b[39m\"\u001b[39m, \u001b[39m\"\u001b[39m\u001b[39mdummy\u001b[39m\u001b[39m\"\u001b[39m)\n\u001b[1;32m---> <a href='vscode-notebook-cell:/d%3A/Code/NTU-control/SC_qubit_control_simulations_NTU/src/Qibo/test3.ipynb#W0sZmlsZQ%3D%3D?line=36'>37</a>\u001b[0m hardware \u001b[39m=\u001b[39m execute_rotation()\n\u001b[0;32m     <a href='vscode-notebook-cell:/d%3A/Code/NTU-control/SC_qubit_control_simulations_NTU/src/Qibo/test3.ipynb#W0sZmlsZQ%3D%3D?line=38'>39</a>\u001b[0m \u001b[39m# execute with classical quantum simulation\u001b[39;00m\n\u001b[0;32m     <a href='vscode-notebook-cell:/d%3A/Code/NTU-control/SC_qubit_control_simulations_NTU/src/Qibo/test3.ipynb#W0sZmlsZQ%3D%3D?line=39'>40</a>\u001b[0m qibo\u001b[39m.\u001b[39mset_backend(\u001b[39m\"\u001b[39m\u001b[39mnumpy\u001b[39m\u001b[39m\"\u001b[39m)\n",
      "\u001b[1;32md:\\Code\\NTU-control\\SC_qubit_control_simulations_NTU\\src\\Qibo\\test3.ipynb Cell 1\u001b[0m line \u001b[0;36m2\n\u001b[0;32m     <a href='vscode-notebook-cell:/d%3A/Code/NTU-control/SC_qubit_control_simulations_NTU/src/Qibo/test3.ipynb#W0sZmlsZQ%3D%3D?line=17'>18</a>\u001b[0m res \u001b[39m=\u001b[39m []\n\u001b[0;32m     <a href='vscode-notebook-cell:/d%3A/Code/NTU-control/SC_qubit_control_simulations_NTU/src/Qibo/test3.ipynb#W0sZmlsZQ%3D%3D?line=18'>19</a>\u001b[0m \u001b[39mfor\u001b[39;00m angle \u001b[39min\u001b[39;00m exp_angles:\n\u001b[0;32m     <a href='vscode-notebook-cell:/d%3A/Code/NTU-control/SC_qubit_control_simulations_NTU/src/Qibo/test3.ipynb#W0sZmlsZQ%3D%3D?line=19'>20</a>\u001b[0m     \u001b[39m# update circuit's rotation angle\u001b[39;00m\n\u001b[1;32m---> <a href='vscode-notebook-cell:/d%3A/Code/NTU-control/SC_qubit_control_simulations_NTU/src/Qibo/test3.ipynb#W0sZmlsZQ%3D%3D?line=20'>21</a>\u001b[0m     circuit\u001b[39m.\u001b[39;49mset_parameters([angle])\n\u001b[0;32m     <a href='vscode-notebook-cell:/d%3A/Code/NTU-control/SC_qubit_control_simulations_NTU/src/Qibo/test3.ipynb#W0sZmlsZQ%3D%3D?line=22'>23</a>\u001b[0m     \u001b[39m# execute circuit\u001b[39;00m\n\u001b[0;32m     <a href='vscode-notebook-cell:/d%3A/Code/NTU-control/SC_qubit_control_simulations_NTU/src/Qibo/test3.ipynb#W0sZmlsZQ%3D%3D?line=23'>24</a>\u001b[0m     result \u001b[39m=\u001b[39m circuit\u001b[39m.\u001b[39mexecute(nshots\u001b[39m=\u001b[39m\u001b[39m4000\u001b[39m)\n",
      "File \u001b[1;32m~\\AppData\\Local\\Packages\\PythonSoftwareFoundation.Python.3.11_qbz5n2kfra8p0\\LocalCache\\local-packages\\Python311\\site-packages\\qibo\\models\\circuit.py:760\u001b[0m, in \u001b[0;36mCircuit.set_parameters\u001b[1;34m(self, parameters)\u001b[0m\n\u001b[0;32m    758\u001b[0m     \u001b[39mexcept\u001b[39;00m \u001b[39mAttributeError\u001b[39;00m:\n\u001b[0;32m    759\u001b[0m         nparams \u001b[39m=\u001b[39m \u001b[39mlen\u001b[39m(parameters)\n\u001b[1;32m--> 760\u001b[0m     \u001b[39mself\u001b[39;49m\u001b[39m.\u001b[39;49m_set_parameters_list(parameters, nparams)\n\u001b[0;32m    761\u001b[0m \u001b[39melse\u001b[39;00m:\n\u001b[0;32m    762\u001b[0m     raise_error(\u001b[39mTypeError\u001b[39;00m, \u001b[39mf\u001b[39m\u001b[39m\"\u001b[39m\u001b[39mInvalid type of parameters \u001b[39m\u001b[39m{\u001b[39;00m\u001b[39mtype\u001b[39m(parameters)\u001b[39m}\u001b[39;00m\u001b[39m.\u001b[39m\u001b[39m\"\u001b[39m)\n",
      "File \u001b[1;32m~\\AppData\\Local\\Packages\\PythonSoftwareFoundation.Python.3.11_qbz5n2kfra8p0\\LocalCache\\local-packages\\Python311\\site-packages\\qibo\\models\\circuit.py:692\u001b[0m, in \u001b[0;36mCircuit._set_parameters_list\u001b[1;34m(self, parameters, n)\u001b[0m\n\u001b[0;32m    690\u001b[0m         k \u001b[39m+\u001b[39m\u001b[39m=\u001b[39m gate\u001b[39m.\u001b[39mnparams \u001b[39m-\u001b[39m \u001b[39m1\u001b[39m\n\u001b[0;32m    691\u001b[0m \u001b[39melse\u001b[39;00m:\n\u001b[1;32m--> 692\u001b[0m     raise_error(\n\u001b[0;32m    693\u001b[0m         \u001b[39mValueError\u001b[39;49;00m,\n\u001b[0;32m    694\u001b[0m         \u001b[39mf\u001b[39;49m\u001b[39m\"\u001b[39;49m\u001b[39mGiven list of parameters has length \u001b[39;49m\u001b[39m{\u001b[39;49;00mn\u001b[39m}\u001b[39;49;00m\u001b[39m while \u001b[39;49m\u001b[39m\"\u001b[39;49m\n\u001b[0;32m    695\u001b[0m         \u001b[39m+\u001b[39;49m \u001b[39mf\u001b[39;49m\u001b[39m\"\u001b[39;49m\u001b[39mthe circuit contains \u001b[39;49m\u001b[39m{\u001b[39;49;00m\u001b[39mlen\u001b[39;49m(\u001b[39mself\u001b[39;49m\u001b[39m.\u001b[39;49mtrainable_gates)\u001b[39m}\u001b[39;49;00m\u001b[39m parametrized gates.\u001b[39;49m\u001b[39m\"\u001b[39;49m,\n\u001b[0;32m    696\u001b[0m     )\n",
      "File \u001b[1;32m~\\AppData\\Local\\Packages\\PythonSoftwareFoundation.Python.3.11_qbz5n2kfra8p0\\LocalCache\\local-packages\\Python311\\site-packages\\qibo\\config.py:48\u001b[0m, in \u001b[0;36mraise_error\u001b[1;34m(exception, message, args)\u001b[0m\n\u001b[0;32m     46\u001b[0m     \u001b[39mraise\u001b[39;00m exception(message, args)\n\u001b[0;32m     47\u001b[0m \u001b[39melse\u001b[39;00m:\n\u001b[1;32m---> 48\u001b[0m     \u001b[39mraise\u001b[39;00m exception(message)\n",
      "\u001b[1;31mValueError\u001b[0m: Given list of parameters has length 1 while the circuit contains 2 parametrized gates."
     ]
    }
   ],
   "source": [
    "import matplotlib.pyplot as plt\n",
    "import numpy as np\n",
    "import qibo\n",
    "from qibo import Circuit, gates\n",
    "\n",
    "\n",
    "def execute_rotation():\n",
    "    # create single qubit circuit\n",
    "    circuit = Circuit(2)\n",
    "\n",
    "    # attach Rotation on X-Pauli with angle = 0\n",
    "    circuit.add(gates.RX(0, theta=0))\n",
    "    circuit.add(gates.RX(0, theta=0))\n",
    "\n",
    "    # define range of angles from [0, 2pi]\n",
    "    exp_angles = np.arange(0, 2 * np.pi, np.pi / 16)\n",
    "\n",
    "    res = []\n",
    "    for angle in exp_angles:\n",
    "        # update circuit's rotation angle\n",
    "        circuit.set_parameters([angle])\n",
    "\n",
    "        # execute circuit\n",
    "        result = circuit.execute(nshots=4000)\n",
    "        freq = result.frequencies()\n",
    "        p0 = freq['0'] / 4000 if '0' in freq else 0\n",
    "        p1 = freq['1'] / 4000 if '1' in freq else 0\n",
    "\n",
    "        # store probability in state |1>\n",
    "        res.append(p1)\n",
    "\n",
    "    return res\n",
    "\n",
    "\n",
    "# execute on quantum hardware\n",
    "qibo.set_backend(\"qibolab\", \"dummy\")\n",
    "hardware = execute_rotation()\n",
    "\n",
    "# execute with classical quantum simulation\n",
    "qibo.set_backend(\"numpy\")\n",
    "simulation = execute_rotation()\n",
    "\n",
    "# plot results\n",
    "exp_angles = np.arange(0, 2 * np.pi, np.pi / 16)\n",
    "plt.plot(exp_angles, hardware, label=\"qibolab hardware\")\n",
    "plt.plot(exp_angles, simulation, label=\"numpy\")\n",
    "\n",
    "plt.legend()\n",
    "plt.ylabel(\"P(1)\")\n",
    "plt.xlabel(\"Rotation [rad]\")\n",
    "plt.show()"
   ]
  },
  {
   "cell_type": "code",
   "execution_count": 26,
   "metadata": {},
   "outputs": [
    {
     "ename": "AttributeError",
     "evalue": "module 'qibo.gates' has no attribute 'ZZ'",
     "output_type": "error",
     "traceback": [
      "\u001b[1;31m---------------------------------------------------------------------------\u001b[0m",
      "\u001b[1;31mAttributeError\u001b[0m                            Traceback (most recent call last)",
      "\u001b[1;32md:\\Code\\NTU-control\\SC_qubit_control_simulations_NTU\\src\\Qibo\\test3.ipynb Cell 2\u001b[0m line \u001b[0;36m1\n\u001b[0;32m     <a href='vscode-notebook-cell:/d%3A/Code/NTU-control/SC_qubit_control_simulations_NTU/src/Qibo/test3.ipynb#W1sZmlsZQ%3D%3D?line=9'>10</a>\u001b[0m \u001b[39m# attach Hadamard gate and a measurement\u001b[39;00m\n\u001b[0;32m     <a href='vscode-notebook-cell:/d%3A/Code/NTU-control/SC_qubit_control_simulations_NTU/src/Qibo/test3.ipynb#W1sZmlsZQ%3D%3D?line=10'>11</a>\u001b[0m circuit\u001b[39m.\u001b[39madd(gates\u001b[39m.\u001b[39mX(\u001b[39m0\u001b[39m))\n\u001b[1;32m---> <a href='vscode-notebook-cell:/d%3A/Code/NTU-control/SC_qubit_control_simulations_NTU/src/Qibo/test3.ipynb#W1sZmlsZQ%3D%3D?line=11'>12</a>\u001b[0m circuit\u001b[39m.\u001b[39madd(gates\u001b[39m.\u001b[39;49mZZ(\u001b[39m0\u001b[39m,\u001b[39m1\u001b[39m))\n\u001b[0;32m     <a href='vscode-notebook-cell:/d%3A/Code/NTU-control/SC_qubit_control_simulations_NTU/src/Qibo/test3.ipynb#W1sZmlsZQ%3D%3D?line=12'>13</a>\u001b[0m circuit\u001b[39m.\u001b[39madd(gates\u001b[39m.\u001b[39mX(\u001b[39m0\u001b[39m))\n\u001b[0;32m     <a href='vscode-notebook-cell:/d%3A/Code/NTU-control/SC_qubit_control_simulations_NTU/src/Qibo/test3.ipynb#W1sZmlsZQ%3D%3D?line=13'>14</a>\u001b[0m circuit\u001b[39m.\u001b[39madd(gates\u001b[39m.\u001b[39mM(\u001b[39m0\u001b[39m,\u001b[39m1\u001b[39m))\n",
      "\u001b[1;31mAttributeError\u001b[0m: module 'qibo.gates' has no attribute 'ZZ'"
     ]
    },
    {
     "ename": "",
     "evalue": "",
     "output_type": "error",
     "traceback": [
      "\u001b[1;31mThe Kernel crashed while executing code in the the current cell or a previous cell. Please review the code in the cell(s) to identify a possible cause of the failure. Click <a href='https://aka.ms/vscodeJupyterKernelCrash'>here</a> for more info. View Jupyter <a href='command:jupyter.viewOutput'>log</a> for further details."
     ]
    }
   ],
   "source": [
    "import numpy as np\n",
    "import qibo\n",
    "from qibo import Circuit, gates\n",
    "\n",
    "np.random.seed(0)\n",
    "\n",
    "# create a single qubit circuit\n",
    "circuit = Circuit(2)\n",
    "\n",
    "# attach Hadamard gate and a measurement\n",
    "circuit.add(gates.X(0))\n",
    "circuit.add(gates.ZZ(0,1))\n",
    "circuit.add(gates.X(0))\n",
    "circuit.add(gates.M(0,1))\n",
    "print(circuit.draw())\n",
    "# execute on quantum hardware\n",
    "qibo.set_backend(\"qibolab\", \"dummy\")\n",
    "hardware_result = circuit(nshots=5000)\n",
    "\n",
    "# retrieve measured probabilities\n",
    "freq = hardware_result.frequencies()\n",
    "p0 = freq[\"0\"] / 5000 if \"0\" in freq else 0\n",
    "p1 = freq[\"1\"] / 5000 if \"1\" in freq else 0\n",
    "hardware = [p0, p1]\n",
    "\n",
    "# execute with classical quantum simulation\n",
    "qibo.set_backend(\"numpy\")\n",
    "simulation_result = circuit(nshots=5000)\n",
    "\n",
    "simulation = simulation_result.probabilities(qubits=(0,))"
   ]
  },
  {
   "cell_type": "code",
   "execution_count": 22,
   "metadata": {},
   "outputs": [
    {
     "name": "stdout",
     "output_type": "stream",
     "text": [
      "Qibolab: P(0) = 0.00\tP(1) = 0.00\n",
      "Numpy:   P(0) = 1.00\tP(1) = 0.00\n"
     ]
    }
   ],
   "source": [
    "print(f\"Qibolab: P(0) = {hardware[0]:.2f}\\tP(1) = {hardware[1]:.2f}\")\n",
    "print(f\"Numpy:   P(0) = {simulation[0]:.2f}\\tP(1) = {simulation[1]:.2f}\")"
   ]
  },
  {
   "cell_type": "code",
   "execution_count": 23,
   "metadata": {},
   "outputs": [
    {
     "data": {
      "text/plain": [
       "Counter({'10': 1311, '00': 1239, '11': 1230, '01': 1220})"
      ]
     },
     "execution_count": 23,
     "metadata": {},
     "output_type": "execute_result"
    }
   ],
   "source": [
    "freq"
   ]
  },
  {
   "cell_type": "code",
   "execution_count": 24,
   "metadata": {},
   "outputs": [
    {
     "data": {
      "text/plain": [
       "array([1., 0.])"
      ]
     },
     "execution_count": 24,
     "metadata": {},
     "output_type": "execute_result"
    }
   ],
   "source": [
    "simulation"
   ]
  },
  {
   "cell_type": "code",
   "execution_count": null,
   "metadata": {},
   "outputs": [],
   "source": []
  }
 ],
 "metadata": {
  "kernelspec": {
   "display_name": "Python 3",
   "language": "python",
   "name": "python3"
  },
  "language_info": {
   "codemirror_mode": {
    "name": "ipython",
    "version": 3
   },
   "file_extension": ".py",
   "mimetype": "text/x-python",
   "name": "python",
   "nbconvert_exporter": "python",
   "pygments_lexer": "ipython3",
   "version": "3.11.6"
  }
 },
 "nbformat": 4,
 "nbformat_minor": 2
}
